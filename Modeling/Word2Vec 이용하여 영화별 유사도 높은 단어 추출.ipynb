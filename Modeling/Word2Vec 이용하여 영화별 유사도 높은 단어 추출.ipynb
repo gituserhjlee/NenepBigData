{
 "cells": [
  {
   "cell_type": "code",
   "execution_count": 1,
   "metadata": {},
   "outputs": [],
   "source": [
    "%matplotlib inline\n",
    "import os\n",
    "import matplotlib.pyplot as plt\n",
    "import pandas as pd\n",
    "import numpy as np\n",
    "import emoji\n",
    "import re\n",
    "\n",
    "from nltk.corpus import stopwords\n",
    "from nltk.corpus import wordnet\n",
    "from nltk.tag import pos_tag\n",
    "from nltk.stem import WordNetLemmatizer\n",
    "\n",
    "from gensim.models.word2vec import Word2Vec"
   ]
  },
  {
   "cell_type": "code",
   "execution_count": 2,
   "metadata": {},
   "outputs": [
    {
     "data": {
      "text/plain": [
       "['365dni.csv',\n",
       " 'AfterWeCollided.csv',\n",
       " 'Chhalaang.csv',\n",
       " 'Deadpool.csv',\n",
       " 'Dolittle.csv',\n",
       " 'Emma..csv',\n",
       " 'EnolaHolmes .csv',\n",
       " 'freaky.csv',\n",
       " 'Gisaengchung.csv',\n",
       " 'greenland.csv',\n",
       " 'Hamilton.csv',\n",
       " 'holidate.csv',\n",
       " 'homeAlone.csv',\n",
       " 'JingleJangleAChristmasJourney.csv',\n",
       " 'JiuJitsu.csv',\n",
       " 'Loimpossible.csv',\n",
       " 'LoveActually.csv',\n",
       " 'Ludo.csv',\n",
       " 'meganIsMissing.csv',\n",
       " 'MonsterProblems.csv',\n",
       " 'Mulan.csv',\n",
       " 'Nokeunokeu.csv',\n",
       " 'Rebecca.csv',\n",
       " 'SooraraiPottru.csv',\n",
       " 'Spider-ManIntotheSpider-Verse.csv',\n",
       " 'TheNewMutants.csv',\n",
       " 'TheTrialoftheChicago7.csv',\n",
       " 'TheWitches.csv',\n",
       " 'ThorRagnarok.csv',\n",
       " 'Unhinged.csv']"
      ]
     },
     "execution_count": 2,
     "metadata": {},
     "output_type": "execute_result"
    }
   ],
   "source": [
    "os.listdir(\"tokenDatas\")"
   ]
  },
  {
   "cell_type": "code",
   "execution_count": 13,
   "metadata": {},
   "outputs": [],
   "source": [
    "path = os.listdir(\"tokenDatas\")\n",
    "def load_data(path):\n",
    "    movie_review = []\n",
    "    ma = movie_review.append\n",
    "    for movie in path:\n",
    "        data = pd.read_csv(\"tokenDatas\\\\\"+movie, names = [\"idx\", \"review\"])\n",
    "        data = data.iloc[1:,1:]\n",
    "        review_list = []\n",
    "        ra = review_list.append\n",
    "        for i in range(len(data)):\n",
    "            ra(data.iloc[i,0])\n",
    "        ma(review_list)\n",
    "    return movie_review"
   ]
  },
  {
   "cell_type": "code",
   "execution_count": 14,
   "metadata": {},
   "outputs": [],
   "source": [
    "token_data = load_data(path)"
   ]
  },
  {
   "cell_type": "code",
   "execution_count": 40,
   "metadata": {},
   "outputs": [],
   "source": [
    "# for i in range(30):\n",
    "#     for idx,review in enumerate(token_data[i]):\n",
    "#         token_data[i][idx]=review.split(\" \")\n",
    "\n",
    "csv = re.compile(r\"[.]{1}[\\w]+\")\n",
    "for i in range(30):\n",
    "    for token_list in token_data[i]:\n",
    "        token_list.append(csv.sub('',path[i]))"
   ]
  },
  {
   "cell_type": "markdown",
   "metadata": {},
   "source": [
    "## 모형 구축\n",
    "\n",
    "CBOW --> 주변의 단어를 이용해 하나의 단어를 찾기    \n",
    "Skip-gram --> 하나의 단어에서 여러 단어를 예측    "
   ]
  },
  {
   "cell_type": "code",
   "execution_count": 54,
   "metadata": {},
   "outputs": [],
   "source": [
    "model = Word2Vec(token_data[29],\n",
    "                sg = 1,\n",
    "                window = 5,\n",
    "                min_count = 1\n",
    "                )\n",
    "model.init_sims(replace = True)"
   ]
  },
  {
   "cell_type": "code",
   "execution_count": 55,
   "metadata": {},
   "outputs": [
    {
     "data": {
      "text/plain": [
       "['rating',\n",
       " 'mainly',\n",
       " 'mean',\n",
       " 'give',\n",
       " 'courtesy',\n",
       " 'honk',\n",
       " 'first',\n",
       " 'place',\n",
       " 'avoid',\n",
       " 'Unhinged']"
      ]
     },
     "execution_count": 55,
     "metadata": {},
     "output_type": "execute_result"
    }
   ],
   "source": [
    "token_data[29][0]"
   ]
  },
  {
   "cell_type": "code",
   "execution_count": 56,
   "metadata": {
    "scrolled": true
   },
   "outputs": [
    {
     "data": {
      "text/html": [
       "<div>\n",
       "<style scoped>\n",
       "    .dataframe tbody tr th:only-of-type {\n",
       "        vertical-align: middle;\n",
       "    }\n",
       "\n",
       "    .dataframe tbody tr th {\n",
       "        vertical-align: top;\n",
       "    }\n",
       "\n",
       "    .dataframe thead th {\n",
       "        text-align: right;\n",
       "    }\n",
       "</style>\n",
       "<table border=\"1\" class=\"dataframe\">\n",
       "  <thead>\n",
       "    <tr style=\"text-align: right;\">\n",
       "      <th></th>\n",
       "      <th>단어</th>\n",
       "      <th>유사도</th>\n",
       "    </tr>\n",
       "  </thead>\n",
       "  <tbody>\n",
       "    <tr>\n",
       "      <th>0</th>\n",
       "      <td>thrill</td>\n",
       "      <td>0.999629</td>\n",
       "    </tr>\n",
       "    <tr>\n",
       "      <th>1</th>\n",
       "      <td>entertain</td>\n",
       "      <td>0.999617</td>\n",
       "    </tr>\n",
       "    <tr>\n",
       "      <th>2</th>\n",
       "      <td>say</td>\n",
       "      <td>0.999607</td>\n",
       "    </tr>\n",
       "    <tr>\n",
       "      <th>3</th>\n",
       "      <td>scary</td>\n",
       "      <td>0.999604</td>\n",
       "    </tr>\n",
       "    <tr>\n",
       "      <th>4</th>\n",
       "      <td>intense</td>\n",
       "      <td>0.999601</td>\n",
       "    </tr>\n",
       "    <tr>\n",
       "      <th>5</th>\n",
       "      <td>though</td>\n",
       "      <td>0.999598</td>\n",
       "    </tr>\n",
       "    <tr>\n",
       "      <th>6</th>\n",
       "      <td>suspense</td>\n",
       "      <td>0.999592</td>\n",
       "    </tr>\n",
       "    <tr>\n",
       "      <th>7</th>\n",
       "      <td>expect</td>\n",
       "      <td>0.999584</td>\n",
       "    </tr>\n",
       "    <tr>\n",
       "      <th>8</th>\n",
       "      <td>dumb</td>\n",
       "      <td>0.999583</td>\n",
       "    </tr>\n",
       "    <tr>\n",
       "      <th>9</th>\n",
       "      <td>anything</td>\n",
       "      <td>0.999582</td>\n",
       "    </tr>\n",
       "    <tr>\n",
       "      <th>10</th>\n",
       "      <td>low</td>\n",
       "      <td>0.999580</td>\n",
       "    </tr>\n",
       "    <tr>\n",
       "      <th>11</th>\n",
       "      <td>end</td>\n",
       "      <td>0.999579</td>\n",
       "    </tr>\n",
       "    <tr>\n",
       "      <th>12</th>\n",
       "      <td>enjoyed</td>\n",
       "      <td>0.999578</td>\n",
       "    </tr>\n",
       "    <tr>\n",
       "      <th>13</th>\n",
       "      <td>jump</td>\n",
       "      <td>0.999578</td>\n",
       "    </tr>\n",
       "    <tr>\n",
       "      <th>14</th>\n",
       "      <td>pace</td>\n",
       "      <td>0.999574</td>\n",
       "    </tr>\n",
       "    <tr>\n",
       "      <th>15</th>\n",
       "      <td>unrealistic</td>\n",
       "      <td>0.999574</td>\n",
       "    </tr>\n",
       "    <tr>\n",
       "      <th>16</th>\n",
       "      <td>definitely</td>\n",
       "      <td>0.999571</td>\n",
       "    </tr>\n",
       "    <tr>\n",
       "      <th>17</th>\n",
       "      <td>lack</td>\n",
       "      <td>0.999571</td>\n",
       "    </tr>\n",
       "    <tr>\n",
       "      <th>18</th>\n",
       "      <td>really</td>\n",
       "      <td>0.999570</td>\n",
       "    </tr>\n",
       "    <tr>\n",
       "      <th>19</th>\n",
       "      <td>realistic</td>\n",
       "      <td>0.999569</td>\n",
       "    </tr>\n",
       "  </tbody>\n",
       "</table>\n",
       "</div>"
      ],
      "text/plain": [
       "             단어       유사도\n",
       "0        thrill  0.999629\n",
       "1     entertain  0.999617\n",
       "2           say  0.999607\n",
       "3         scary  0.999604\n",
       "4       intense  0.999601\n",
       "5        though  0.999598\n",
       "6      suspense  0.999592\n",
       "7        expect  0.999584\n",
       "8          dumb  0.999583\n",
       "9      anything  0.999582\n",
       "10          low  0.999580\n",
       "11          end  0.999579\n",
       "12      enjoyed  0.999578\n",
       "13         jump  0.999578\n",
       "14         pace  0.999574\n",
       "15  unrealistic  0.999574\n",
       "16   definitely  0.999571\n",
       "17         lack  0.999571\n",
       "18       really  0.999570\n",
       "19    realistic  0.999569"
      ]
     },
     "execution_count": 56,
     "metadata": {},
     "output_type": "execute_result"
    }
   ],
   "source": [
    "pd.DataFrame(model.wv.most_similar('Unhinged',topn = 20),columns = ['단어','유사도'])"
   ]
  }
 ],
 "metadata": {
  "kernelspec": {
   "display_name": "Python 3",
   "language": "python",
   "name": "python3"
  },
  "language_info": {
   "codemirror_mode": {
    "name": "ipython",
    "version": 3
   },
   "file_extension": ".py",
   "mimetype": "text/x-python",
   "name": "python",
   "nbconvert_exporter": "python",
   "pygments_lexer": "ipython3",
   "version": "3.7.1"
  }
 },
 "nbformat": 4,
 "nbformat_minor": 4
}
