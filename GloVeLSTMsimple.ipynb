{
  "nbformat": 4,
  "nbformat_minor": 0,
  "metadata": {
    "colab": {
      "name": "GloVeLSTMsimple.ipynb",
      "provenance": [],
      "collapsed_sections": [],
      "authorship_tag": "ABX9TyPTq2X1O9i+vMYmFQ0Zp7EA",
      "include_colab_link": true
    },
    "kernelspec": {
      "name": "python3",
      "display_name": "Python 3"
    }
  },
  "cells": [
    {
      "cell_type": "markdown",
      "metadata": {
        "id": "view-in-github",
        "colab_type": "text"
      },
      "source": [
        "<a href=\"https://colab.research.google.com/github/thdgmltjd123/NenepBigData/blob/master/GloVeLSTMsimple.ipynb\" target=\"_parent\"><img src=\"https://colab.research.google.com/assets/colab-badge.svg\" alt=\"Open In Colab\"/></a>"
      ]
    },
    {
      "cell_type": "code",
      "metadata": {
        "colab": {
          "base_uri": "https://localhost:8080/"
        },
        "id": "oDcdBV4EpqcM",
        "outputId": "bf4a1b73-2f0a-43d1-cfb2-833710546f22"
      },
      "source": [
        "#구글 드라이브와 코랩 마운트하기\n",
        "from google.colab import drive\n",
        "drive.mount('/content/drive')"
      ],
      "execution_count": 1,
      "outputs": [
        {
          "output_type": "stream",
          "text": [
            "Mounted at /content/drive\n"
          ],
          "name": "stdout"
        }
      ]
    },
    {
      "cell_type": "code",
      "metadata": {
        "id": "RwaFTHElpwtM"
      },
      "source": [
        "%matplotlib inline\n",
        "import copy\n",
        "import os\n",
        "import matplotlib.pyplot as plt\n",
        "import pandas as pd\n",
        "import numpy as np\n",
        "\n",
        "SEED = 123\n",
        "import torch\n",
        "import torch.nn as nn\n",
        "import torch.optim as optim\n",
        "import torch.nn.functional as F\n",
        "from torchtext import data, datasets\n",
        "torch.manual_seed(SEED)\n",
        "torch.cuda.manual_seed(SEED)\n",
        "\n",
        "from sklearn.metrics import classification_report\n",
        "from sklearn.model_selection import train_test_split\n",
        "from gensim.models.word2vec import Word2Vec"
      ],
      "execution_count": 44,
      "outputs": []
    },
    {
      "cell_type": "code",
      "metadata": {
        "id": "2LsJvm5Hp8W7"
      },
      "source": [
        "dataset = pd.read_csv(\"/content/drive/MyDrive/Colab Notebooks/bigdata/lemmatizing.csv\",index_col = 0)"
      ],
      "execution_count": 5,
      "outputs": []
    },
    {
      "cell_type": "markdown",
      "metadata": {
        "id": "o9ApC_SDqpzy"
      },
      "source": [
        "# **Split Train and Test Data**"
      ]
    },
    {
      "cell_type": "code",
      "metadata": {
        "id": "fLGnGv50qFXr"
      },
      "source": [
        "review_train, review_test, label_train, label_test = train_test_split(dataset.iloc[:,0],dataset.iloc[:,1], test_size = 0.3, stratify = dataset.iloc[:,1], random_state = 777)"
      ],
      "execution_count": 7,
      "outputs": []
    },
    {
      "cell_type": "code",
      "metadata": {
        "colab": {
          "base_uri": "https://localhost:8080/"
        },
        "id": "CWkyTehHqKjx",
        "outputId": "482fa16a-04b5-4aa7-c0d5-a8a99d80b0dc"
      },
      "source": [
        "review_train.head()"
      ],
      "execution_count": 8,
      "outputs": [
        {
          "output_type": "execute_result",
          "data": {
            "text/plain": [
              "52602    connect comic source material love god movie e...\n",
              "72095    happy see justice do childhood favourite story...\n",
              "84135    bad story nothing enjoyablefighting scene bad ...\n",
              "15122    almost like watched different movie begin slow...\n",
              "36430    movie confuse still ask question still many tw...\n",
              "Name: review, dtype: object"
            ]
          },
          "metadata": {
            "tags": []
          },
          "execution_count": 8
        }
      ]
    },
    {
      "cell_type": "code",
      "metadata": {
        "colab": {
          "base_uri": "https://localhost:8080/"
        },
        "id": "DaDvbMgnrivy",
        "outputId": "67dcdcc7-cf76-472d-b24b-ed4a485eb650"
      },
      "source": [
        "label_train.value_counts()"
      ],
      "execution_count": 10,
      "outputs": [
        {
          "output_type": "execute_result",
          "data": {
            "text/plain": [
              "5    17887\n",
              "3    17029\n",
              "7    15872\n",
              "0    12158\n",
              "2    11189\n",
              "8    10582\n",
              "1     7912\n",
              "4     6686\n",
              "6     3375\n",
              "Name: label, dtype: int64"
            ]
          },
          "metadata": {
            "tags": []
          },
          "execution_count": 10
        }
      ]
    },
    {
      "cell_type": "code",
      "metadata": {
        "colab": {
          "base_uri": "https://localhost:8080/"
        },
        "id": "qMvmqLHXsN15",
        "outputId": "e5c7f67e-433b-4487-c279-82e349390122"
      },
      "source": [
        "is_cuda = torch.cuda.is_available()\n",
        "print(\"Cuda Status on system is {}\".format(is_cuda))"
      ],
      "execution_count": 11,
      "outputs": [
        {
          "output_type": "stream",
          "text": [
            "Cuda Status on system is False\n"
          ],
          "name": "stdout"
        }
      ]
    },
    {
      "cell_type": "code",
      "metadata": {
        "id": "DBc24wZTtkJF"
      },
      "source": [
        "device = torch.device('cuda' if torch.cuda.is_available() else 'cpu')"
      ],
      "execution_count": 13,
      "outputs": []
    },
    {
      "cell_type": "markdown",
      "metadata": {
        "id": "tb_0ue9t4mr4"
      },
      "source": [
        "# **Number of words each review**"
      ]
    },
    {
      "cell_type": "code",
      "metadata": {
        "id": "8a3pz_Ix2iOc"
      },
      "source": [
        "li=list(review_train)\n",
        "tot = []\n",
        "for review in li:\n",
        "  temp = review.split()\n",
        "  tot.append(len(temp))"
      ],
      "execution_count": 31,
      "outputs": []
    },
    {
      "cell_type": "code",
      "metadata": {
        "colab": {
          "base_uri": "https://localhost:8080/",
          "height": 391
        },
        "id": "5vJnHN9t3yC2",
        "outputId": "d40f1685-0150-46fb-b9f0-e3df49ee2a84"
      },
      "source": [
        "plt.figure(figsize = (10,6))\n",
        "plt.scatter(range(len(tot)),tot)\n",
        "plt.show"
      ],
      "execution_count": 37,
      "outputs": [
        {
          "output_type": "execute_result",
          "data": {
            "text/plain": [
              "<function matplotlib.pyplot.show>"
            ]
          },
          "metadata": {
            "tags": []
          },
          "execution_count": 37
        },
        {
          "output_type": "display_data",
          "data": {
            "image/png": "[encoded data removed]",
            "text/plain": [
              "<Figure size 720x432 with 1 Axes>"
            ]
          },
          "metadata": {
            "tags": [],
            "needs_background": "light"
          }
        }
      ]
    },
    {
      "cell_type": "markdown",
      "metadata": {
        "id": "mF9h7MWay2MG"
      },
      "source": [
        "# **Pre-trained GloVe vectors from Stanford**"
      ]
    },
    {
      "cell_type": "code",
      "metadata": {
        "colab": {
          "base_uri": "https://localhost:8080/"
        },
        "id": "BLXiNZyp5t8Q",
        "outputId": "7289cf79-103f-4c6b-abad-ddcc667be53b"
      },
      "source": [
        "!wget http://nlp.stanford.edu/data/glove.6B.zip\n",
        "!unzip glove*.zip"
      ],
      "execution_count": 40,
      "outputs": [
        {
          "output_type": "stream",
          "text": [
            "--2020-12-12 21:42:01--  http://nlp.stanford.edu/data/glove.6B.zip\n",
            "Resolving nlp.stanford.edu (nlp.stanford.edu)... 171.64.67.140\n",
            "Connecting to nlp.stanford.edu (nlp.stanford.edu)|171.64.67.140|:80... connected.\n",
            "HTTP request sent, awaiting response... 302 Found\n",
            "Location: https://nlp.stanford.edu/data/glove.6B.zip [following]\n",
            "--2020-12-12 21:42:01--  https://nlp.stanford.edu/data/glove.6B.zip\n",
            "Connecting to nlp.stanford.edu (nlp.stanford.edu)|171.64.67.140|:443... connected.\n",
            "HTTP request sent, awaiting response... 301 Moved Permanently\n",
            "Location: http://downloads.cs.stanford.edu/nlp/data/glove.6B.zip [following]\n",
            "--2020-12-12 21:42:02--  http://downloads.cs.stanford.edu/nlp/data/glove.6B.zip\n",
            "Resolving downloads.cs.stanford.edu (downloads.cs.stanford.edu)... 171.64.64.22\n",
            "Connecting to downloads.cs.stanford.edu (downloads.cs.stanford.edu)|171.64.64.22|:80... connected.\n",
            "HTTP request sent, awaiting response... 200 OK\n",
            "Length: 862182613 (822M) [application/zip]\n",
            "Saving to: ‘glove.6B.zip’\n",
            "\n",
            "glove.6B.zip        100%[===================>] 822.24M  1.94MB/s    in 6m 29s  \n",
            "\n",
            "2020-12-12 21:48:32 (2.11 MB/s) - ‘glove.6B.zip’ saved [862182613/862182613]\n",
            "\n",
            "Archive:  glove.6B.zip\n",
            "  inflating: glove.6B.50d.txt        \n",
            "  inflating: glove.6B.100d.txt       \n",
            "  inflating: glove.6B.200d.txt       \n",
            "  inflating: glove.6B.300d.txt       \n"
          ],
          "name": "stdout"
        }
      ]
    },
    {
      "cell_type": "code",
      "metadata": {
        "colab": {
          "base_uri": "https://localhost:8080/",
          "height": 184
        },
        "id": "Sq3LKxVNCySF",
        "outputId": "c4e144a4-f57c-496c-9a31-4b808aced02d"
      },
      "source": [
        ""
      ],
      "execution_count": 52,
      "outputs": [
        {
          "output_type": "error",
          "ename": "TypeError",
          "evalue": "ignored",
          "traceback": [
            "\u001b[0;31m---------------------------------------------------------------------------\u001b[0m",
            "\u001b[0;31mTypeError\u001b[0m                                 Traceback (most recent call last)",
            "\u001b[0;32m<ipython-input-52-a520832ebdcc>\u001b[0m in \u001b[0;36m<module>\u001b[0;34m()\u001b[0m\n\u001b[0;32m----> 1\u001b[0;31m \u001b[0mrt\u001b[0m \u001b[0;34m=\u001b[0m \u001b[0mtorch\u001b[0m\u001b[0;34m.\u001b[0m\u001b[0mtensor\u001b[0m\u001b[0;34m(\u001b[0m\u001b[0mreview_train\u001b[0m\u001b[0;34m.\u001b[0m\u001b[0mvalues\u001b[0m\u001b[0;34m.\u001b[0m\u001b[0mastype\u001b[0m\u001b[0;34m(\u001b[0m\u001b[0;34m\"str\"\u001b[0m\u001b[0;34m)\u001b[0m\u001b[0;34m)\u001b[0m\u001b[0;34m\u001b[0m\u001b[0;34m\u001b[0m\u001b[0m\n\u001b[0m",
            "\u001b[0;31mTypeError\u001b[0m: can't convert np.ndarray of type numpy.str_. The only supported types are: float64, float32, float16, complex64, complex128, int64, int32, int16, int8, uint8, and bool."
          ]
        }
      ]
    },
    {
      "cell_type": "code",
      "metadata": {
        "id": "zzFF_gw2AzLH"
      },
      "source": [
        "TEXT = data.Field(sequential=True, batch_first = True, lower = True)\n",
        "LABEL = data.Field(sequential=False, batch_first= True)"
      ],
      "execution_count": 47,
      "outputs": []
    },
    {
      "cell_type": "code",
      "metadata": {
        "colab": {
          "base_uri": "https://localhost:8080/",
          "height": 354
        },
        "id": "Sh3v_u7XxOCo",
        "outputId": "4cf5a667-4962-4ec4-c0d2-d0dae535abf4"
      },
      "source": [
        "dataset.splits(TEXT,LABEL)\n",
        "\n",
        "MAX_NB_WORDS = 50000\n",
        "INPUT_DIM = 300\n",
        "EMBEDDING_DIM = 200\n",
        "GloVe_dir = \"glove.6B.\"+str(EMBEDDING_DIM) + \"d.txt\""
      ],
      "execution_count": 46,
      "outputs": [
        {
          "output_type": "error",
          "ename": "AttributeError",
          "evalue": "ignored",
          "traceback": [
            "\u001b[0;31m---------------------------------------------------------------------------\u001b[0m",
            "\u001b[0;31mAttributeError\u001b[0m                            Traceback (most recent call last)",
            "\u001b[0;32m<ipython-input-46-42362fafceee>\u001b[0m in \u001b[0;36m<module>\u001b[0;34m()\u001b[0m\n\u001b[0;32m----> 1\u001b[0;31m \u001b[0mdataset\u001b[0m\u001b[0;34m.\u001b[0m\u001b[0msplits\u001b[0m\u001b[0;34m(\u001b[0m\u001b[0mTEXT\u001b[0m\u001b[0;34m,\u001b[0m\u001b[0mLABEL\u001b[0m\u001b[0;34m)\u001b[0m\u001b[0;34m\u001b[0m\u001b[0;34m\u001b[0m\u001b[0m\n\u001b[0m\u001b[1;32m      2\u001b[0m \u001b[0;34m\u001b[0m\u001b[0m\n\u001b[1;32m      3\u001b[0m \u001b[0mMAX_NB_WORDS\u001b[0m \u001b[0;34m=\u001b[0m \u001b[0;36m50000\u001b[0m\u001b[0;34m\u001b[0m\u001b[0;34m\u001b[0m\u001b[0m\n\u001b[1;32m      4\u001b[0m \u001b[0mINPUT_DIM\u001b[0m \u001b[0;34m=\u001b[0m \u001b[0;36m300\u001b[0m\u001b[0;34m\u001b[0m\u001b[0;34m\u001b[0m\u001b[0m\n\u001b[1;32m      5\u001b[0m \u001b[0mEMBEDDING_DIM\u001b[0m \u001b[0;34m=\u001b[0m \u001b[0;36m200\u001b[0m\u001b[0;34m\u001b[0m\u001b[0;34m\u001b[0m\u001b[0m\n",
            "\u001b[0;32m/usr/local/lib/python3.6/dist-packages/pandas/core/generic.py\u001b[0m in \u001b[0;36m__getattr__\u001b[0;34m(self, name)\u001b[0m\n\u001b[1;32m   5139\u001b[0m             \u001b[0;32mif\u001b[0m \u001b[0mself\u001b[0m\u001b[0;34m.\u001b[0m\u001b[0m_info_axis\u001b[0m\u001b[0;34m.\u001b[0m\u001b[0m_can_hold_identifiers_and_holds_name\u001b[0m\u001b[0;34m(\u001b[0m\u001b[0mname\u001b[0m\u001b[0;34m)\u001b[0m\u001b[0;34m:\u001b[0m\u001b[0;34m\u001b[0m\u001b[0;34m\u001b[0m\u001b[0m\n\u001b[1;32m   5140\u001b[0m                 \u001b[0;32mreturn\u001b[0m \u001b[0mself\u001b[0m\u001b[0;34m[\u001b[0m\u001b[0mname\u001b[0m\u001b[0;34m]\u001b[0m\u001b[0;34m\u001b[0m\u001b[0;34m\u001b[0m\u001b[0m\n\u001b[0;32m-> 5141\u001b[0;31m             \u001b[0;32mreturn\u001b[0m \u001b[0mobject\u001b[0m\u001b[0;34m.\u001b[0m\u001b[0m__getattribute__\u001b[0m\u001b[0;34m(\u001b[0m\u001b[0mself\u001b[0m\u001b[0;34m,\u001b[0m \u001b[0mname\u001b[0m\u001b[0;34m)\u001b[0m\u001b[0;34m\u001b[0m\u001b[0;34m\u001b[0m\u001b[0m\n\u001b[0m\u001b[1;32m   5142\u001b[0m \u001b[0;34m\u001b[0m\u001b[0m\n\u001b[1;32m   5143\u001b[0m     \u001b[0;32mdef\u001b[0m \u001b[0m__setattr__\u001b[0m\u001b[0;34m(\u001b[0m\u001b[0mself\u001b[0m\u001b[0;34m,\u001b[0m \u001b[0mname\u001b[0m\u001b[0;34m:\u001b[0m \u001b[0mstr\u001b[0m\u001b[0;34m,\u001b[0m \u001b[0mvalue\u001b[0m\u001b[0;34m)\u001b[0m \u001b[0;34m->\u001b[0m \u001b[0;32mNone\u001b[0m\u001b[0;34m:\u001b[0m\u001b[0;34m\u001b[0m\u001b[0;34m\u001b[0m\u001b[0m\n",
            "\u001b[0;31mAttributeError\u001b[0m: 'DataFrame' object has no attribute 'splits'"
          ]
        }
      ]
    },
    {
      "cell_type": "code",
      "metadata": {
        "colab": {
          "base_uri": "https://localhost:8080/",
          "height": 252
        },
        "id": "9qpH0gvey18v",
        "outputId": "87c6b418-b691-452b-c4d3-128064b29dee"
      },
      "source": [
        "embeddings_index = {}\n",
        "f = open(GloVe_dir, encoding = \"utf8\")\n",
        "print(\"Loading GloVe from:\", GloVe_dir, '...', end = '')\n",
        "for line in f:\n",
        "  values = line.split()\n",
        "  word = values[0]\n",
        "  embeddings_index[word] = np.asarray(values[1:], dtype = 'float32')\n",
        "f.close\n",
        "print(\"Done\")\n",
        "\n",
        "embedding_matrix = np.random.random((len(word_index) + 1, EMBEDDING_DIM))\n",
        "for word, i in word_index.items():\n",
        "  embedding_vector = embeddings_index.get(word)\n",
        "  if embedding_vector is not None:\n",
        "    embedding_matrix[i] = embedding_vector\n",
        "print(\"All Done\")"
      ],
      "execution_count": 42,
      "outputs": [
        {
          "output_type": "stream",
          "text": [
            "Loading GloVe from: glove.6B.200d.txt ...Done\n"
          ],
          "name": "stdout"
        },
        {
          "output_type": "error",
          "ename": "NameError",
          "evalue": "ignored",
          "traceback": [
            "\u001b[0;31m---------------------------------------------------------------------------\u001b[0m",
            "\u001b[0;31mNameError\u001b[0m                                 Traceback (most recent call last)",
            "\u001b[0;32m<ipython-input-42-993b8ce977a6>\u001b[0m in \u001b[0;36m<module>\u001b[0;34m()\u001b[0m\n\u001b[1;32m      9\u001b[0m \u001b[0mprint\u001b[0m\u001b[0;34m(\u001b[0m\u001b[0;34m\"Done\"\u001b[0m\u001b[0;34m)\u001b[0m\u001b[0;34m\u001b[0m\u001b[0;34m\u001b[0m\u001b[0m\n\u001b[1;32m     10\u001b[0m \u001b[0;34m\u001b[0m\u001b[0m\n\u001b[0;32m---> 11\u001b[0;31m \u001b[0membedding_matrix\u001b[0m \u001b[0;34m=\u001b[0m \u001b[0mnp\u001b[0m\u001b[0;34m.\u001b[0m\u001b[0mrandom\u001b[0m\u001b[0;34m.\u001b[0m\u001b[0mrandom\u001b[0m\u001b[0;34m(\u001b[0m\u001b[0;34m(\u001b[0m\u001b[0mlen\u001b[0m\u001b[0;34m(\u001b[0m\u001b[0mword_index\u001b[0m\u001b[0;34m)\u001b[0m \u001b[0;34m+\u001b[0m \u001b[0;36m1\u001b[0m\u001b[0;34m,\u001b[0m \u001b[0mEMBEDDING_DIM\u001b[0m\u001b[0;34m)\u001b[0m\u001b[0;34m)\u001b[0m\u001b[0;34m\u001b[0m\u001b[0;34m\u001b[0m\u001b[0m\n\u001b[0m\u001b[1;32m     12\u001b[0m \u001b[0;32mfor\u001b[0m \u001b[0mword\u001b[0m\u001b[0;34m,\u001b[0m \u001b[0mi\u001b[0m \u001b[0;32min\u001b[0m \u001b[0mword_index\u001b[0m\u001b[0;34m.\u001b[0m\u001b[0mitems\u001b[0m\u001b[0;34m(\u001b[0m\u001b[0;34m)\u001b[0m\u001b[0;34m:\u001b[0m\u001b[0;34m\u001b[0m\u001b[0;34m\u001b[0m\u001b[0m\n\u001b[1;32m     13\u001b[0m   \u001b[0membedding_vector\u001b[0m \u001b[0;34m=\u001b[0m \u001b[0membeddings_index\u001b[0m\u001b[0;34m.\u001b[0m\u001b[0mget\u001b[0m\u001b[0;34m(\u001b[0m\u001b[0mword\u001b[0m\u001b[0;34m)\u001b[0m\u001b[0;34m\u001b[0m\u001b[0;34m\u001b[0m\u001b[0m\n",
            "\u001b[0;31mNameError\u001b[0m: name 'word_index' is not defined"
          ]
        }
      ]
    },
    {
      "cell_type": "code",
      "metadata": {
        "id": "u0nOD_mF6-vn"
      },
      "source": [
        ""
      ],
      "execution_count": null,
      "outputs": []
    },
    {
      "cell_type": "code",
      "metadata": {
        "id": "X-4307lfsooA"
      },
      "source": [
        "#RNN 모델\n",
        "class RNN(nn.Module):\n",
        "  def __init__(self, input_size, hidden_dim):\n",
        "    super().__init__()\n",
        "    self.input_size = input_size\n",
        "    self.hidden_size = hidden_size\n",
        "\n",
        "    # LSTM Layer\n",
        "    self.LSTM = nn.Sequential(\n",
        "        nn.LSTM(\n",
        "        input_size = input_size,\n",
        "        hidden_size = hidden_size,\n",
        "        num_layers = 3,                       # stacked LSTM 3layers\n",
        "        batch_first = True,               \n",
        "        bidirectional = True),                # bidirectionalLSTM\n",
        "        nn.ReLU(),\n",
        "    )\n",
        "    # fully-connected Layer\n",
        "    self.fc1 = nn.Sequential(\n",
        "        nn.Linear(input_size*2, hidden_size),\n",
        "        nn.ReLu()\n",
        "    )\n",
        "    self.fc2 = nn.Sequential(\n",
        "        nn.Linear(hidden_size, 9)\n",
        "    )\n",
        "    \n",
        "  def forward(self, x):\n",
        "    y,_ = self.LSTM(x)\n",
        "    y = self.fc1(y)\n",
        "    y = self.fc2(y)\n",
        "    return y"
      ],
      "execution_count": null,
      "outputs": []
    },
    {
      "cell_type": "code",
      "metadata": {
        "id": "hYXL8uW9F-Mo"
      },
      "source": [
        "epoch = 3\n",
        "# LSTM using Pytorch\n",
        "def LSTM(train_loader, test_loader, epoch, learning_rate, no_cuda = False):\n",
        "  use_cuda = not no_cuda and torch.cuda.is_available()\n",
        "  device = torch.device(\"cuda\" if use_cuda else \"cpu\")\n",
        "  Model = MyModel().to(device)\n",
        "  optimizer = torch.optim.AdamW(Model.parameters(), lr = learning_rate)\n",
        "  train_L_iters = []\n",
        "  train_acc_iters = []\n",
        "  test_L_iters = []\n",
        "  test_acc_iters = []\n",
        "  for i in range(1,epoch+1):\n",
        "    # Train mode\n",
        "    train_loss = 0\n",
        "    train_correct = 0\n",
        "    Model.train()\n",
        "    for batch_idx,(data, target) in enumerate(train_loader):\n",
        "      # data와 target을 gpu를 사용할 수 있게 매핑\n",
        "      data, target = data.to(device), target.to(device)\n",
        "      # backward하는 과정에서 기존의 gradient값에 새로운 gradient 값을\n",
        "      # 더해주기때문에 grad값을 매 backward마다 0으로 초기화해줘야 올바른 학습이 가능\n",
        "      optimizer.zero_grad()\n",
        "      # 순전파\n",
        "      output = Model(data)\n",
        "      # reduction = (default) \"mean\"\n",
        "      loss = F.cross_entropy(output,target)\n",
        "      train_loss += F.cross_entropy(output,target,reduction = 'sum').item()\n",
        "      pred = output.argmax(dim = 1, keepdim = True)\n",
        "      train_correct += pred.eq(target.view_as(pred)).sum().item()\n",
        "      # 역전파\n",
        "      loss.backward()\n",
        "      optimizer.step()\n",
        "    # 에포크별 평균 트레인 로스 계산\n",
        "    train_loss /= len(train_loader.dataset)\n",
        "    train_L_iters.append(train_loss)\n",
        "    # 에포크별 평균 정확도 계산\n",
        "    accuracy =  100 * train_correct / len(train_loader.dataset)\n",
        "    train_acc_iters.append(accuracy)    \n",
        "    # torch.no_grad() 테스트 할 때, 위에서 계산한 grad를 더이상 업데이트 하지 않음.\n",
        "    with torch.no_grad():\n",
        "      Model.eval()\n",
        "      test_loss = 0\n",
        "      test_correct = 0\n",
        "      for data, target in test_loader:\n",
        "        data, target = data.to(device), target.to(device)\n",
        "        output = Model(data)\n",
        "        test_loss += F.cross_entropy(output, target, reduction = 'sum').item()\n",
        "        pred = output.argmax(dim = 1, keepdim = True)\n",
        "        test_correct += pred.eq(target.view_as(pred)).sum().item()\n",
        "    test_loss /= len(test_loader.dataset)\n",
        "    test_L_iters.append(test_loss)\n",
        "    accuracy = 100 * test_correct / len(test_loader.dataset)\n",
        "    test_acc_iters.append(accuracy)\n",
        "    if i % 20 == 0:\n",
        "      print(\"progress = {}, current loss = {}, current device = {}\".format(100 * i / epoch, train_loss, torch.cuda.get_device_name()))\n",
        "      print(\"test loss = {} test accuracy = {}\\n\".format(test_loss, accuracy))\n",
        "\n",
        "  return train_L_iters, train_acc_iters, test_L_iters, test_acc_iters\n",
        "    "
      ],
      "execution_count": null,
      "outputs": []
    }
  ]
}