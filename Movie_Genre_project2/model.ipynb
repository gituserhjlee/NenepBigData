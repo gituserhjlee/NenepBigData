{
 "cells": [
  {
   "cell_type": "code",
   "execution_count": 1,
   "metadata": {},
   "outputs": [],
   "source": [
    "#import libraries\n",
    "import pandas as pd\n",
    "from ast import literal_eval\n",
    "from sklearn.multiclass import OneVsRestClassifier\n",
    "from sklearn.svm import SVC\n",
    "from sklearn.naive_bayes import MultinomialNB\n",
    "from sklearn.model_selection import GridSearchCV\n",
    "from sklearn.feature_extraction.text import CountVectorizer\n",
    "from sklearn.feature_extraction.text import TfidfTransformer\n",
    "from sklearn.pipeline import Pipeline\n",
    "from sklearn.model_selection import train_test_split\n",
    "from sklearn.multiclass import OneVsRestClassifier\n",
    "from sklearn.svm import SVC\n",
    "from sklearn.model_selection import GridSearchCV\n",
    "from sklearn.metrics import f1_score\n",
    "from sklearn.metrics import make_scorer\n",
    "from sklearn.metrics import classification_report, recall_score, precision_score\n",
    "import numpy as np\n",
    "from sklearn.metrics import average_precision_score\n",
    "from sklearn.metrics import precision_recall_curve\n",
    "from sklearn.naive_bayes import MultinomialNB\n",
    "from sklearn.linear_model import SGDClassifier"
   ]
  },
  {
   "cell_type": "code",
   "execution_count": 2,
   "metadata": {},
   "outputs": [],
   "source": [
    "def evaluate_model(model, predictors, response, cv=False, params=None):\n",
    "    \"\"\"\n",
    "    evaluate_model()\n",
    "    \n",
    "    -splits the predictors & response variables into train and test sets. \n",
    "    -creates a dictionary of model outcomes that are of interest\n",
    "    -if specified, this function will use cross-validation to determine the optimal parameters for a given model\n",
    "    \n",
    "    inputs:\n",
    "        -model: a model object to be fitted\n",
    "        -predictors: an array, series, or dataframe of predictor variable(s)\n",
    "        -response: an array or series of the response variable\n",
    "        -cv: whether or not to cross-validate the model's parameters (default=False)\n",
    "        -params: if cv=True, params are required to indicate what parameters to optimize in the given model (default=None)\n",
    "        \n",
    "    outputs:\n",
    "        -a results dictionary containing the following:\n",
    "            -a fitted model object\n",
    "    \n",
    "    \"\"\"\n",
    "    results = {}\n",
    "    train_x, test_x = train_test_split(predictors, test_size=0.2, random_state=9001)\n",
    "    train_y, test_y = train_test_split(response, test_size=0.2, random_state=9001)\n",
    "    \n",
    "    if cv:\n",
    "        model = GridSearchCV(model, params, scoring=make_scorer(f1_score, average='micro'))\n",
    "    \n",
    "    classif = OneVsRestClassifier(model)\n",
    "    classif.fit(train_x, train_y)\n",
    "    \n",
    "    train_yhat = classif.predict(train_x)\n",
    "    test_yhat = classif.predict(test_x)\n",
    "    \n",
    "    results['fitted_model'] = classif\n",
    "    \n",
    "    results['train_yhat'] = train_yhat\n",
    "    results['test_yhat'] = test_yhat\n",
    "    \n",
    "    results['train_recall_score'] = recall_score(train_y, train_yhat, average='weighted')\n",
    "    results['test_recall_score'] = recall_score(test_y, test_yhat, average='weighted')\n",
    "    \n",
    "    results['train_precision_score'] = precision_score(train_y, train_yhat,average='weighted')\n",
    "    results['test_precision_score'] = precision_score(test_y, test_yhat,average='weighted')\n",
    "    \n",
    "    results['train_classification_report'] = classification_report(train_y, train_yhat,target_names=target_names)\n",
    "    results['test_classification_report'] = classification_report(test_y, test_yhat,target_names=target_names)\n",
    "    \n",
    "    return results"
   ]
  },
  {
   "cell_type": "code",
   "execution_count": 3,
   "metadata": {},
   "outputs": [],
   "source": [
    "import json\n",
    "id_to_genre = json.load(open('dataset/id_to_genre.json'))\n",
    "\n",
    "id_to_genre = {int(key):value for key, value in id_to_genre.items()} #convert string keys to int keys"
   ]
  },
  {
   "cell_type": "code",
   "execution_count": 4,
   "metadata": {},
   "outputs": [
    {
     "data": {
      "text/plain": [
       "['Adventure',\n",
       " 'Fantasy',\n",
       " 'Animation',\n",
       " 'Drama',\n",
       " 'Horror',\n",
       " 'Action',\n",
       " 'Comedy',\n",
       " 'History',\n",
       " 'Western',\n",
       " 'Thriller',\n",
       " 'Crime',\n",
       " 'Science Fiction',\n",
       " 'Mystery',\n",
       " 'Music',\n",
       " 'Romance',\n",
       " 'Family',\n",
       " 'War',\n",
       " 'TV Movie']"
      ]
     },
     "execution_count": 4,
     "metadata": {},
     "output_type": "execute_result"
    }
   ],
   "source": [
    "target_names = json.load(open('dataset/target_names.json'))['tmdb']\n",
    "\n",
    "target_names"
   ]
  },
  {
   "cell_type": "code",
   "execution_count": 5,
   "metadata": {},
   "outputs": [],
   "source": [
    "tmdb_bow = np.load('dataset/tmdb_bow.npy')\n",
    "imdb_bow = np.load('dataset/imdb_bow.npy')\n",
    "combined_bow = np.load('dataset/combined_bow.npy')"
   ]
  },
  {
   "cell_type": "code",
   "execution_count": 7,
   "metadata": {},
   "outputs": [],
   "source": [
    "tmdb_w2v_mean = np.load('dataset/tmdb_w2v_mean.npy')\n",
    "imdb_w2v_mean = np.load('dataset/imdb_w2v_mean.npy')\n",
    "combined_w2v_mean = np.load('dataset/combined_w2v_mean.npy')\n",
    "\n",
    "\n",
    "tmdb_w2v_mean = np.apply_along_axis(lambda x: list(x), 0, tmdb_w2v_mean)\n",
    "imdb_w2v_mean = np.apply_along_axis(lambda x: list(x), 0, imdb_w2v_mean)\n",
    "combined_w2v_mean = np.apply_along_axis(lambda x: list(x), 0, combined_w2v_mean)\n"
   ]
  },
  {
   "cell_type": "code",
   "execution_count": 8,
   "metadata": {},
   "outputs": [],
   "source": [
    "from sklearn.preprocessing import MinMaxScaler\n",
    "scale = MinMaxScaler()\n",
    "\n",
    "\n",
    "#word2vec scaling\n",
    "scale.fit(tmdb_w2v_mean)\n",
    "tmdb_w2v_mean = scale.transform(tmdb_w2v_mean)\n",
    "\n",
    "scale.fit(imdb_w2v_mean)\n",
    "imdb_w2v_mean = scale.transform(imdb_w2v_mean)\n",
    "\n",
    "scale.fit(combined_w2v_mean)\n",
    "combined_w2v_mean = scale.transform(combined_w2v_mean)\n"
   ]
  },
  {
   "cell_type": "code",
   "execution_count": 10,
   "metadata": {},
   "outputs": [],
   "source": [
    "binary_tmdb = np.load('dataset/binary_tmdb.npy')"
   ]
  },
  {
   "cell_type": "code",
   "execution_count": 11,
   "metadata": {},
   "outputs": [],
   "source": [
    "modelDict = {'Naive-Bayes':{'model':MultinomialNB(),\n",
    "                           'params':{'alpha':[0.01,0.1,1.0]}},\n",
    "            \n",
    "            'SGD':{'model':SGDClassifier(loss='hinge',penalty='l2',max_iter=5,random_state=9001),\n",
    "                   'params':{'alpha':[0.01,0.1,1.0]}},\n",
    "            \n",
    "            'SVC':{'model':SVC(class_weight='balanced', kernel='linear'),\n",
    "                   'params':{'C':[0.01,0.1,1.0]}}\n",
    "           }\n",
    "\n",
    "predictorDict = {\n",
    "                 'tmdb_bow':tmdb_bow,\n",
    "                 'imdb_bow':imdb_bow,\n",
    "                 'combined_bow':combined_bow,\n",
    "                 'tmdb_w2v_mean':tmdb_w2v_mean,\n",
    "                 'imdb_w2v_mean':imdb_w2v_mean,\n",
    "                 'combined_w2v_mean':combined_w2v_mean\n",
    "                }"
   ]
  },
  {
   "cell_type": "code",
   "execution_count": 13,
   "metadata": {},
   "outputs": [
    {
     "data": {
      "text/plain": [
       "'\\nresultsDict = {}\\nimport warnings\\nwith warnings.catch_warnings(): #temporarily ignore the warnings described above\\n    warnings.simplefilter(\"ignore\")\\n    for model in modelDict:\\n        for predictor in predictorDict:\\n            resultsDict[\\'{0}-{1}\\'.format(model,predictor)] = evaluate_model(model = modelDict[model][\\'model\\'],\\n                                                                            predictors = predictorDict[predictor], \\n                                                                            response = binary_tmdb,\\n                                                                            cv=True,\\n                                                                            params=modelDict[model][\\'params\\'])\\n\\n'"
      ]
     },
     "execution_count": 13,
     "metadata": {},
     "output_type": "execute_result"
    }
   ],
   "source": [
    "\"\"\"\n",
    "resultsDict = {}\n",
    "import warnings\n",
    "with warnings.catch_warnings(): #temporarily ignore the warnings described above\n",
    "    warnings.simplefilter(\"ignore\")\n",
    "    for model in modelDict:\n",
    "        for predictor in predictorDict:\n",
    "            resultsDict['{0}-{1}'.format(model,predictor)] = evaluate_model(model = modelDict[model]['model'],\n",
    "                                                                            predictors = predictorDict[predictor], \n",
    "                                                                            response = binary_tmdb,\n",
    "                                                                            cv=True,\n",
    "                                                                            params=modelDict[model]['params'])\n",
    "\n",
    "\"\"\""
   ]
  },
  {
   "cell_type": "code",
   "execution_count": 14,
   "metadata": {},
   "outputs": [],
   "source": [
    "scores = ['train_recall_score','test_recall_score',\n",
    "          'train_precision_score','test_precision_score']\n",
    "\n",
    "results_df = pd.DataFrame(resultsDict)"
   ]
  },
  {
   "cell_type": "code",
   "execution_count": 15,
   "metadata": {},
   "outputs": [],
   "source": [
    "results_df = results_df.loc[results_df.index.isin(scores)]"
   ]
  },
  {
   "cell_type": "code",
   "execution_count": 16,
   "metadata": {},
   "outputs": [
    {
     "data": {
      "text/html": [
       "<div>\n",
       "<style scoped>\n",
       "    .dataframe tbody tr th:only-of-type {\n",
       "        vertical-align: middle;\n",
       "    }\n",
       "\n",
       "    .dataframe tbody tr th {\n",
       "        vertical-align: top;\n",
       "    }\n",
       "\n",
       "    .dataframe thead th {\n",
       "        text-align: right;\n",
       "    }\n",
       "</style>\n",
       "<table border=\"1\" class=\"dataframe\">\n",
       "  <thead>\n",
       "    <tr style=\"text-align: right;\">\n",
       "      <th></th>\n",
       "      <th>train_recall_score</th>\n",
       "      <th>test_recall_score</th>\n",
       "      <th>train_precision_score</th>\n",
       "      <th>test_precision_score</th>\n",
       "    </tr>\n",
       "  </thead>\n",
       "  <tbody>\n",
       "    <tr>\n",
       "      <td>Naive-Bayes-tmdb_bow</td>\n",
       "      <td>0.687407</td>\n",
       "      <td>0.291339</td>\n",
       "      <td>0.896292</td>\n",
       "      <td>0.583739</td>\n",
       "    </tr>\n",
       "    <tr>\n",
       "      <td>Naive-Bayes-imdb_bow</td>\n",
       "      <td>0.815309</td>\n",
       "      <td>0.348425</td>\n",
       "      <td>0.941768</td>\n",
       "      <td>0.629775</td>\n",
       "    </tr>\n",
       "    <tr>\n",
       "      <td>Naive-Bayes-combined_bow</td>\n",
       "      <td>0.926914</td>\n",
       "      <td>0.387795</td>\n",
       "      <td>0.981968</td>\n",
       "      <td>0.698599</td>\n",
       "    </tr>\n",
       "    <tr>\n",
       "      <td>Naive-Bayes-tmdb_w2v_mean</td>\n",
       "      <td>0.265185</td>\n",
       "      <td>0.261811</td>\n",
       "      <td>0.494266</td>\n",
       "      <td>0.316826</td>\n",
       "    </tr>\n",
       "    <tr>\n",
       "      <td>Naive-Bayes-imdb_w2v_mean</td>\n",
       "      <td>0.262716</td>\n",
       "      <td>0.253937</td>\n",
       "      <td>0.605336</td>\n",
       "      <td>0.178442</td>\n",
       "    </tr>\n",
       "    <tr>\n",
       "      <td>Naive-Bayes-combined_w2v_mean</td>\n",
       "      <td>0.274074</td>\n",
       "      <td>0.267717</td>\n",
       "      <td>0.583491</td>\n",
       "      <td>0.456782</td>\n",
       "    </tr>\n",
       "    <tr>\n",
       "      <td>SGD-tmdb_bow</td>\n",
       "      <td>0.254321</td>\n",
       "      <td>0.255906</td>\n",
       "      <td>0.163924</td>\n",
       "      <td>0.166339</td>\n",
       "    </tr>\n",
       "    <tr>\n",
       "      <td>SGD-imdb_bow</td>\n",
       "      <td>0.254321</td>\n",
       "      <td>0.255906</td>\n",
       "      <td>0.163924</td>\n",
       "      <td>0.166339</td>\n",
       "    </tr>\n",
       "    <tr>\n",
       "      <td>SGD-combined_bow</td>\n",
       "      <td>0.254321</td>\n",
       "      <td>0.255906</td>\n",
       "      <td>0.163924</td>\n",
       "      <td>0.166339</td>\n",
       "    </tr>\n",
       "    <tr>\n",
       "      <td>SGD-tmdb_w2v_mean</td>\n",
       "      <td>0.484444</td>\n",
       "      <td>0.437008</td>\n",
       "      <td>0.598578</td>\n",
       "      <td>0.492662</td>\n",
       "    </tr>\n",
       "    <tr>\n",
       "      <td>SGD-imdb_w2v_mean</td>\n",
       "      <td>0.458272</td>\n",
       "      <td>0.403543</td>\n",
       "      <td>0.632839</td>\n",
       "      <td>0.603436</td>\n",
       "    </tr>\n",
       "    <tr>\n",
       "      <td>SGD-combined_w2v_mean</td>\n",
       "      <td>0.523951</td>\n",
       "      <td>0.492126</td>\n",
       "      <td>0.638136</td>\n",
       "      <td>0.595978</td>\n",
       "    </tr>\n",
       "    <tr>\n",
       "      <td>SVC-tmdb_bow</td>\n",
       "      <td>0.886914</td>\n",
       "      <td>0.482283</td>\n",
       "      <td>0.819618</td>\n",
       "      <td>0.514345</td>\n",
       "    </tr>\n",
       "  </tbody>\n",
       "</table>\n",
       "</div>"
      ],
      "text/plain": [
       "                              train_recall_score test_recall_score  \\\n",
       "Naive-Bayes-tmdb_bow                    0.687407          0.291339   \n",
       "Naive-Bayes-imdb_bow                    0.815309          0.348425   \n",
       "Naive-Bayes-combined_bow                0.926914          0.387795   \n",
       "Naive-Bayes-tmdb_w2v_mean               0.265185          0.261811   \n",
       "Naive-Bayes-imdb_w2v_mean               0.262716          0.253937   \n",
       "Naive-Bayes-combined_w2v_mean           0.274074          0.267717   \n",
       "SGD-tmdb_bow                            0.254321          0.255906   \n",
       "SGD-imdb_bow                            0.254321          0.255906   \n",
       "SGD-combined_bow                        0.254321          0.255906   \n",
       "SGD-tmdb_w2v_mean                       0.484444          0.437008   \n",
       "SGD-imdb_w2v_mean                       0.458272          0.403543   \n",
       "SGD-combined_w2v_mean                   0.523951          0.492126   \n",
       "SVC-tmdb_bow                            0.886914          0.482283   \n",
       "\n",
       "                              train_precision_score test_precision_score  \n",
       "Naive-Bayes-tmdb_bow                       0.896292             0.583739  \n",
       "Naive-Bayes-imdb_bow                       0.941768             0.629775  \n",
       "Naive-Bayes-combined_bow                   0.981968             0.698599  \n",
       "Naive-Bayes-tmdb_w2v_mean                  0.494266             0.316826  \n",
       "Naive-Bayes-imdb_w2v_mean                  0.605336             0.178442  \n",
       "Naive-Bayes-combined_w2v_mean              0.583491             0.456782  \n",
       "SGD-tmdb_bow                               0.163924             0.166339  \n",
       "SGD-imdb_bow                               0.163924             0.166339  \n",
       "SGD-combined_bow                           0.163924             0.166339  \n",
       "SGD-tmdb_w2v_mean                          0.598578             0.492662  \n",
       "SGD-imdb_w2v_mean                          0.632839             0.603436  \n",
       "SGD-combined_w2v_mean                      0.638136             0.595978  \n",
       "SVC-tmdb_bow                               0.819618             0.514345  "
      ]
     },
     "execution_count": 16,
     "metadata": {},
     "output_type": "execute_result"
    }
   ],
   "source": [
    "results_df = results_df.transpose()\n",
    "results_df"
   ]
  },
  {
   "cell_type": "code",
   "execution_count": 17,
   "metadata": {},
   "outputs": [
    {
     "data": {
      "text/html": [
       "<div>\n",
       "<style scoped>\n",
       "    .dataframe tbody tr th:only-of-type {\n",
       "        vertical-align: middle;\n",
       "    }\n",
       "\n",
       "    .dataframe tbody tr th {\n",
       "        vertical-align: top;\n",
       "    }\n",
       "\n",
       "    .dataframe thead th {\n",
       "        text-align: right;\n",
       "    }\n",
       "</style>\n",
       "<table border=\"1\" class=\"dataframe\">\n",
       "  <thead>\n",
       "    <tr style=\"text-align: right;\">\n",
       "      <th></th>\n",
       "      <th>train_recall_score</th>\n",
       "      <th>test_recall_score</th>\n",
       "      <th>train_precision_score</th>\n",
       "      <th>test_precision_score</th>\n",
       "    </tr>\n",
       "  </thead>\n",
       "  <tbody>\n",
       "    <tr>\n",
       "      <td>SGD-tmdb_bow</td>\n",
       "      <td>0.254321</td>\n",
       "      <td>0.255906</td>\n",
       "      <td>0.163924</td>\n",
       "      <td>0.166339</td>\n",
       "    </tr>\n",
       "    <tr>\n",
       "      <td>SGD-imdb_bow</td>\n",
       "      <td>0.254321</td>\n",
       "      <td>0.255906</td>\n",
       "      <td>0.163924</td>\n",
       "      <td>0.166339</td>\n",
       "    </tr>\n",
       "    <tr>\n",
       "      <td>SGD-combined_bow</td>\n",
       "      <td>0.254321</td>\n",
       "      <td>0.255906</td>\n",
       "      <td>0.163924</td>\n",
       "      <td>0.166339</td>\n",
       "    </tr>\n",
       "  </tbody>\n",
       "</table>\n",
       "</div>"
      ],
      "text/plain": [
       "                 train_recall_score test_recall_score train_precision_score  \\\n",
       "SGD-tmdb_bow               0.254321          0.255906              0.163924   \n",
       "SGD-imdb_bow               0.254321          0.255906              0.163924   \n",
       "SGD-combined_bow           0.254321          0.255906              0.163924   \n",
       "\n",
       "                 test_precision_score  \n",
       "SGD-tmdb_bow                 0.166339  \n",
       "SGD-imdb_bow                 0.166339  \n",
       "SGD-combined_bow             0.166339  "
      ]
     },
     "execution_count": 17,
     "metadata": {},
     "output_type": "execute_result"
    }
   ],
   "source": [
    "duplicate_scores = pd.concat(group for _, group in results_df.groupby((scores)) if len(group) > 1)\n",
    "duplicate_scores"
   ]
  },
  {
   "cell_type": "code",
   "execution_count": 18,
   "metadata": {},
   "outputs": [],
   "source": [
    "duplicate_list = list(duplicate_scores.index.values)"
   ]
  },
  {
   "cell_type": "code",
   "execution_count": 19,
   "metadata": {},
   "outputs": [],
   "source": [
    "for model in range(len(duplicate_list)):\n",
    "    if resultsDict[duplicate_list[0]]['train_classification_report'] != resultsDict[duplicate_list[model]]['train_classification_report']:\n",
    "        print('Train classification reports do not match between model 0 and model {}'.format(model))\n",
    "    \n",
    "    if resultsDict[duplicate_list[0]]['test_classification_report'] != resultsDict[duplicate_list[model]]['test_classification_report']:\n",
    "        print('Test classification reports do not match between model 0 and model {}'.format(model))"
   ]
  },
  {
   "cell_type": "code",
   "execution_count": 20,
   "metadata": {},
   "outputs": [
    {
     "name": "stdout",
     "output_type": "stream",
     "text": [
      "                 precision    recall  f1-score   support\n",
      "\n",
      "      Adventure       0.00      0.00      0.00       137\n",
      "        Fantasy       0.00      0.00      0.00        76\n",
      "      Animation       0.00      0.00      0.00        82\n",
      "          Drama       0.64      1.00      0.78       515\n",
      "         Horror       0.00      0.00      0.00        41\n",
      "         Action       0.00      0.00      0.00       124\n",
      "         Comedy       0.00      0.00      0.00       189\n",
      "        History       0.00      0.00      0.00        54\n",
      "        Western       0.00      0.00      0.00        25\n",
      "       Thriller       0.00      0.00      0.00       184\n",
      "          Crime       0.00      0.00      0.00       143\n",
      "Science Fiction       0.00      0.00      0.00        81\n",
      "        Mystery       0.00      0.00      0.00        77\n",
      "          Music       0.00      0.00      0.00        34\n",
      "        Romance       0.00      0.00      0.00       124\n",
      "         Family       0.00      0.00      0.00        92\n",
      "            War       0.00      0.00      0.00        42\n",
      "       TV Movie       0.00      0.00      0.00         5\n",
      "\n",
      "      micro avg       0.64      0.25      0.36      2025\n",
      "      macro avg       0.04      0.06      0.04      2025\n",
      "   weighted avg       0.16      0.25      0.20      2025\n",
      "    samples avg       0.64      0.33      0.42      2025\n",
      "\n",
      "                 precision    recall  f1-score   support\n",
      "\n",
      "      Adventure       0.00      0.00      0.00        31\n",
      "        Fantasy       0.00      0.00      0.00        17\n",
      "      Animation       0.00      0.00      0.00        17\n",
      "          Drama       0.65      1.00      0.79       130\n",
      "         Horror       0.00      0.00      0.00        11\n",
      "         Action       0.00      0.00      0.00        40\n",
      "         Comedy       0.00      0.00      0.00        49\n",
      "        History       0.00      0.00      0.00        19\n",
      "        Western       0.00      0.00      0.00         8\n",
      "       Thriller       0.00      0.00      0.00        39\n",
      "          Crime       0.00      0.00      0.00        33\n",
      "Science Fiction       0.00      0.00      0.00        25\n",
      "        Mystery       0.00      0.00      0.00        19\n",
      "          Music       0.00      0.00      0.00         5\n",
      "        Romance       0.00      0.00      0.00        28\n",
      "         Family       0.00      0.00      0.00        17\n",
      "            War       0.00      0.00      0.00        19\n",
      "       TV Movie       0.00      0.00      0.00         1\n",
      "\n",
      "      micro avg       0.65      0.26      0.37       508\n",
      "      macro avg       0.04      0.06      0.04       508\n",
      "   weighted avg       0.17      0.26      0.20       508\n",
      "    samples avg       0.65      0.32      0.41       508\n",
      "\n"
     ]
    }
   ],
   "source": [
    "print(resultsDict[duplicate_list[0]]['train_classification_report'])\n",
    "print(resultsDict[duplicate_list[0]]['test_classification_report'])"
   ]
  },
  {
   "cell_type": "code",
   "execution_count": 21,
   "metadata": {},
   "outputs": [],
   "source": [
    "best_recall = results_df['test_recall_score'].astype(float).idxmax()\n",
    "best_precision = results_df['test_precision_score'].astype(float).idxmax()"
   ]
  },
  {
   "cell_type": "code",
   "execution_count": 22,
   "metadata": {},
   "outputs": [
    {
     "data": {
      "text/html": [
       "<div>\n",
       "<style scoped>\n",
       "    .dataframe tbody tr th:only-of-type {\n",
       "        vertical-align: middle;\n",
       "    }\n",
       "\n",
       "    .dataframe tbody tr th {\n",
       "        vertical-align: top;\n",
       "    }\n",
       "\n",
       "    .dataframe thead th {\n",
       "        text-align: right;\n",
       "    }\n",
       "</style>\n",
       "<table border=\"1\" class=\"dataframe\">\n",
       "  <thead>\n",
       "    <tr style=\"text-align: right;\">\n",
       "      <th></th>\n",
       "      <th>train_recall_score</th>\n",
       "      <th>test_recall_score</th>\n",
       "      <th>train_precision_score</th>\n",
       "      <th>test_precision_score</th>\n",
       "    </tr>\n",
       "  </thead>\n",
       "  <tbody>\n",
       "    <tr>\n",
       "      <td>Naive-Bayes-combined_bow</td>\n",
       "      <td>0.926914</td>\n",
       "      <td>0.387795</td>\n",
       "      <td>0.981968</td>\n",
       "      <td>0.698599</td>\n",
       "    </tr>\n",
       "    <tr>\n",
       "      <td>SGD-combined_w2v_mean</td>\n",
       "      <td>0.523951</td>\n",
       "      <td>0.492126</td>\n",
       "      <td>0.638136</td>\n",
       "      <td>0.595978</td>\n",
       "    </tr>\n",
       "  </tbody>\n",
       "</table>\n",
       "</div>"
      ],
      "text/plain": [
       "                         train_recall_score test_recall_score  \\\n",
       "Naive-Bayes-combined_bow           0.926914          0.387795   \n",
       "SGD-combined_w2v_mean              0.523951          0.492126   \n",
       "\n",
       "                         train_precision_score test_precision_score  \n",
       "Naive-Bayes-combined_bow              0.981968             0.698599  \n",
       "SGD-combined_w2v_mean                 0.638136             0.595978  "
      ]
     },
     "execution_count": 22,
     "metadata": {},
     "output_type": "execute_result"
    }
   ],
   "source": [
    "results_df.loc[results_df.index.isin([best_recall, best_precision])]"
   ]
  },
  {
   "cell_type": "code",
   "execution_count": 23,
   "metadata": {},
   "outputs": [
    {
     "name": "stdout",
     "output_type": "stream",
     "text": [
      "Results:  Naive-Bayes-combined_bow\n",
      "                 precision    recall  f1-score   support\n",
      "\n",
      "      Adventure       0.97      0.88      0.92       137\n",
      "        Fantasy       1.00      0.97      0.99        76\n",
      "      Animation       1.00      0.93      0.96        82\n",
      "          Drama       0.96      0.99      0.98       515\n",
      "         Horror       1.00      0.83      0.91        41\n",
      "         Action       0.98      0.88      0.93       124\n",
      "         Comedy       0.99      0.89      0.94       189\n",
      "        History       1.00      0.91      0.95        54\n",
      "        Western       1.00      1.00      1.00        25\n",
      "       Thriller       0.98      0.85      0.91       184\n",
      "          Crime       1.00      0.90      0.95       143\n",
      "Science Fiction       0.99      0.93      0.96        81\n",
      "        Mystery       0.99      0.99      0.99        77\n",
      "          Music       1.00      0.82      0.90        34\n",
      "        Romance       1.00      0.95      0.98       124\n",
      "         Family       1.00      0.90      0.95        92\n",
      "            War       1.00      0.90      0.95        42\n",
      "       TV Movie       1.00      1.00      1.00         5\n",
      "\n",
      "      micro avg       0.98      0.93      0.95      2025\n",
      "      macro avg       0.99      0.92      0.95      2025\n",
      "   weighted avg       0.98      0.93      0.95      2025\n",
      "    samples avg       0.98      0.94      0.95      2025\n",
      "\n",
      "                 precision    recall  f1-score   support\n",
      "\n",
      "      Adventure       0.78      0.45      0.57        31\n",
      "        Fantasy       1.00      0.18      0.30        17\n",
      "      Animation       0.67      0.12      0.20        17\n",
      "          Drama       0.80      0.88      0.84       130\n",
      "         Horror       1.00      0.09      0.17        11\n",
      "         Action       0.86      0.30      0.44        40\n",
      "         Comedy       0.80      0.16      0.27        49\n",
      "        History       0.00      0.00      0.00        19\n",
      "        Western       0.00      0.00      0.00         8\n",
      "       Thriller       0.69      0.28      0.40        39\n",
      "          Crime       0.82      0.27      0.41        33\n",
      "Science Fiction       0.80      0.32      0.46        25\n",
      "        Mystery       0.00      0.00      0.00        19\n",
      "          Music       0.00      0.00      0.00         5\n",
      "        Romance       0.25      0.04      0.06        28\n",
      "         Family       0.80      0.24      0.36        17\n",
      "            War       1.00      0.47      0.64        19\n",
      "       TV Movie       0.00      0.00      0.00         1\n",
      "\n",
      "      micro avg       0.79      0.39      0.52       508\n",
      "      macro avg       0.57      0.21      0.29       508\n",
      "   weighted avg       0.70      0.39      0.45       508\n",
      "    samples avg       0.71      0.44      0.51       508\n",
      "\n"
     ]
    }
   ],
   "source": [
    "print('Results: ', best_precision)\n",
    "print(resultsDict[best_precision]['train_classification_report'])\n",
    "print(resultsDict[best_precision]['test_classification_report'])"
   ]
  },
  {
   "cell_type": "code",
   "execution_count": 24,
   "metadata": {},
   "outputs": [
    {
     "name": "stdout",
     "output_type": "stream",
     "text": [
      "Results:  SGD-combined_w2v_mean\n",
      "                 precision    recall  f1-score   support\n",
      "\n",
      "      Adventure       0.94      0.12      0.21       137\n",
      "        Fantasy       0.87      0.17      0.29        76\n",
      "      Animation       0.91      0.52      0.67        82\n",
      "          Drama       0.68      0.99      0.81       515\n",
      "         Horror       0.00      0.00      0.00        41\n",
      "         Action       0.86      0.20      0.33       124\n",
      "         Comedy       0.62      0.70      0.66       189\n",
      "        History       1.00      0.11      0.20        54\n",
      "        Western       0.00      0.00      0.00        25\n",
      "       Thriller       0.35      0.97      0.51       184\n",
      "          Crime       0.83      0.66      0.74       143\n",
      "Science Fiction       0.93      0.35      0.50        81\n",
      "        Mystery       0.00      0.00      0.00        77\n",
      "          Music       0.00      0.00      0.00        34\n",
      "        Romance       0.00      0.00      0.00       124\n",
      "         Family       1.00      0.09      0.16        92\n",
      "            War       1.00      0.12      0.21        42\n",
      "       TV Movie       0.00      0.00      0.00         5\n",
      "\n",
      "      micro avg       0.61      0.52      0.56      2025\n",
      "      macro avg       0.56      0.28      0.29      2025\n",
      "   weighted avg       0.64      0.52      0.47      2025\n",
      "    samples avg       0.62      0.58      0.56      2025\n",
      "\n",
      "                 precision    recall  f1-score   support\n",
      "\n",
      "      Adventure       1.00      0.10      0.18        31\n",
      "        Fantasy       1.00      0.12      0.21        17\n",
      "      Animation       0.64      0.41      0.50        17\n",
      "          Drama       0.70      0.99      0.82       130\n",
      "         Horror       0.00      0.00      0.00        11\n",
      "         Action       0.90      0.23      0.36        40\n",
      "         Comedy       0.58      0.65      0.62        49\n",
      "        History       0.00      0.00      0.00        19\n",
      "        Western       0.00      0.00      0.00         8\n",
      "       Thriller       0.25      0.87      0.39        39\n",
      "          Crime       0.68      0.58      0.62        33\n",
      "Science Fiction       0.80      0.48      0.60        25\n",
      "        Mystery       0.00      0.00      0.00        19\n",
      "          Music       0.00      0.00      0.00         5\n",
      "        Romance       0.00      0.00      0.00        28\n",
      "         Family       1.00      0.12      0.21        17\n",
      "            War       1.00      0.05      0.10        19\n",
      "       TV Movie       0.00      0.00      0.00         1\n",
      "\n",
      "      micro avg       0.56      0.49      0.52       508\n",
      "      macro avg       0.48      0.26      0.26       508\n",
      "   weighted avg       0.60      0.49      0.44       508\n",
      "    samples avg       0.59      0.54      0.53       508\n",
      "\n"
     ]
    }
   ],
   "source": [
    "print('Results: ', best_recall)\n",
    "print(resultsDict[best_recall]['train_classification_report'])\n",
    "print(resultsDict[best_recall]['test_classification_report'])"
   ]
  },
  {
   "cell_type": "code",
   "execution_count": 25,
   "metadata": {},
   "outputs": [
    {
     "data": {
      "text/plain": [
       "array([0, 0, 0, 1, 0, 0, 0, 0, 0, 0, 1, 0, 0, 0, 0, 0, 0, 0])"
      ]
     },
     "execution_count": 25,
     "metadata": {},
     "output_type": "execute_result"
    }
   ],
   "source": [
    "resultsDict[best_precision]['fitted_model'].predict(combined_bow)[0]"
   ]
  },
  {
   "cell_type": "code",
   "execution_count": 26,
   "metadata": {},
   "outputs": [
    {
     "data": {
      "text/plain": [
       "array([3.04719005e-02, 7.80087867e-04, 2.41432347e-02, 9.36481209e-01,\n",
       "       1.25753510e-02, 3.35582768e-02, 1.04326995e-01, 1.48167927e-02,\n",
       "       1.26084883e-04, 1.50322996e-01, 7.33628097e-01, 3.91758746e-03,\n",
       "       1.74222489e-03, 1.38138201e-02, 1.83195876e-04, 2.87533281e-02,\n",
       "       2.04361359e-02, 6.20652724e-05])"
      ]
     },
     "execution_count": 26,
     "metadata": {},
     "output_type": "execute_result"
    }
   ],
   "source": [
    "resultsDict[best_precision]['fitted_model'].predict_proba(combined_bow)[0]"
   ]
  },
  {
   "cell_type": "code",
   "execution_count": 27,
   "metadata": {},
   "outputs": [],
   "source": [
    "def mean_probability(model, predictor):\n",
    "    _, test_x = train_test_split(predictor, test_size=0.2, random_state=9001)\n",
    "    \n",
    "    return model.predict_proba(test_x).mean()"
   ]
  },
  {
   "cell_type": "code",
   "execution_count": 28,
   "metadata": {},
   "outputs": [
    {
     "data": {
      "text/plain": [
       "0.1085713855522845"
      ]
     },
     "execution_count": 28,
     "metadata": {},
     "output_type": "execute_result"
    }
   ],
   "source": [
    "mean_probability(resultsDict[best_precision]['fitted_model'], combined_bow)"
   ]
  },
  {
   "cell_type": "code",
   "execution_count": 29,
   "metadata": {},
   "outputs": [
    {
     "name": "stderr",
     "output_type": "stream",
     "text": [
      "/opt/anaconda3/lib/python3.6/site-packages/sklearn/metrics/_classification.py:1221: UndefinedMetricWarning: Precision and F-score are ill-defined and being set to 0.0 in samples with no predicted labels. Use `zero_division` parameter to control this behavior.\n",
      "  _warn_prf(average, modifier, msg_start, len(result))\n"
     ]
    }
   ],
   "source": [
    "\n",
    "best_recall_rerun = {'model':SVC(class_weight='balanced', kernel='linear',\n",
    "                                probability=True),\n",
    "                   'params':{'C':[0.01,0.1,1.0]}}\n",
    "        \n",
    "        \n",
    "best_recall_rerun_results = evaluate_model(model = best_recall_rerun['model'],\n",
    "                        predictors = predictorDict['combined_w2v_mean'], \n",
    "                        response = binary_tmdb,\n",
    "                        cv=True,\n",
    "                        params=best_recall_rerun['params'])        "
   ]
  },
  {
   "cell_type": "code",
   "execution_count": 30,
   "metadata": {},
   "outputs": [
    {
     "data": {
      "text/plain": [
       "0.14880587001315373"
      ]
     },
     "execution_count": 30,
     "metadata": {},
     "output_type": "execute_result"
    }
   ],
   "source": [
    "mean_probability(best_recall_rerun_results['fitted_model'], combined_w2v_mean)"
   ]
  },
  {
   "cell_type": "code",
   "execution_count": 31,
   "metadata": {},
   "outputs": [],
   "source": [
    "data_source_results = {}\n",
    "\n",
    "for group in ['imdb', 'tmdb', 'combined']:\n",
    "    subset = results_df.filter(like=group, axis=0)\n",
    "\n",
    "    \n",
    "    data_source_results[group] = {'min_test_precision': subset['test_precision_score'].min(),\n",
    "                                'max_test_precision': subset['test_precision_score'].max(),\n",
    "                                'mean_test_precision':subset['test_precision_score'].mean(),\n",
    "                                'min_test_recall': subset['test_recall_score'].min(),\n",
    "                                'max_test_recall': subset['test_recall_score'].max(),\n",
    "                                'mean_test_recall':subset['test_recall_score'].mean()}"
   ]
  },
  {
   "cell_type": "code",
   "execution_count": 32,
   "metadata": {},
   "outputs": [
    {
     "data": {
      "text/html": [
       "<div>\n",
       "<style scoped>\n",
       "    .dataframe tbody tr th:only-of-type {\n",
       "        vertical-align: middle;\n",
       "    }\n",
       "\n",
       "    .dataframe tbody tr th {\n",
       "        vertical-align: top;\n",
       "    }\n",
       "\n",
       "    .dataframe thead th {\n",
       "        text-align: right;\n",
       "    }\n",
       "</style>\n",
       "<table border=\"1\" class=\"dataframe\">\n",
       "  <thead>\n",
       "    <tr style=\"text-align: right;\">\n",
       "      <th></th>\n",
       "      <th>min_test_precision</th>\n",
       "      <th>max_test_precision</th>\n",
       "      <th>mean_test_precision</th>\n",
       "      <th>min_test_recall</th>\n",
       "      <th>max_test_recall</th>\n",
       "      <th>mean_test_recall</th>\n",
       "    </tr>\n",
       "  </thead>\n",
       "  <tbody>\n",
       "    <tr>\n",
       "      <td>imdb</td>\n",
       "      <td>0.166339</td>\n",
       "      <td>0.629775</td>\n",
       "      <td>0.394498</td>\n",
       "      <td>0.253937</td>\n",
       "      <td>0.403543</td>\n",
       "      <td>0.315453</td>\n",
       "    </tr>\n",
       "    <tr>\n",
       "      <td>tmdb</td>\n",
       "      <td>0.166339</td>\n",
       "      <td>0.583739</td>\n",
       "      <td>0.414782</td>\n",
       "      <td>0.255906</td>\n",
       "      <td>0.482283</td>\n",
       "      <td>0.345669</td>\n",
       "    </tr>\n",
       "    <tr>\n",
       "      <td>combined</td>\n",
       "      <td>0.166339</td>\n",
       "      <td>0.698599</td>\n",
       "      <td>0.479424</td>\n",
       "      <td>0.255906</td>\n",
       "      <td>0.492126</td>\n",
       "      <td>0.350886</td>\n",
       "    </tr>\n",
       "  </tbody>\n",
       "</table>\n",
       "</div>"
      ],
      "text/plain": [
       "          min_test_precision  max_test_precision  mean_test_precision  \\\n",
       "imdb                0.166339            0.629775             0.394498   \n",
       "tmdb                0.166339            0.583739             0.414782   \n",
       "combined            0.166339            0.698599             0.479424   \n",
       "\n",
       "          min_test_recall  max_test_recall  mean_test_recall  \n",
       "imdb             0.253937         0.403543          0.315453  \n",
       "tmdb             0.255906         0.482283          0.345669  \n",
       "combined         0.255906         0.492126          0.350886  "
      ]
     },
     "execution_count": 32,
     "metadata": {},
     "output_type": "execute_result"
    }
   ],
   "source": [
    "column_order = ['min_test_precision','max_test_precision','mean_test_precision',\n",
    "                                            'min_test_recall','max_test_recall','mean_test_recall']\n",
    "\n",
    "pd.DataFrame(data_source_results).transpose()[column_order]"
   ]
  },
  {
   "cell_type": "code",
   "execution_count": 33,
   "metadata": {},
   "outputs": [],
   "source": [
    "predictor_results = {}\n",
    "for group in ['bow', 'w2v']:\n",
    "    subset = results_df.filter(like=group, axis=0)\n",
    "\n",
    "    predictor_results[group] = {'min_test_precision': subset['test_precision_score'].min(),\n",
    "                                'max_test_precision': subset['test_precision_score'].max(),\n",
    "                                'mean_test_precision':subset['test_precision_score'].mean(),\n",
    "                                'min_test_recall': subset['test_recall_score'].min(),\n",
    "                                'max_test_recall': subset['test_recall_score'].max(),\n",
    "                                'mean_test_recall':subset['test_recall_score'].mean()}"
   ]
  },
  {
   "cell_type": "code",
   "execution_count": 34,
   "metadata": {},
   "outputs": [
    {
     "data": {
      "text/html": [
       "<div>\n",
       "<style scoped>\n",
       "    .dataframe tbody tr th:only-of-type {\n",
       "        vertical-align: middle;\n",
       "    }\n",
       "\n",
       "    .dataframe tbody tr th {\n",
       "        vertical-align: top;\n",
       "    }\n",
       "\n",
       "    .dataframe thead th {\n",
       "        text-align: right;\n",
       "    }\n",
       "</style>\n",
       "<table border=\"1\" class=\"dataframe\">\n",
       "  <thead>\n",
       "    <tr style=\"text-align: right;\">\n",
       "      <th></th>\n",
       "      <th>min_test_precision</th>\n",
       "      <th>max_test_precision</th>\n",
       "      <th>mean_test_precision</th>\n",
       "      <th>min_test_recall</th>\n",
       "      <th>max_test_recall</th>\n",
       "      <th>mean_test_recall</th>\n",
       "    </tr>\n",
       "  </thead>\n",
       "  <tbody>\n",
       "    <tr>\n",
       "      <td>bow</td>\n",
       "      <td>0.166339</td>\n",
       "      <td>0.698599</td>\n",
       "      <td>0.417925</td>\n",
       "      <td>0.255906</td>\n",
       "      <td>0.482283</td>\n",
       "      <td>0.325366</td>\n",
       "    </tr>\n",
       "    <tr>\n",
       "      <td>w2v</td>\n",
       "      <td>0.178442</td>\n",
       "      <td>0.603436</td>\n",
       "      <td>0.440688</td>\n",
       "      <td>0.253937</td>\n",
       "      <td>0.492126</td>\n",
       "      <td>0.352690</td>\n",
       "    </tr>\n",
       "  </tbody>\n",
       "</table>\n",
       "</div>"
      ],
      "text/plain": [
       "     min_test_precision  max_test_precision  mean_test_precision  \\\n",
       "bow            0.166339            0.698599             0.417925   \n",
       "w2v            0.178442            0.603436             0.440688   \n",
       "\n",
       "     min_test_recall  max_test_recall  mean_test_recall  \n",
       "bow         0.255906         0.482283          0.325366  \n",
       "w2v         0.253937         0.492126          0.352690  "
      ]
     },
     "execution_count": 34,
     "metadata": {},
     "output_type": "execute_result"
    }
   ],
   "source": [
    "pd.DataFrame(predictor_results).transpose()[column_order]"
   ]
  },
  {
   "cell_type": "code",
   "execution_count": null,
   "metadata": {},
   "outputs": [],
   "source": []
  },
  {
   "cell_type": "code",
   "execution_count": null,
   "metadata": {},
   "outputs": [],
   "source": []
  },
  {
   "cell_type": "code",
   "execution_count": null,
   "metadata": {},
   "outputs": [],
   "source": []
  },
  {
   "cell_type": "code",
   "execution_count": null,
   "metadata": {},
   "outputs": [],
   "source": []
  }
 ],
 "metadata": {
  "kernelspec": {
   "display_name": "Python 3",
   "language": "python",
   "name": "python3"
  },
  "language_info": {
   "codemirror_mode": {
    "name": "ipython",
    "version": 3
   },
   "file_extension": ".py",
   "mimetype": "text/x-python",
   "name": "python",
   "nbconvert_exporter": "python",
   "pygments_lexer": "ipython3",
   "version": "3.6.9"
  }
 },
 "nbformat": 4,
 "nbformat_minor": 2
}
