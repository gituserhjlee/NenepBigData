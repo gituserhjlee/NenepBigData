{
 "cells": [
  {
   "cell_type": "code",
   "execution_count": 244,
   "metadata": {},
   "outputs": [],
   "source": [
    "%matplotlib inline\n",
    "import matplotlib.pyplot as plt\n",
    "import pandas as pd\n",
    "import numpy as np\n",
    "import emoji\n",
    "import re\n",
    "\n",
    "from nltk.corpus import stopwords"
   ]
  },
  {
   "cell_type": "code",
   "execution_count": 254,
   "metadata": {},
   "outputs": [],
   "source": [
    "data = pd.read_csv(\"Gisaengchung.csv\", names = [\"idx\",\"review\"])"
   ]
  },
  {
   "cell_type": "code",
   "execution_count": 255,
   "metadata": {},
   "outputs": [],
   "source": [
    "data = data.iloc[1:,1:]"
   ]
  },
  {
   "cell_type": "code",
   "execution_count": 256,
   "metadata": {},
   "outputs": [],
   "source": [
    "#리스트 형태에 넣기\n",
    "review_list = []\n",
    "ra = review_list.append\n",
    "\n",
    "for i in range(len(data)):\n",
    "    ra(data.iloc[i,0])"
   ]
  },
  {
   "cell_type": "markdown",
   "metadata": {},
   "source": [
    "81번째 리뷰를 기준으로 전처리 진행하였음.     \n",
    "물론 여러 리뷰들을 전반적으로 확인하면서 진행하였음"
   ]
  },
  {
   "cell_type": "code",
   "execution_count": 257,
   "metadata": {
    "scrolled": true
   },
   "outputs": [
    {
     "name": "stdout",
     "output_type": "stream",
     "text": [
      "It took me while to be able to sit and review this movie. It has been difficult, almost impossible to put down into words anything about it. I truly lacked the right words and was even afraid not to be true to its core.\n",
      "Here's a film which leaves no one indifferent. It is certainly metaphorical in every aspect: the water that is both a blessing or a catatrophe depending on which side of the social pyramid one stands; the smell inpregnated in old people's clothes which both disgusts and arouses the rich couple; the large window in their house in comparison to the poor family 's basement window.\n",
      "The question starts with a simple title:\"Parasite\". Who are they? The ones in the basement, at the bottom of the pyramid? The ones in the middle trying to strive, even if they cannot get rid of the smell? The ones on top of that pyramid who pretend to accept others yet lack total RESPECT?\n",
      "Or aren't WE all parasites somehow and loose perspective so often? Wasn't a camera leading our eyes all the time?\n",
      "For the first time in my life I had a feeling of real movement while watching a film. Sometimes I was moving left, right, up or down. Sometimes I was watching. Others I was being watched. The window could be either a screen to the outside world, inside the house. I often felt watched in the movie theatre\n",
      "Was I the parasite?\n",
      "If this isn't the Best Film of the year, I don't know what it us.👏👏👏\n"
     ]
    }
   ],
   "source": [
    "print(review_list[81])"
   ]
  },
  {
   "cell_type": "markdown",
   "metadata": {},
   "source": [
    "## 전처리 방안\n",
    "\n",
    "+ 이모티콘을 단어로 변환 후 중복된 이모티콘을 1개로 만들기   \n",
    "+ 단어의 길이가 1에서 2인 것 제거    \n",
    "+ 리뷰의 구두점들을 제거      \n",
    "+ 첫번째 단어가 대문자거나 대문자로 되어있는 모든 단어들 제거   \n",
    "+ 숫자 제거      \n",
    "+ 제거되지 않은 대문자 모임 소문자화 후 양끝 공백제거"
   ]
  },
  {
   "cell_type": "code",
   "execution_count": 258,
   "metadata": {},
   "outputs": [],
   "source": [
    "multi_emoji = re.compile(r'[:]{2,}[\\w_-]+')\n",
    "shortword = re.compile(r'\\W*\\b\\w{1,2}\\b')\n",
    "punc = re.compile(r'[\\W_]+')\n",
    "first_upper = re.compile(r'\\s*[A-Z]\\[a-z0-9]+')\n",
    "digit = re.compile(r'\\d+')\n",
    "\n",
    "token_list = []\n",
    "ta = token_list.append\n",
    "for i in range(len(review_list)):\n",
    "    review_list[i] = multi_emoji.sub('',emoji.demojize(review_list[i]))\n",
    "    review_list[i] = shortword.sub('',review_list[i])\n",
    "    review_list[i] = punc.sub(' ',review_list[i])\n",
    "    review_list[i] = first_upper.sub('',review_list[i])\n",
    "    review_list[i] = digit.sub('',review_list[i])\n",
    "    review_list[i] = shortword.sub('',review_list[i])\n",
    "    review_list[i] = review_list[i].lower()\n",
    "    review_list[i] = review_list[i].strip()\n",
    "    \n",
    "    #토큰화\n",
    "    ta(re.split('\\s+',review_list[i]))"
   ]
  },
  {
   "cell_type": "code",
   "execution_count": 259,
   "metadata": {
    "scrolled": true
   },
   "outputs": [
    {
     "name": "stdout",
     "output_type": "stream",
     "text": [
      "took while able sit and review this movie has been difficult almost impossible put down into words anything about truly lacked the right words and was even afraid not true its core here film which leaves one indifferent certainly metaphorical every aspect the water that both blessing catatrophe depending which side the social pyramid one stands the smell inpregnated old people clothes which both disgusts and arouses the rich couple the large window their house comparison the poor family basement window the question starts with simple title parasite who are they the ones the basement the bottom the pyramid the ones the middle trying strive even they cannot get rid the smell the ones top that pyramid who pretend accept others yet lack total respect aren all parasites somehow and loose perspective often wasn camera leading our eyes all the time for the first time life had feeling real movement while watching film sometimes was moving left right down sometimes was watching others was being watched the window could either screen the outside world inside the house often felt watched the movie theatre was the parasite this isn the best film the year don know what clapping hands\n"
     ]
    }
   ],
   "source": [
    "print(review_list[81])"
   ]
  },
  {
   "cell_type": "code",
   "execution_count": 260,
   "metadata": {},
   "outputs": [
    {
     "name": "stdout",
     "output_type": "stream",
     "text": [
      "['took', 'while', 'able', 'sit', 'and', 'review', 'this', 'movie', 'has', 'been', 'difficult', 'almost', 'impossible', 'put', 'down', 'into', 'words', 'anything', 'about', 'truly', 'lacked', 'the', 'right', 'words', 'and', 'was', 'even', 'afraid', 'not', 'true', 'its', 'core', 'here', 'film', 'which', 'leaves', 'one', 'indifferent', 'certainly', 'metaphorical', 'every', 'aspect', 'the', 'water', 'that', 'both', 'blessing', 'catatrophe', 'depending', 'which', 'side', 'the', 'social', 'pyramid', 'one', 'stands', 'the', 'smell', 'inpregnated', 'old', 'people', 'clothes', 'which', 'both', 'disgusts', 'and', 'arouses', 'the', 'rich', 'couple', 'the', 'large', 'window', 'their', 'house', 'comparison', 'the', 'poor', 'family', 'basement', 'window', 'the', 'question', 'starts', 'with', 'simple', 'title', 'parasite', 'who', 'are', 'they', 'the', 'ones', 'the', 'basement', 'the', 'bottom', 'the', 'pyramid', 'the', 'ones', 'the', 'middle', 'trying', 'strive', 'even', 'they', 'cannot', 'get', 'rid', 'the', 'smell', 'the', 'ones', 'top', 'that', 'pyramid', 'who', 'pretend', 'accept', 'others', 'yet', 'lack', 'total', 'respect', 'aren', 'all', 'parasites', 'somehow', 'and', 'loose', 'perspective', 'often', 'wasn', 'camera', 'leading', 'our', 'eyes', 'all', 'the', 'time', 'for', 'the', 'first', 'time', 'life', 'had', 'feeling', 'real', 'movement', 'while', 'watching', 'film', 'sometimes', 'was', 'moving', 'left', 'right', 'down', 'sometimes', 'was', 'watching', 'others', 'was', 'being', 'watched', 'the', 'window', 'could', 'either', 'screen', 'the', 'outside', 'world', 'inside', 'the', 'house', 'often', 'felt', 'watched', 'the', 'movie', 'theatre', 'was', 'the', 'parasite', 'this', 'isn', 'the', 'best', 'film', 'the', 'year', 'don', 'know', 'what', 'clapping', 'hands']\n"
     ]
    }
   ],
   "source": [
    "print(token_list[81])"
   ]
  },
  {
   "cell_type": "markdown",
   "metadata": {},
   "source": [
    "## nltk Stopwords로 불용어 제거하기"
   ]
  },
  {
   "cell_type": "code",
   "execution_count": 261,
   "metadata": {
    "scrolled": true
   },
   "outputs": [
    {
     "name": "stdout",
     "output_type": "stream",
     "text": [
      "609 278 151 661 42 32 42 55 60 103 \n",
      "398 160 88 396 22 18 23 40 42 64 "
     ]
    }
   ],
   "source": [
    "for k in range(10):\n",
    "    print(len(token_list[k]),end = ' ')\n",
    "\n",
    "for i,li in enumerate(token_list):\n",
    "    token_list[i] = [item for item in li if item not in stop_words]\n",
    "            \n",
    "print()\n",
    "for k in range(10):\n",
    "    print(len(token_list[k]),end = ' ')"
   ]
  },
  {
   "cell_type": "code",
   "execution_count": null,
   "metadata": {},
   "outputs": [],
   "source": []
  }
 ],
 "metadata": {
  "kernelspec": {
   "display_name": "Python 3",
   "language": "python",
   "name": "python3"
  },
  "language_info": {
   "codemirror_mode": {
    "name": "ipython",
    "version": 3
   },
   "file_extension": ".py",
   "mimetype": "text/x-python",
   "name": "python",
   "nbconvert_exporter": "python",
   "pygments_lexer": "ipython3",
   "version": "3.7.1"
  }
 },
 "nbformat": 4,
 "nbformat_minor": 4
}
