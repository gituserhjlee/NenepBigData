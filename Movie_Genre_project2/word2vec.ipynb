{
 "cells": [
  {
   "cell_type": "code",
   "execution_count": 1,
   "metadata": {},
   "outputs": [],
   "source": [
    "#import libraries and set seaborn styling\n",
    "%matplotlib inline\n",
    "import pandas as pd\n",
    "import matplotlib.pyplot as plt\n",
    "import seaborn as sns\n",
    "import tmdbsimple as tmdb\n",
    "import requests\n",
    "import pandas as pd\n",
    "import time\n",
    "import numpy as np\n",
    "from ast import literal_eval\n",
    "from collections import Counter\n",
    "from nltk.tokenize import RegexpTokenizer\n",
    "from stop_words import get_stop_words\n",
    "from sklearn.feature_extraction.text import CountVectorizer\n",
    "from sklearn.feature_extraction.text import TfidfTransformer\n",
    "from sklearn.feature_extraction.text import TfidfVectorizer\n",
    "#from gensim import models\n",
    "#from gensim.models import KeyedVectors\n",
    "#import gensim\n",
    "\n",
    "sns.set_context('talk')\n",
    "sns.set_style('ticks')"
   ]
  },
  {
   "cell_type": "code",
   "execution_count": 3,
   "metadata": {},
   "outputs": [
    {
     "data": {
      "text/plain": [
       "{12: 'Adventure',\n",
       " 14: 'Fantasy',\n",
       " 16: 'Animation',\n",
       " 18: 'Drama',\n",
       " 27: 'Horror',\n",
       " 28: 'Action',\n",
       " 35: 'Comedy',\n",
       " 36: 'History',\n",
       " 37: 'Western',\n",
       " 53: 'Thriller',\n",
       " 80: 'Crime',\n",
       " 99: 'Documentary',\n",
       " 878: 'Science Fiction',\n",
       " 9648: 'Mystery',\n",
       " 10402: 'Music',\n",
       " 10749: 'Romance',\n",
       " 10751: 'Family',\n",
       " 10752: 'War',\n",
       " 10770: 'TV Movie'}"
      ]
     },
     "execution_count": 3,
     "metadata": {},
     "output_type": "execute_result"
    }
   ],
   "source": [
    "import json\n",
    "id_to_genre = json.load(open('dataset/id_to_genre.json'))\n",
    "\n",
    "id_to_genre = {int(key):value for key, value in id_to_genre.items()} #convert string keys to int keys\n",
    "id_to_genre"
   ]
  },
  {
   "cell_type": "code",
   "execution_count": 5,
   "metadata": {},
   "outputs": [
    {
     "data": {
      "text/html": [
       "<div>\n",
       "<style scoped>\n",
       "    .dataframe tbody tr th:only-of-type {\n",
       "        vertical-align: middle;\n",
       "    }\n",
       "\n",
       "    .dataframe tbody tr th {\n",
       "        vertical-align: top;\n",
       "    }\n",
       "\n",
       "    .dataframe thead th {\n",
       "        text-align: right;\n",
       "    }\n",
       "</style>\n",
       "<table border=\"1\" class=\"dataframe\">\n",
       "  <thead>\n",
       "    <tr style=\"text-align: right;\">\n",
       "      <th></th>\n",
       "      <th>tmdb_id</th>\n",
       "      <th>imdb_id</th>\n",
       "      <th>tmdb_genres</th>\n",
       "      <th>tmdb_plot</th>\n",
       "      <th>imdb_plot</th>\n",
       "      <th>popularity</th>\n",
       "      <th>release_date</th>\n",
       "      <th>title</th>\n",
       "      <th>vote_average</th>\n",
       "      <th>vote_count</th>\n",
       "    </tr>\n",
       "  </thead>\n",
       "  <tbody>\n",
       "    <tr>\n",
       "      <td>0</td>\n",
       "      <td>278</td>\n",
       "      <td>tt0111161</td>\n",
       "      <td>[18, 80]</td>\n",
       "      <td>Framed in the 1940s for the double murder of h...</td>\n",
       "      <td>Chronicles the experiences of a formerly succe...</td>\n",
       "      <td>34.346733</td>\n",
       "      <td>1994-09-23</td>\n",
       "      <td>The Shawshank Redemption</td>\n",
       "      <td>8.6</td>\n",
       "      <td>9913</td>\n",
       "    </tr>\n",
       "    <tr>\n",
       "      <td>1</td>\n",
       "      <td>238</td>\n",
       "      <td>tt0068646</td>\n",
       "      <td>[18, 80]</td>\n",
       "      <td>Spanning the years 1945 to 1955  a chronicle o...</td>\n",
       "      <td>When the aging head of a famous crime family d...</td>\n",
       "      <td>39.079220</td>\n",
       "      <td>1972-03-14</td>\n",
       "      <td>The Godfather</td>\n",
       "      <td>8.5</td>\n",
       "      <td>7479</td>\n",
       "    </tr>\n",
       "    <tr>\n",
       "      <td>2</td>\n",
       "      <td>424</td>\n",
       "      <td>tt0108052</td>\n",
       "      <td>[18, 36, 10752]</td>\n",
       "      <td>The true story of how businessman Oskar Schind...</td>\n",
       "      <td>Oskar Schindler is a vainglorious and greedy G...</td>\n",
       "      <td>21.613388</td>\n",
       "      <td>1993-11-29</td>\n",
       "      <td>Schindler's List</td>\n",
       "      <td>8.4</td>\n",
       "      <td>5626</td>\n",
       "    </tr>\n",
       "    <tr>\n",
       "      <td>3</td>\n",
       "      <td>240</td>\n",
       "      <td>tt0071562</td>\n",
       "      <td>[18, 80]</td>\n",
       "      <td>In the continuing saga of the Corleone crime f...</td>\n",
       "      <td>The continuing saga of the Corleone crime fami...</td>\n",
       "      <td>34.872781</td>\n",
       "      <td>1974-12-20</td>\n",
       "      <td>The Godfather: Part II</td>\n",
       "      <td>8.4</td>\n",
       "      <td>4331</td>\n",
       "    </tr>\n",
       "    <tr>\n",
       "      <td>4</td>\n",
       "      <td>680</td>\n",
       "      <td>tt0110912</td>\n",
       "      <td>[53, 80]</td>\n",
       "      <td>A burger loving hit man  his philosophical par...</td>\n",
       "      <td>Jules Winnfield  Samuel L  Jackson  and Vincen...</td>\n",
       "      <td>39.663864</td>\n",
       "      <td>1994-09-10</td>\n",
       "      <td>Pulp Fiction</td>\n",
       "      <td>8.3</td>\n",
       "      <td>11076</td>\n",
       "    </tr>\n",
       "  </tbody>\n",
       "</table>\n",
       "</div>"
      ],
      "text/plain": [
       "   tmdb_id    imdb_id      tmdb_genres  \\\n",
       "0      278  tt0111161         [18, 80]   \n",
       "1      238  tt0068646         [18, 80]   \n",
       "2      424  tt0108052  [18, 36, 10752]   \n",
       "3      240  tt0071562         [18, 80]   \n",
       "4      680  tt0110912         [53, 80]   \n",
       "\n",
       "                                           tmdb_plot  \\\n",
       "0  Framed in the 1940s for the double murder of h...   \n",
       "1  Spanning the years 1945 to 1955  a chronicle o...   \n",
       "2  The true story of how businessman Oskar Schind...   \n",
       "3  In the continuing saga of the Corleone crime f...   \n",
       "4  A burger loving hit man  his philosophical par...   \n",
       "\n",
       "                                           imdb_plot  popularity release_date  \\\n",
       "0  Chronicles the experiences of a formerly succe...   34.346733   1994-09-23   \n",
       "1  When the aging head of a famous crime family d...   39.079220   1972-03-14   \n",
       "2  Oskar Schindler is a vainglorious and greedy G...   21.613388   1993-11-29   \n",
       "3  The continuing saga of the Corleone crime fami...   34.872781   1974-12-20   \n",
       "4  Jules Winnfield  Samuel L  Jackson  and Vincen...   39.663864   1994-09-10   \n",
       "\n",
       "                      title  vote_average  vote_count  \n",
       "0  The Shawshank Redemption           8.6        9913  \n",
       "1             The Godfather           8.5        7479  \n",
       "2          Schindler's List           8.4        5626  \n",
       "3    The Godfather: Part II           8.4        4331  \n",
       "4              Pulp Fiction           8.3       11076  "
      ]
     },
     "execution_count": 5,
     "metadata": {},
     "output_type": "execute_result"
    }
   ],
   "source": [
    "movies = pd.read_csv('dataset/moviesData.csv', encoding='utf-8', converters={'tmdb_genres':literal_eval})\n",
    "\n",
    "movies.release_date = pd.to_datetime(movies.release_date)\n",
    "movies.head()"
   ]
  },
  {
   "cell_type": "code",
   "execution_count": 6,
   "metadata": {},
   "outputs": [
    {
     "name": "stdout",
     "output_type": "stream",
     "text": [
      "Title:\n",
      " Forrest Gump \n",
      "\n",
      "TMDB Plot:\n",
      " A man with a low IQ has accomplished great things in his life and been present during significant historic events   in each case  far exceeding what anyone imagined he could do  Yet  despite all the things he has attained  his one true love eludes him   Forrest Gump  is the story of a man who rose above his challenges  and who proved that determination  courage  and love are more important than ability  \n",
      "\n",
      "IMDB Plot:\n",
      " Forrest Gump is a simple man with a low I Q  but good intentions  He is running through childhood with his best and only friend Jenny  His  mama  teaches him the ways of life and leaves him to choose his destiny  Forrest joins the army for service in Vietnam  finding new friends called Dan and Bubba  he wins medals  creates a famous shrimp fishing fleet  inspires people to jog  starts a ping pong craze  creates the smiley  writes bumper stickers and songs  donates to people and meets the president several times  However  this is all irrelevant to Forrest who can only think of his childhood sweetheart Jenny Curran  who has messed up her life  Although in the end all he wants to prove is that anyone can love anyone   aliw135\n"
     ]
    }
   ],
   "source": [
    "print('Title:\\n', movies.title[12],\n",
    "      '\\n\\nTMDB Plot:\\n', movies.tmdb_plot[12], \n",
    "      '\\n\\nIMDB Plot:\\n', movies.imdb_plot[12])"
   ]
  },
  {
   "cell_type": "code",
   "execution_count": 7,
   "metadata": {},
   "outputs": [
    {
     "data": {
      "image/png": "[encoded data removed]",
      "text/plain": [
       "<Figure size 432x288 with 1 Axes>"
      ]
     },
     "metadata": {
      "needs_background": "light"
     },
     "output_type": "display_data"
    }
   ],
   "source": [
    "plt.hist(movies.vote_average)\n",
    "plt.title('Movie Ratings (0-10 scale)')\n",
    "plt.xlabel('Average Rating')\n",
    "plt.ylabel('Count')\n",
    "sns.despine()"
   ]
  },
  {
   "cell_type": "code",
   "execution_count": 8,
   "metadata": {},
   "outputs": [
    {
     "data": {
      "image/png": "[encoded data removed]",
      "text/plain": [
       "<Figure size 432x288 with 1 Axes>"
      ]
     },
     "metadata": {
      "needs_background": "light"
     },
     "output_type": "display_data"
    }
   ],
   "source": [
    "genre_list_ints = []\n",
    "for sublist in list(movies.tmdb_genres):\n",
    "    for item in sublist:\n",
    "        genre_list_ints.append(item)\n",
    "\n",
    "genre_list_strings = []\n",
    "for genre in genre_list_ints:\n",
    "    genre_list_strings.append(id_to_genre[genre])\n",
    "    \n",
    "genre_counts = Counter(genre_list_strings)\n",
    "genre_df = pd.DataFrame.from_dict(genre_counts, orient='index')\n",
    "genre_df.sort_values(by = 0, ascending=False).plot(kind='bar', legend=False)\n",
    "plt.title('TMDB Genre Counts in Dataset')\n",
    "plt.ylabel('Count')\n",
    "plt.xlabel('Genre')\n",
    "sns.despine()"
   ]
  },
  {
   "cell_type": "code",
   "execution_count": 9,
   "metadata": {},
   "outputs": [
    {
     "name": "stdout",
     "output_type": "stream",
     "text": [
      "Average TMDB Genres: 2.5355355355355353\n"
     ]
    },
    {
     "data": {
      "image/png": "[encoded data removed]",
      "text/plain": [
       "<Figure size 432x288 with 1 Axes>"
      ]
     },
     "metadata": {
      "needs_background": "light"
     },
     "output_type": "display_data"
    }
   ],
   "source": [
    "#count number of genres per movie\n",
    "tmdb_num_genres_per_movie = [len(genres) for genres in movies.tmdb_genres]\n",
    "\n",
    "#collect counts and plot for both imdb and tmdb\n",
    "tmdb_num_genre_counts = Counter(tmdb_num_genres_per_movie)\n",
    "tmdb_genre_counts_df = pd.DataFrame.from_dict(tmdb_num_genre_counts, orient='index')\n",
    "tmdb_genre_counts_df = tmdb_genre_counts_df.sort_index()\n",
    "tmdb_genre_counts_df.plot(kind='bar', legend=False)\n",
    "plt.title('Genres per TMDB Movie')\n",
    "plt.xlabel('Genres Labels per Movie')\n",
    "plt.ylabel('Count')\n",
    "sns.despine()\n",
    "\n",
    "print('Average TMDB Genres:', np.mean(tmdb_num_genres_per_movie))"
   ]
  },
  {
   "cell_type": "code",
   "execution_count": 10,
   "metadata": {},
   "outputs": [
    {
     "data": {
      "image/png": "[encoded data removed]",
      "text/plain": [
       "<Figure size 432x288 with 1 Axes>"
      ]
     },
     "metadata": {
      "needs_background": "light"
     },
     "output_type": "display_data"
    }
   ],
   "source": [
    "movie_years = [year.year for year in movies.release_date]\n",
    "year_counts = Counter(movie_years)\n",
    "year_df = pd.DataFrame.from_dict(year_counts, orient='index')\n",
    "year_df.sort_index().plot(kind='bar', legend=False)\n",
    "plt.title('Movies Counts by Year in Dataset')\n",
    "plt.tick_params(labelsize=9)\n",
    "plt.ylabel('Total Movies')\n",
    "plt.xlabel('Year')\n",
    "sns.despine()"
   ]
  },
  {
   "cell_type": "code",
   "execution_count": 11,
   "metadata": {},
   "outputs": [
    {
     "data": {
      "image/png": "[encoded data removed]",
      "text/plain": [
       "<Figure size 432x288 with 1 Axes>"
      ]
     },
     "metadata": {
      "needs_background": "light"
     },
     "output_type": "display_data"
    }
   ],
   "source": [
    "#tmdb lengths\n",
    "tmdb_plot_lengths = []\n",
    "for plot in movies.tmdb_plot:\n",
    "    plot_length = len(plot.split())\n",
    "    tmdb_plot_lengths.append(plot_length)\n",
    "    \n",
    "#imdb lengths\n",
    "imdb_plot_lengths = []\n",
    "for plot in movies.imdb_plot:\n",
    "    plot_length = len(plot.split())\n",
    "    imdb_plot_lengths.append(plot_length)\n",
    "    \n",
    "#plot tmdb lengths\n",
    "bins = np.linspace(0, 500, 30)\n",
    "plt.hist(tmdb_plot_lengths, bins, alpha = 0.8, label = 'TMDB')\n",
    "plt.hist(imdb_plot_lengths, bins, alpha = 0.8, label = 'IMDB')\n",
    "plt.xlabel('Plot Length (words)')\n",
    "plt.ylabel('Count')\n",
    "plt.title('Distribution of TMDB & IMDB Movie Plot Lengths')\n",
    "plt.legend(loc='lower right')\n",
    "sns.despine();"
   ]
  },
  {
   "cell_type": "code",
   "execution_count": 12,
   "metadata": {},
   "outputs": [
    {
     "data": {
      "image/png": "[encoded data removed]",
      "text/plain": [
       "<Figure size 432x288 with 1 Axes>"
      ]
     },
     "metadata": {
      "needs_background": "light"
     },
     "output_type": "display_data"
    }
   ],
   "source": [
    "#scatter of TMDB vs IMDB plot lengths\n",
    "plt.scatter(imdb_plot_lengths, tmdb_plot_lengths)\n",
    "plt.title('TDMB vs. IMDB Plot Lenghts')\n",
    "plt.xlabel('IMDB Plot Lengths')\n",
    "plt.ylabel('TMDB Plot Lengths')\n",
    "sns.despine();"
   ]
  },
  {
   "cell_type": "code",
   "execution_count": 13,
   "metadata": {},
   "outputs": [
    {
     "name": "stdout",
     "output_type": "stream",
     "text": [
      "Shortest and longest plots (words):\n",
      "TMDB:  8 , 165\n",
      "Mean TMDB plot length: 48.474474474474476\n",
      "\n",
      "IMDB:  10 , 505\n",
      "Mean IMDB plot length: 115.35035035035035\n"
     ]
    }
   ],
   "source": [
    "print('Shortest and longest plots (words):')\n",
    "print('TMDB: ', min(tmdb_plot_lengths),',', max(tmdb_plot_lengths))\n",
    "print('Mean TMDB plot length:', np.mean(tmdb_plot_lengths))\n",
    "print()\n",
    "print('IMDB: ', min(imdb_plot_lengths),',', max(imdb_plot_lengths))\n",
    "print('Mean IMDB plot length:', np.mean(imdb_plot_lengths))\n"
   ]
  },
  {
   "cell_type": "code",
   "execution_count": 14,
   "metadata": {},
   "outputs": [
    {
     "data": {
      "image/png": "[encoded data removed]",
      "text/plain": [
       "<Figure size 432x288 with 1 Axes>"
      ]
     },
     "metadata": {
      "needs_background": "light"
     },
     "output_type": "display_data"
    }
   ],
   "source": [
    "sns.boxplot(tmdb_num_genres_per_movie, tmdb_plot_lengths)\n",
    "plt.title('TMDB Plot Lengths vs. Number of Genres per Movie')\n",
    "plt.xlabel('Genres per Movie')\n",
    "plt.ylabel('Plot Length (words)')\n",
    "sns.despine()"
   ]
  },
  {
   "cell_type": "code",
   "execution_count": null,
   "metadata": {},
   "outputs": [],
   "source": []
  },
  {
   "cell_type": "code",
   "execution_count": 19,
   "metadata": {},
   "outputs": [],
   "source": [
    "movies['combined_plots'] = movies['tmdb_plot'] + ' ' + movies['imdb_plot']"
   ]
  },
  {
   "cell_type": "code",
   "execution_count": 20,
   "metadata": {},
   "outputs": [
    {
     "name": "stderr",
     "output_type": "stream",
     "text": [
      "/opt/anaconda3/lib/python3.6/site-packages/sklearn/feature_extraction/text.py:386: UserWarning: Your stop_words may be inconsistent with your preprocessing. Tokenizing the stop words generated tokens ['aren', 'can', 'couldn', 'didn', 'doesn', 'don', 'hadn', 'hasn', 'haven', 'isn', 'let', 'll', 'mustn', 're', 'shan', 'shouldn', 've', 'wasn', 'weren', 'won', 'wouldn'] not in stop_words.\n",
      "  'stop_words.' % sorted(inconsistent))\n"
     ]
    },
    {
     "data": {
      "text/plain": [
       "((999, 1162), (999, 2436), (999, 3022))"
      ]
     },
     "execution_count": 20,
     "metadata": {},
     "output_type": "execute_result"
    }
   ],
   "source": [
    "tfidf_vectorizer = TfidfVectorizer(max_df=0.95, min_df=0.005, \n",
    "                          stop_words = get_stop_words('en'))\n",
    "\n",
    "tmdb_bow=tfidf_vectorizer.fit_transform(movies['tmdb_plot'])\n",
    "imdb_bow=tfidf_vectorizer.fit_transform(movies['imdb_plot'])\n",
    "combined_bow = tfidf_vectorizer.fit_transform(movies['combined_plots'])\n",
    "\n",
    "#check shape of resulting matrices\n",
    "tmdb_bow.shape, imdb_bow.shape, combined_bow.shape"
   ]
  },
  {
   "cell_type": "code",
   "execution_count": 24,
   "metadata": {},
   "outputs": [],
   "source": [
    "#each plot is a row vector of the TFIDF sparse matrices\n",
    "movies['tmdb_bow_plot'] = [plot for plot in tmdb_bow]\n",
    "movies['imdb_bow_plot'] = [plot for plot in imdb_bow]\n",
    "movies['combined_bow_plots'] = [plot for plot in combined_bow]\n",
    "\n",
    "#resave movies csv\n",
    "movies.to_csv('dataset/moviesData.csv', encoding=\"utf-8\", index=False)\n",
    "\n",
    "#save TFIDF matrices an numpy arrays\n",
    "np.save('dataset/tmdb_bow.npy',tmdb_bow.toarray())\n",
    "np.save('dataset/imdb_bow.npy',imdb_bow.toarray())\n",
    "np.save('dataset/combined_bow.npy', combined_bow.toarray())"
   ]
  },
  {
   "cell_type": "code",
   "execution_count": 25,
   "metadata": {},
   "outputs": [
    {
     "name": "stdout",
     "output_type": "stream",
     "text": [
      "174\n"
     ]
    }
   ],
   "source": [
    "#define tokenizer\n",
    "tokenizer = RegexpTokenizer(r'\\w+')\n",
    "#set stop words list\n",
    "english_stop = get_stop_words('en')\n",
    "print(len(english_stop))\n",
    "\n",
    "#function to clean plots\n",
    "def clean_plot(plot):\n",
    "    '''\n",
    "    clean_plot()\n",
    "    -applies the following the plot of a movie:\n",
    "        1) lowers all strings\n",
    "        2) tokenizes each word\n",
    "        3) removed English stop words\n",
    "\n",
    "    -inputs: plot (string)\n",
    "    \n",
    "    -outputs: list representation of plot\n",
    "    '''\n",
    "    plot = plot.lower()\n",
    "    plot = tokenizer.tokenize(plot)\n",
    "    plot = [word for word in plot if word not in english_stop]\n",
    "    return plot"
   ]
  },
  {
   "cell_type": "code",
   "execution_count": 26,
   "metadata": {},
   "outputs": [
    {
     "name": "stdout",
     "output_type": "stream",
     "text": [
      "Framed in the 1940s for the double murder of his wife and her lover  upstanding banker Andy Dufresne begins a new life at the Shawshank prison  where he puts his accounting skills to work for an amoral warden  During his long stretch in prison  Dufresne comes to be admired by the other inmates    including an older prisoner named Red    for his integrity and unquenchable sense of hope\n",
      "['framed', '1940s', 'double', 'murder', 'wife', 'lover', 'upstanding', 'banker', 'andy', 'dufresne', 'begins', 'new', 'life', 'shawshank', 'prison', 'puts', 'accounting', 'skills', 'work', 'amoral', 'warden', 'long', 'stretch', 'prison', 'dufresne', 'comes', 'admired', 'inmates', 'including', 'older', 'prisoner', 'named', 'red', 'integrity', 'unquenchable', 'sense', 'hope']\n"
     ]
    }
   ],
   "source": [
    "#check function on first movie's clean plot\n",
    "print(movies.tmdb_plot[0])\n",
    "print(clean_plot(movies.tmdb_plot[0]))"
   ]
  },
  {
   "cell_type": "code",
   "execution_count": 27,
   "metadata": {},
   "outputs": [
    {
     "data": {
      "text/plain": [
       "(1    [spanning, years, 1945, 1955, chronicle, ficti...\n",
       " 2    [true, story, businessman, oskar, schindler, s...\n",
       " 3    [continuing, saga, corleone, crime, family, yo...\n",
       " 4    [burger, loving, hit, man, philosophical, part...\n",
       " Name: tmdb_clean_plot, dtype: object,\n",
       " 1    [aging, head, famous, crime, family, decides, ...\n",
       " 2    [oskar, schindler, vainglorious, greedy, germa...\n",
       " 3    [continuing, saga, corleone, crime, family, te...\n",
       " 4    [jules, winnfield, samuel, l, jackson, vincent...\n",
       " Name: imdb_clean_plot, dtype: object,\n",
       " 1    [spanning, years, 1945, 1955, chronicle, ficti...\n",
       " 2    [true, story, businessman, oskar, schindler, s...\n",
       " 3    [continuing, saga, corleone, crime, family, yo...\n",
       " 4    [burger, loving, hit, man, philosophical, part...\n",
       " Name: combined_clean_plot, dtype: object)"
      ]
     },
     "execution_count": 27,
     "metadata": {},
     "output_type": "execute_result"
    }
   ],
   "source": [
    "#apply to movies df for both imdb and tmdb\n",
    "movies['tmdb_clean_plot'] = movies['tmdb_plot'].apply(lambda x: clean_plot(x))\n",
    "movies['imdb_clean_plot'] = movies['imdb_plot'].apply(lambda x: clean_plot(x))\n",
    "movies['combined_clean_plot'] = movies['combined_plots'].apply(lambda x: clean_plot(x))\n",
    "\n",
    "#check some outputs\n",
    "movies.tmdb_clean_plot[1:5], movies.imdb_clean_plot[1:5], movies.combined_clean_plot[1:5]"
   ]
  },
  {
   "cell_type": "code",
   "execution_count": 28,
   "metadata": {},
   "outputs": [],
   "source": [
    "from gensim import models"
   ]
  },
  {
   "cell_type": "code",
   "execution_count": 30,
   "metadata": {},
   "outputs": [],
   "source": [
    "#Load the pretrained google news word2vec model\n",
    "model = models.KeyedVectors.load_word2vec_format('dataset/GoogleNews-vectors-negative300.bin', binary=True)"
   ]
  },
  {
   "cell_type": "code",
   "execution_count": 31,
   "metadata": {},
   "outputs": [],
   "source": [
    "#collect words not in the Google News w2v model\n",
    "not_w2v = []\n",
    "\n",
    "#word2vec function\n",
    "def apply_words2Vec(cleaned_plot, mean=False):\n",
    "    \n",
    "    \"\"\"\n",
    "    apply_words2Vec()\n",
    "    -applies the following transformations to the cleaned plot of a movie:\n",
    "        1) removes words that are not in google's model\n",
    "        2) creates a 300-dimension vector representation of each word\n",
    "        3) outputes vector of vectors for plot\n",
    "        If mean = True\n",
    "        4) converts the resulting nd_array into a 1d_array via np.mean() and\n",
    "           outputs single vector for each plot.\n",
    "    -also keeps track of all words not found in google's model\n",
    "    \n",
    "    -inputs: cleaned_plot (string)\n",
    "    \n",
    "    -outputs: vector representation of plot\n",
    "    \n",
    "    \"\"\"\n",
    "    vecs=[]\n",
    "    for word in cleaned_plot:\n",
    "        #add word vector to list if it is in the google model\n",
    "        try:\n",
    "            vecs.append(model.word_vec(word)) \n",
    "        except:\n",
    "            #if the word is not in the w2v model, add it to\n",
    "            #our list of skipped words\n",
    "            not_w2v.append(word)\n",
    "    \n",
    "    #take the column-wise mean of vecs to reduce nd_aray to 1d_array\n",
    "    if mean == True:\n",
    "        vecs = np.mean(vecs, axis=0)\n",
    "        return vecs\n",
    "    #return matrix of w2v arrays where each row is a word in the plot\n",
    "    return np.stack(vecs)"
   ]
  },
  {
   "cell_type": "code",
   "execution_count": 32,
   "metadata": {},
   "outputs": [
    {
     "name": "stdout",
     "output_type": "stream",
     "text": [
      "Mean vector representations:\n",
      "(300,) (300,) (300,)\n",
      "Matrix representations:\n",
      "(33, 300) (38, 300) (71, 300)\n"
     ]
    }
   ],
   "source": [
    "#apply transformation to three sets of plots and add columns to df\n",
    "\n",
    "#columns with mean w2v\n",
    "movies['tmdb_w2v_plot_mean'] = movies['tmdb_clean_plot'].apply(lambda x: apply_words2Vec(x, mean=True))\n",
    "movies['imdb_w2v_plot_mean'] = movies['imdb_clean_plot'].apply(lambda x: apply_words2Vec(x, mean=True))\n",
    "movies['combined_w2v_plot_mean'] = movies['combined_clean_plot'].apply(lambda x: apply_words2Vec(x, mean=True))\n",
    "\n",
    "#columns with w2v matrix for each plot\n",
    "movies['tmdb_w2v_plot_matrix'] = movies['tmdb_clean_plot'].apply(lambda x: apply_words2Vec(x, mean=False))\n",
    "movies['imdb_w2v_plot_matrix'] = movies['imdb_clean_plot'].apply(lambda x: apply_words2Vec(x, mean=False))\n",
    "movies['combined_w2v_plot_matrix'] = movies['combined_clean_plot'].apply(lambda x: apply_words2Vec(x, mean=False))\n",
    "\n",
    "#check shapes of first movie vectors to confirm nd_array and 300-dimensions\n",
    "print('Mean vector representations:')\n",
    "print(movies.loc[0,'tmdb_w2v_plot_mean'].shape, \n",
    "      movies.loc[0,'imdb_w2v_plot_mean'].shape, \n",
    "      movies.loc[0, 'combined_w2v_plot_mean'].shape)\n",
    "\n",
    "print('Matrix representations:')\n",
    "print(movies.loc[0,'tmdb_w2v_plot_matrix'].shape, \n",
    "      movies.loc[0,'imdb_w2v_plot_matrix'].shape,\n",
    "      movies.loc[0,'combined_w2v_plot_matrix'].shape)"
   ]
  },
  {
   "cell_type": "code",
   "execution_count": 33,
   "metadata": {},
   "outputs": [
    {
     "name": "stdout",
     "output_type": "stream",
     "text": [
      "21532\n",
      "['deray' 'janeiro' 'verona' 'calloway' 'ferrante' 'griswolds' 'chiyo'\n",
      " 'beaufort' 'brubaker' 'nitesh' 'lightyear' 'carvalho' 'manolo' 'onllwyn'\n",
      " 'altaira' 'mulan' 'barrelled' 'nicodemus' '2009' 'emmett' 'claudio'\n",
      " 'margo' 'pleakley' 'liesel' 'wwii' '04' 'claudio' 'saoirse' 'cristo'\n",
      " 'augustine' 'chiyo' 'agu' 'connery' 'zakone' '60s' 'doris' 'thao' '21'\n",
      " 'ultron' 'costillo' 'moonee' 'zorg' 'saroo' '60' 'clarice' 'matuschek'\n",
      " 'a24' 'wigand' 'standish' '1327']\n"
     ]
    }
   ],
   "source": [
    "#print some of our skipped words\n",
    "print(len(not_w2v))\n",
    "np.random.seed(112)\n",
    "print(np.random.choice(not_w2v, 50, replace=False))"
   ]
  },
  {
   "cell_type": "code",
   "execution_count": 34,
   "metadata": {},
   "outputs": [
    {
     "name": "stdout",
     "output_type": "stream",
     "text": [
      "All TMDB movies have a word2vec representation.\n",
      "All IMDB movies have a word2vec representation.\n"
     ]
    }
   ],
   "source": [
    "for plot in movies.tmdb_w2v_plot_mean:\n",
    "    if len(plot) != 300:\n",
    "        print(\"AH! no word2vec representation\")\n",
    "print('All TMDB movies have a word2vec representation.')\n",
    "\n",
    "for plot in movies.imdb_w2v_plot_mean:\n",
    "    if len(plot) != 300:\n",
    "        print(\"AH! no word2vec representation\")\n",
    "print('All IMDB movies have a word2vec representation.')"
   ]
  },
  {
   "cell_type": "code",
   "execution_count": 36,
   "metadata": {},
   "outputs": [
    {
     "name": "stderr",
     "output_type": "stream",
     "text": [
      "/opt/anaconda3/lib/python3.6/site-packages/ipykernel_launcher.py:2: FutureWarning: Method .as_matrix will be removed in a future version. Use .values instead.\n",
      "  \n",
      "/opt/anaconda3/lib/python3.6/site-packages/ipykernel_launcher.py:3: FutureWarning: Method .as_matrix will be removed in a future version. Use .values instead.\n",
      "  This is separate from the ipykernel package so we can avoid doing imports until\n",
      "/opt/anaconda3/lib/python3.6/site-packages/ipykernel_launcher.py:4: FutureWarning: Method .as_matrix will be removed in a future version. Use .values instead.\n",
      "  after removing the cwd from sys.path.\n",
      "/opt/anaconda3/lib/python3.6/site-packages/ipykernel_launcher.py:7: FutureWarning: Method .as_matrix will be removed in a future version. Use .values instead.\n",
      "  import sys\n",
      "/opt/anaconda3/lib/python3.6/site-packages/ipykernel_launcher.py:8: FutureWarning: Method .as_matrix will be removed in a future version. Use .values instead.\n",
      "  \n",
      "/opt/anaconda3/lib/python3.6/site-packages/ipykernel_launcher.py:9: FutureWarning: Method .as_matrix will be removed in a future version. Use .values instead.\n",
      "  if __name__ == '__main__':\n"
     ]
    }
   ],
   "source": [
    "#w2v mean vectors\n",
    "np.save('dataset/tmdb_w2v_mean.npy', movies['tmdb_w2v_plot_mean'].as_matrix())\n",
    "np.save('dataset/imdb_w2v_mean.npy', movies['imdb_w2v_plot_mean'].as_matrix())\n",
    "np.save('dataset/combined_w2v_mean.npy', movies['combined_w2v_plot_mean'].as_matrix())\n",
    "\n",
    "#w2v matrices\n",
    "np.save('dataset/tmdb_w2v_matrix.npy', movies['tmdb_w2v_plot_matrix'].as_matrix())\n",
    "np.save('dataset/imdb_w2v_matrix.npy', movies['imdb_w2v_plot_matrix'].as_matrix())\n",
    "np.save('dataset/combined_w2v_matrix.npy', movies['combined_w2v_plot_matrix'].as_matrix())"
   ]
  },
  {
   "cell_type": "code",
   "execution_count": 37,
   "metadata": {},
   "outputs": [],
   "source": [
    "movies.to_csv('dataset/moviesData.csv', encoding=\"utf-8\", index=False)"
   ]
  },
  {
   "cell_type": "code",
   "execution_count": null,
   "metadata": {},
   "outputs": [],
   "source": []
  }
 ],
 "metadata": {
  "kernelspec": {
   "display_name": "Python 3",
   "language": "python",
   "name": "python3"
  },
  "language_info": {
   "codemirror_mode": {
    "name": "ipython",
    "version": 3
   },
   "file_extension": ".py",
   "mimetype": "text/x-python",
   "name": "python",
   "nbconvert_exporter": "python",
   "pygments_lexer": "ipython3",
   "version": "3.6.9"
  }
 },
 "nbformat": 4,
 "nbformat_minor": 2
}
