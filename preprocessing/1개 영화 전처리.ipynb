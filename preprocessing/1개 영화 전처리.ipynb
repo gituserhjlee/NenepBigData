{
 "cells": [
  {
   "cell_type": "code",
   "execution_count": 238,
   "metadata": {},
   "outputs": [],
   "source": [
    "%matplotlib inline\n",
    "import matplotlib.pyplot as plt\n",
    "import pandas as pd\n",
    "import numpy as np\n",
    "import emoji\n",
    "import re\n",
    "\n",
    "from nltk.corpus import stopwords"
   ]
  },
  {
   "cell_type": "code",
   "execution_count": 239,
   "metadata": {},
   "outputs": [],
   "source": [
    "data = pd.read_csv(\"Gisaengchung.csv\", names = [\"idx\",\"review\"])"
   ]
  },
  {
   "cell_type": "code",
   "execution_count": 240,
   "metadata": {},
   "outputs": [],
   "source": [
    "data = data.iloc[1:,1:]"
   ]
  },
  {
   "cell_type": "code",
   "execution_count": 241,
   "metadata": {},
   "outputs": [],
   "source": [
    "#리스트 형태에 넣기\n",
    "review_list = []\n",
    "ra = review_list.append\n",
    "\n",
    "for i in range(len(data)):\n",
    "    ra(data.iloc[i,0])"
   ]
  },
  {
   "cell_type": "markdown",
   "metadata": {},
   "source": [
    "## 전처리 방안\n",
    "\n",
    "+ 이모티콘을 단어로 변환 후 중복된 이모티콘을 1개로 만들기   \n",
    "+ 단어의 길이가 1에서 2인 것 제거    \n",
    "+ 리뷰의 구두점들을 제거      \n",
    "+ 첫번째 단어가 대문자거나 대문자로 되어있는 모든 단어들 제거   \n",
    "+ 숫자 제거      \n",
    "+ 제거되지 않은 대문자 모임 소문자화 후 양끝 공백제거"
   ]
  },
  {
   "cell_type": "code",
   "execution_count": 242,
   "metadata": {},
   "outputs": [],
   "source": [
    "multi_emoji = re.compile(r'[:]{2,}[\\w_-]+')\n",
    "shortword = re.compile(r'\\W*\\b\\w{1,2}\\b')\n",
    "punc = re.compile(r'[\\W_]+')\n",
    "first_upper = re.compile(r'\\s*[A-Z]\\[a-z0-9]+')\n",
    "digit = re.compile(r'\\d+')\n",
    "\n",
    "token_list = []\n",
    "ta = token_list.append\n",
    "for i in range(len(review_list)):\n",
    "    review_list[i] = multi_emoji.sub('',emoji.demojize(review_list[i]))\n",
    "    review_list[i] = shortword.sub('',review_list[i])\n",
    "    review_list[i] = punc.sub(' ',review_list[i])\n",
    "    review_list[i] = first_upper.sub('',review_list[i])\n",
    "    review_list[i] = digit.sub('',review_list[i])\n",
    "    review_list[i] = shortword.sub('',review_list[i])\n",
    "    review_list[i] = review_list[i].lower()\n",
    "    review_list[i] = review_list[i].strip()\n",
    "    \n",
    "    #토큰화\n",
    "    ta(re.split('\\s+',review_list[i]))"
   ]
  },
  {
   "cell_type": "markdown",
   "metadata": {},
   "source": [
    "## nltk Stopwords로 불용어 제거하기"
   ]
  },
  {
   "cell_type": "code",
   "execution_count": 243,
   "metadata": {
    "scrolled": true
   },
   "outputs": [
    {
     "name": "stdout",
     "output_type": "stream",
     "text": [
      "398\n",
      "160\n",
      "88\n",
      "396\n",
      "22\n",
      "18\n",
      "23\n",
      "40\n",
      "42\n",
      "64\n"
     ]
    }
   ],
   "source": [
    "for i,li in enumerate(token_list):\n",
    "    token_list[i] = [item for item in li if item not in stop_words]\n",
    "            \n",
    "for k in range(10):\n",
    "    print(len(token_list[k]))"
   ]
  },
  {
   "cell_type": "code",
   "execution_count": null,
   "metadata": {},
   "outputs": [],
   "source": []
  }
 ],
 "metadata": {
  "kernelspec": {
   "display_name": "Python 3",
   "language": "python",
   "name": "python3"
  },
  "language_info": {
   "codemirror_mode": {
    "name": "ipython",
    "version": 3
   },
   "file_extension": ".py",
   "mimetype": "text/x-python",
   "name": "python",
   "nbconvert_exporter": "python",
   "pygments_lexer": "ipython3",
   "version": "3.7.1"
  }
 },
 "nbformat": 4,
 "nbformat_minor": 4
}
