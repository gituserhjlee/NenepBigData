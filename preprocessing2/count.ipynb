{
 "cells": [
  {
   "cell_type": "code",
   "execution_count": 1,
   "metadata": {},
   "outputs": [
    {
     "name": "stdout",
     "output_type": "stream",
     "text": [
      "['C:\\\\hello-git-tortoiseGit/NenepBigData/preprocessing2/data']\n"
     ]
    }
   ],
   "source": [
    "from __future__ import print_function\n",
    "import os\n",
    "data_path = ['C:\\\\hello-git-tortoiseGit/NenepBigData/preprocessing2/data']\n",
    "\n",
    "print (data_path)"
   ]
  },
  {
   "cell_type": "code",
   "execution_count": 2,
   "metadata": {
    "scrolled": true
   },
   "outputs": [
    {
     "data": {
      "text/html": [
       "<div>\n",
       "<style scoped>\n",
       "    .dataframe tbody tr th:only-of-type {\n",
       "        vertical-align: middle;\n",
       "    }\n",
       "\n",
       "    .dataframe tbody tr th {\n",
       "        vertical-align: top;\n",
       "    }\n",
       "\n",
       "    .dataframe thead th {\n",
       "        text-align: right;\n",
       "    }\n",
       "</style>\n",
       "<table border=\"1\" class=\"dataframe\">\n",
       "  <thead>\n",
       "    <tr style=\"text-align: right;\">\n",
       "      <th></th>\n",
       "      <th>review</th>\n",
       "      <th>label</th>\n",
       "    </tr>\n",
       "  </thead>\n",
       "  <tbody>\n",
       "    <tr>\n",
       "      <th>0</th>\n",
       "      <td>act end atmosphere despair mixed happy moment ...</td>\n",
       "      <td>3</td>\n",
       "    </tr>\n",
       "    <tr>\n",
       "      <th>1</th>\n",
       "      <td>honest go watch film negative mind anyway hear...</td>\n",
       "      <td>7</td>\n",
       "    </tr>\n",
       "    <tr>\n",
       "      <th>2</th>\n",
       "      <td>year gibson braveheart scottish movie false ex...</td>\n",
       "      <td>8</td>\n",
       "    </tr>\n",
       "    <tr>\n",
       "      <th>3</th>\n",
       "      <td>change story dad really thing movie go decent ...</td>\n",
       "      <td>1</td>\n",
       "    </tr>\n",
       "    <tr>\n",
       "      <th>4</th>\n",
       "      <td>movie potential top line intelligent science f...</td>\n",
       "      <td>7</td>\n",
       "    </tr>\n",
       "  </tbody>\n",
       "</table>\n",
       "</div>"
      ],
      "text/plain": [
       "                                              review  label\n",
       "0  act end atmosphere despair mixed happy moment ...      3\n",
       "1  honest go watch film negative mind anyway hear...      7\n",
       "2  year gibson braveheart scottish movie false ex...      8\n",
       "3  change story dad really thing movie go decent ...      1\n",
       "4  movie potential top line intelligent science f...      7"
      ]
     },
     "execution_count": 2,
     "metadata": {},
     "output_type": "execute_result"
    }
   ],
   "source": [
    "import numpy as np\n",
    "import pandas as pd\n",
    "\n",
    "filepath = os.sep.join(data_path + ['lemmatizing.csv'])\n",
    "movies = pd.read_csv(filepath, sep=',', header=0)\n",
    "\n",
    "movies.head()\n"
   ]
  },
  {
   "cell_type": "code",
   "execution_count": 60,
   "metadata": {},
   "outputs": [],
   "source": [
    "select_genre= movies.loc[movies[\"label\"]==0]"
   ]
  },
  {
   "cell_type": "code",
   "execution_count": 61,
   "metadata": {},
   "outputs": [
    {
     "data": {
      "text/html": [
       "<div>\n",
       "<style scoped>\n",
       "    .dataframe tbody tr th:only-of-type {\n",
       "        vertical-align: middle;\n",
       "    }\n",
       "\n",
       "    .dataframe tbody tr th {\n",
       "        vertical-align: top;\n",
       "    }\n",
       "\n",
       "    .dataframe thead th {\n",
       "        text-align: right;\n",
       "    }\n",
       "</style>\n",
       "<table border=\"1\" class=\"dataframe\">\n",
       "  <thead>\n",
       "    <tr style=\"text-align: right;\">\n",
       "      <th></th>\n",
       "      <th>review</th>\n",
       "      <th>label</th>\n",
       "    </tr>\n",
       "  </thead>\n",
       "  <tbody>\n",
       "    <tr>\n",
       "      <th>21</th>\n",
       "      <td>fan write everything say base fact enjoy book ...</td>\n",
       "      <td>0</td>\n",
       "    </tr>\n",
       "    <tr>\n",
       "      <th>28</th>\n",
       "      <td>see movie gladiator since teenager always wond...</td>\n",
       "      <td>0</td>\n",
       "    </tr>\n",
       "    <tr>\n",
       "      <th>31</th>\n",
       "      <td>whilst watch felt disappointed slow wordy slop...</td>\n",
       "      <td>0</td>\n",
       "    </tr>\n",
       "    <tr>\n",
       "      <th>34</th>\n",
       "      <td>see twice second time around notice thing real...</td>\n",
       "      <td>0</td>\n",
       "    </tr>\n",
       "    <tr>\n",
       "      <th>39</th>\n",
       "      <td>opinion great film really show one man rage qu...</td>\n",
       "      <td>0</td>\n",
       "    </tr>\n",
       "  </tbody>\n",
       "</table>\n",
       "</div>"
      ],
      "text/plain": [
       "                                               review  label\n",
       "21  fan write everything say base fact enjoy book ...      0\n",
       "28  see movie gladiator since teenager always wond...      0\n",
       "31  whilst watch felt disappointed slow wordy slop...      0\n",
       "34  see twice second time around notice thing real...      0\n",
       "39  opinion great film really show one man rage qu...      0"
      ]
     },
     "execution_count": 61,
     "metadata": {},
     "output_type": "execute_result"
    }
   ],
   "source": [
    "select_genre.head()"
   ]
  },
  {
   "cell_type": "code",
   "execution_count": 79,
   "metadata": {},
   "outputs": [],
   "source": [
    "from collections import Counter\n",
    "\n",
    "counter=Counter()\n",
    "\n",
    "for words in select_genre[\"review\"]:\n",
    "    for word in words.split(\" \"):\n",
    "        counter[word]+=1"
   ]
  },
  {
   "cell_type": "code",
   "execution_count": 80,
   "metadata": {},
   "outputs": [
    {
     "data": {
      "text/plain": [
       "[('movie', 32779),\n",
       " ('film', 30905),\n",
       " ('war', 16068),\n",
       " ('one', 13501),\n",
       " ('make', 11489),\n",
       " ('see', 10850),\n",
       " ('like', 10660),\n",
       " ('scene', 9054),\n",
       " ('time', 8680),\n",
       " ('character', 8667),\n",
       " ('story', 8540),\n",
       " ('get', 7287),\n",
       " ('good', 7207),\n",
       " ('great', 6933),\n",
       " ('watch', 6664),\n",
       " ('well', 6406),\n",
       " ('soldier', 6088),\n",
       " ('really', 5793),\n",
       " ('think', 5357),\n",
       " ('say', 5261),\n",
       " ('best', 5190),\n",
       " ('way', 5116),\n",
       " ('much', 5006),\n",
       " ('take', 5004),\n",
       " ('end', 4866),\n",
       " ('give', 4648),\n",
       " ('even', 4639),\n",
       " ('feel', 4563),\n",
       " ('know', 4456),\n",
       " ('go', 4400),\n",
       " ('show', 4400),\n",
       " ('also', 4376),\n",
       " ('people', 4222),\n",
       " ('first', 4172),\n",
       " ('many', 4034),\n",
       " ('act', 3815),\n",
       " ('come', 3680),\n",
       " ('thing', 3441),\n",
       " ('work', 3355),\n",
       " ('ever', 3350),\n",
       " ('look', 3235),\n",
       " ('two', 3229),\n",
       " ('part', 3217),\n",
       " ('shot', 3117),\n",
       " ('never', 3085),\n",
       " ('find', 3025),\n",
       " ('love', 2970),\n",
       " ('action', 2964),\n",
       " ('performance', 2958),\n",
       " ('actor', 2941),\n",
       " ('real', 2925),\n",
       " ('want', 2897),\n",
       " ('tell', 2797),\n",
       " ('seem', 2697),\n",
       " ('play', 2690),\n",
       " ('life', 2679),\n",
       " ('year', 2677),\n",
       " ('use', 2619),\n",
       " ('kill', 2583),\n",
       " ('experience', 2582),\n",
       " ('point', 2580),\n",
       " ('director', 2566),\n",
       " ('bad', 2508),\n",
       " ('long', 2444),\n",
       " ('every', 2427),\n",
       " ('little', 2405),\n",
       " ('still', 2378),\n",
       " ('battle', 2305),\n",
       " ('moment', 2299),\n",
       " ('man', 2285),\n",
       " ('lot', 2255),\n",
       " ('try', 2206),\n",
       " ('plot', 2204),\n",
       " ('set', 2183),\n",
       " ('something', 2161),\n",
       " ('men', 2093),\n",
       " ('back', 2088),\n",
       " ('leave', 2071),\n",
       " ('start', 2031),\n",
       " ('cinematography', 2019),\n",
       " ('history', 1996),\n",
       " ('line', 1992),\n",
       " ('young', 1991),\n",
       " ('happen', 1946),\n",
       " ('fight', 1908),\n",
       " ('another', 1897),\n",
       " ('without', 1894),\n",
       " ('different', 1894),\n",
       " ('cast', 1854),\n",
       " ('big', 1836),\n",
       " ('audience', 1816),\n",
       " ('dialogue', 1816),\n",
       " ('almost', 1796),\n",
       " ('sound', 1791),\n",
       " ('felt', 1791),\n",
       " ('half', 1786),\n",
       " ('true', 1780),\n",
       " ('screen', 1779),\n",
       " ('write', 1776),\n",
       " ('horror', 1768)]"
      ]
     },
     "execution_count": 80,
     "metadata": {},
     "output_type": "execute_result"
    }
   ],
   "source": [
    "counter.most_common(100)"
   ]
  },
  {
   "cell_type": "code",
   "execution_count": 64,
   "metadata": {
    "scrolled": true
   },
   "outputs": [],
   "source": [
    "import json"
   ]
  },
  {
   "cell_type": "code",
   "execution_count": 11,
   "metadata": {},
   "outputs": [
    {
     "name": "stdout",
     "output_type": "stream",
     "text": [
      "Mean vector representations:\n",
      "(300,)\n"
     ]
    }
   ],
   "source": []
  }
 ],
 "metadata": {
  "kernelspec": {
   "display_name": "Python 3",
   "language": "python",
   "name": "python3"
  },
  "language_info": {
   "codemirror_mode": {
    "name": "ipython",
    "version": 3
   },
   "file_extension": ".py",
   "mimetype": "text/x-python",
   "name": "python",
   "nbconvert_exporter": "python",
   "pygments_lexer": "ipython3",
   "version": "3.8.5"
  }
 },
 "nbformat": 4,
 "nbformat_minor": 4
}
