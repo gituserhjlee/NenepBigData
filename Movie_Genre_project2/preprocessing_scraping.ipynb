{
 "cells": [
  {
   "cell_type": "code",
   "execution_count": null,
   "metadata": {
    "collapsed": true
   },
   "outputs": [],
   "source": [
    "import tmdbsimple as tmdb\n",
    "import requests\n",
    "import pandas as pd\n",
    "import numpy as np\n",
    "from ast import literal_eval\n",
    "import imdb\n"
   ]
  },
  {
   "cell_type": "markdown",
   "metadata": {},
   "source": [
    "# Scraping TMDB Data"
   ]
  },
  {
   "cell_type": "code",
   "execution_count": 2,
   "metadata": {
    "collapsed": true
   },
   "outputs": [],
   "source": [
    "key = open('key.txt','r').read()\n",
    "payload = \"{}\"\n",
    "\n",
    "\n",
    "movie_df = pd.DataFrame() #create empty dataframe to enable 'while loop' below\n",
    "\n",
    "page=1\n",
    "while movie_df.shape[0] < 1000:\n",
    "    url = \"https://api.themoviedb.org/3/movie/top_rated?api_key={0}&language=en-US&page={1}\".format(key, str(page))\n",
    "    response = requests.request(\"GET\", url, data=payload).json()\n",
    "    if page == 1: #initialize dataframe on first loop\n",
    "        movie_df = pd.DataFrame(response['results'])\n",
    "    else:\n",
    "        movie_df = movie_df.append(pd.DataFrame(response['results']))\n",
    "    \n",
    "    movie_df = movie_df[movie_df['original_language']=='en'] #remove non english movies\n",
    "    time.sleep(0.25) #rate limit is 4 pages per second\n",
    "    page+=1\n",
    "    \n",
    "movie_df.reset_index(inplace=True,drop=True) #reset index since we dropped non english rows\n",
    "\n",
    "#drop irrelevant columns for this analysis\n",
    "dropCols = ['adult','backdrop_path', 'original_language','original_title', 'poster_path','video']\n",
    "\n",
    "movie_df.drop(dropCols,axis=1,inplace=True)"
   ]
  },
  {
   "cell_type": "markdown",
   "metadata": {},
   "source": [
    "IMDB Mapping"
   ]
  },
  {
   "cell_type": "code",
   "execution_count": 3,
   "metadata": {
    "collapsed": true
   },
   "outputs": [],
   "source": [
    "def tmdb_to_imdb(tmdb_id):\n",
    "    time.sleep(0.25) #rate limit is 4 requests per second\n",
    "    url = \"https://api.themoviedb.org/3/movie/{0}/external_ids?api_key={1}&language=en-US\".format(tmdb_id, key)\n",
    "    response = requests.request(\"GET\", url, data=payload).json()\n",
    "    if 'imdb_id' in response:\n",
    "        return response['imdb_id']\n",
    "    else:\n",
    "        return None\n"
   ]
  },
  {
   "cell_type": "code",
   "execution_count": 4,
   "metadata": {
    "collapsed": true
   },
   "outputs": [],
   "source": [
    "movie_df['imdb_id'] = movie_df['id'].apply(lambda x: tmdb_to_imdb(x))"
   ]
  },
  {
   "cell_type": "code",
   "execution_count": 5,
   "metadata": {},
   "outputs": [
    {
     "data": {
      "text/html": [
       "<div>\n",
       "<style>\n",
       "    .dataframe thead tr:only-child th {\n",
       "        text-align: right;\n",
       "    }\n",
       "\n",
       "    .dataframe thead th {\n",
       "        text-align: left;\n",
       "    }\n",
       "\n",
       "    .dataframe tbody tr th {\n",
       "        vertical-align: top;\n",
       "    }\n",
       "</style>\n",
       "<table border=\"1\" class=\"dataframe\">\n",
       "  <thead>\n",
       "    <tr style=\"text-align: right;\">\n",
       "      <th></th>\n",
       "      <th>genre_ids</th>\n",
       "      <th>id</th>\n",
       "      <th>overview</th>\n",
       "      <th>popularity</th>\n",
       "      <th>release_date</th>\n",
       "      <th>title</th>\n",
       "      <th>vote_average</th>\n",
       "      <th>vote_count</th>\n",
       "      <th>imdb_id</th>\n",
       "    </tr>\n",
       "  </thead>\n",
       "  <tbody>\n",
       "    <tr>\n",
       "      <th>0</th>\n",
       "      <td>[18, 80]</td>\n",
       "      <td>278</td>\n",
       "      <td>Framed in the 1940s for the double murder of h...</td>\n",
       "      <td>34.346733</td>\n",
       "      <td>1994-09-23</td>\n",
       "      <td>The Shawshank Redemption</td>\n",
       "      <td>8.6</td>\n",
       "      <td>9913</td>\n",
       "      <td>tt0111161</td>\n",
       "    </tr>\n",
       "    <tr>\n",
       "      <th>1</th>\n",
       "      <td>[18, 80]</td>\n",
       "      <td>238</td>\n",
       "      <td>Spanning the years 1945 to 1955, a chronicle o...</td>\n",
       "      <td>39.079220</td>\n",
       "      <td>1972-03-14</td>\n",
       "      <td>The Godfather</td>\n",
       "      <td>8.5</td>\n",
       "      <td>7479</td>\n",
       "      <td>tt0068646</td>\n",
       "    </tr>\n",
       "    <tr>\n",
       "      <th>2</th>\n",
       "      <td>[18, 36, 10752]</td>\n",
       "      <td>424</td>\n",
       "      <td>The true story of how businessman Oskar Schind...</td>\n",
       "      <td>21.613388</td>\n",
       "      <td>1993-11-29</td>\n",
       "      <td>Schindler's List</td>\n",
       "      <td>8.4</td>\n",
       "      <td>5626</td>\n",
       "      <td>tt0108052</td>\n",
       "    </tr>\n",
       "    <tr>\n",
       "      <th>3</th>\n",
       "      <td>[18, 80]</td>\n",
       "      <td>240</td>\n",
       "      <td>In the continuing saga of the Corleone crime f...</td>\n",
       "      <td>34.872781</td>\n",
       "      <td>1974-12-20</td>\n",
       "      <td>The Godfather: Part II</td>\n",
       "      <td>8.4</td>\n",
       "      <td>4331</td>\n",
       "      <td>tt0071562</td>\n",
       "    </tr>\n",
       "    <tr>\n",
       "      <th>4</th>\n",
       "      <td>[53, 80]</td>\n",
       "      <td>680</td>\n",
       "      <td>A burger-loving hit man, his philosophical par...</td>\n",
       "      <td>39.663864</td>\n",
       "      <td>1994-09-10</td>\n",
       "      <td>Pulp Fiction</td>\n",
       "      <td>8.3</td>\n",
       "      <td>11076</td>\n",
       "      <td>tt0110912</td>\n",
       "    </tr>\n",
       "  </tbody>\n",
       "</table>\n",
       "</div>"
      ],
      "text/plain": [
       "         genre_ids   id                                           overview  \\\n",
       "0         [18, 80]  278  Framed in the 1940s for the double murder of h...   \n",
       "1         [18, 80]  238  Spanning the years 1945 to 1955, a chronicle o...   \n",
       "2  [18, 36, 10752]  424  The true story of how businessman Oskar Schind...   \n",
       "3         [18, 80]  240  In the continuing saga of the Corleone crime f...   \n",
       "4         [53, 80]  680  A burger-loving hit man, his philosophical par...   \n",
       "\n",
       "   popularity release_date                     title  vote_average  \\\n",
       "0   34.346733   1994-09-23  The Shawshank Redemption           8.6   \n",
       "1   39.079220   1972-03-14             The Godfather           8.5   \n",
       "2   21.613388   1993-11-29          Schindler's List           8.4   \n",
       "3   34.872781   1974-12-20    The Godfather: Part II           8.4   \n",
       "4   39.663864   1994-09-10              Pulp Fiction           8.3   \n",
       "\n",
       "   vote_count    imdb_id  \n",
       "0        9913  tt0111161  \n",
       "1        7479  tt0068646  \n",
       "2        5626  tt0108052  \n",
       "3        4331  tt0071562  \n",
       "4       11076  tt0110912  "
      ]
     },
     "execution_count": 5,
     "metadata": {},
     "output_type": "execute_result"
    }
   ],
   "source": [
    "movie_df.head()"
   ]
  },
  {
   "cell_type": "code",
   "execution_count": 6,
   "metadata": {
    "collapsed": true
   },
   "outputs": [],
   "source": [
    "ia = imdb.IMDb()"
   ]
  },
  {
   "cell_type": "code",
   "execution_count": 7,
   "metadata": {},
   "outputs": [
    {
     "data": {
      "text/plain": [
       "<Movie id:0068646[http] title:_The Godfather (1972)_>"
      ]
     },
     "execution_count": 7,
     "metadata": {},
     "output_type": "execute_result"
    }
   ],
   "source": [
    "godfather = ia.get_movie('0068646')\n",
    "godfather"
   ]
  },
  {
   "cell_type": "code",
   "execution_count": 8,
   "metadata": {},
   "outputs": [
    {
     "data": {
      "text/plain": [
       "['title',\n",
       " 'year',\n",
       " 'kind',\n",
       " 'cast',\n",
       " 'composers',\n",
       " 'editorial department',\n",
       " 'production managers ',\n",
       " 'art department',\n",
       " 'visual effects',\n",
       " 'casting department',\n",
       " 'costume departmen',\n",
       " 'location management',\n",
       " 'music department',\n",
       " 'transportation department',\n",
       " 'thanks',\n",
       " 'genres',\n",
       " 'runtimes',\n",
       " 'countries',\n",
       " 'country codes',\n",
       " 'language codes',\n",
       " 'color info',\n",
       " 'aspect ratio',\n",
       " 'sound mix',\n",
       " 'certificates',\n",
       " 'original air date',\n",
       " 'rating',\n",
       " 'votes',\n",
       " 'cover url',\n",
       " 'director',\n",
       " 'writer',\n",
       " 'producer',\n",
       " 'cinematographer',\n",
       " 'editor',\n",
       " 'casting director',\n",
       " 'production design',\n",
       " 'art direction',\n",
       " 'set decoration',\n",
       " 'costume designer',\n",
       " 'make up',\n",
       " 'assistant director',\n",
       " 'sound crew',\n",
       " 'special effects companies',\n",
       " 'stunt performer',\n",
       " 'camera and electrical department',\n",
       " 'miscellaneous crew',\n",
       " 'plot outline',\n",
       " 'languages',\n",
       " 'akas',\n",
       " 'top 250 rank',\n",
       " 'plot',\n",
       " 'synopsis',\n",
       " 'canonical title',\n",
       " 'long imdb title',\n",
       " 'long imdb canonical title',\n",
       " 'smart canonical title',\n",
       " 'smart long imdb canonical title',\n",
       " 'full-size cover url']"
      ]
     },
     "execution_count": 8,
     "metadata": {},
     "output_type": "execute_result"
    }
   ],
   "source": [
    "godfather.keys()"
   ]
  },
  {
   "cell_type": "code",
   "execution_count": 9,
   "metadata": {
    "collapsed": true
   },
   "outputs": [],
   "source": [
    "all_imdb_data = movie_df['imdb_id'].apply(lambda x: ia.get_movie(x[2:]))\n",
    "\n",
    "movie_df['imdb_plot'] = all_imdb_data.apply(lambda x: x['plot']if 'plot' in x.keys() else None)"
   ]
  },
  {
   "cell_type": "code",
   "execution_count": 11,
   "metadata": {},
   "outputs": [
    {
     "data": {
      "text/plain": [
       "[\"Chronicles the experiences of a formerly successful banker as a prisoner in the gloomy jailhouse of Shawshank after being found guilty of a crime he did not commit. The film portrays the man's unique way of dealing with his new, torturous life; along the way he befriends a number of fellow prisoners, most notably a wise long-term inmate named Red.::J-S-Golden\",\n",
       " \"Story of a hot-shot American banker Andrew Dufresne who finds himself to be an inmate at the Shawshank prison for a crime he says he didn't commit, the murder of his wife and her lover. The movie revolves around Andy's take on this drastic transformation, his journey as an inmate in the prison during which he befriends Red, a fellow inmate as well as gains the respect of his friends.::Rajat Sindhu\",\n",
       " 'After the murder of his wife, hotshot banker Andrew Dufresne is sent to Shawshank Prison, where the usual unpleasantness occurs. Over the years, he retains hope and eventually gains the respect of his fellow inmates, especially longtime convict \"Red\" Redding, a black marketeer, and becomes influential within the prison. Eventually, Andrew achieves his ends on his own terms.::Reid Gagle',\n",
       " \"Andy Dufresne is sent to Shawshank Prison for the murder of his wife and her secret lover. He is very isolated and lonely at first, but realizes there is something deep inside your body that people can't touch or get to....'HOPE'. Andy becomes friends with prison 'fixer' Red, and Andy epitomizes why it is crucial to have dreams. His spirit and determination lead us into a world full of imagination, one filled with courage and desire. Will Andy ever realize his dreams?::Andy Haque\",\n",
       " 'Bank Merchant Andy Dufresne is convicted of the murder of his wife and her lover, and sentenced to life imprisonment at Shawshank prison. Life seems to have taken a turn for the worse, but fortunately Andy befriends some of the other inmates, in particular a character known only as Red. Over time Andy finds ways to live out life with relative ease as one can in a prison, leaving a message for all that while the body may be locked away in a cell, the spirit can never be truly imprisoned.::Dave Moody',\n",
       " 'Two imprisoned men bond over a number of years, finding solace and eventual redemption through acts of common decency.::Carl Schultz']"
      ]
     },
     "execution_count": 11,
     "metadata": {},
     "output_type": "execute_result"
    }
   ],
   "source": [
    "movie_df.loc[0,'imdb_plot']"
   ]
  },
  {
   "cell_type": "code",
   "execution_count": 13,
   "metadata": {
    "collapsed": true
   },
   "outputs": [],
   "source": [
    "movie_df['imdb_plot'] = movie_df['imdb_plot'].apply(lambda x: x[0])"
   ]
  },
  {
   "cell_type": "code",
   "execution_count": 14,
   "metadata": {},
   "outputs": [
    {
     "data": {
      "text/html": [
       "<div>\n",
       "<style>\n",
       "    .dataframe thead tr:only-child th {\n",
       "        text-align: right;\n",
       "    }\n",
       "\n",
       "    .dataframe thead th {\n",
       "        text-align: left;\n",
       "    }\n",
       "\n",
       "    .dataframe tbody tr th {\n",
       "        vertical-align: top;\n",
       "    }\n",
       "</style>\n",
       "<table border=\"1\" class=\"dataframe\">\n",
       "  <thead>\n",
       "    <tr style=\"text-align: right;\">\n",
       "      <th></th>\n",
       "      <th>genre_ids</th>\n",
       "      <th>id</th>\n",
       "      <th>overview</th>\n",
       "      <th>popularity</th>\n",
       "      <th>release_date</th>\n",
       "      <th>title</th>\n",
       "      <th>vote_average</th>\n",
       "      <th>vote_count</th>\n",
       "      <th>imdb_id</th>\n",
       "      <th>imdb_plot</th>\n",
       "    </tr>\n",
       "  </thead>\n",
       "  <tbody>\n",
       "    <tr>\n",
       "      <th>0</th>\n",
       "      <td>[18, 80]</td>\n",
       "      <td>278</td>\n",
       "      <td>Framed in the 1940s for the double murder of h...</td>\n",
       "      <td>34.346733</td>\n",
       "      <td>1994-09-23</td>\n",
       "      <td>The Shawshank Redemption</td>\n",
       "      <td>8.6</td>\n",
       "      <td>9913</td>\n",
       "      <td>tt0111161</td>\n",
       "      <td>Chronicles the experiences of a formerly succe...</td>\n",
       "    </tr>\n",
       "    <tr>\n",
       "      <th>1</th>\n",
       "      <td>[18, 80]</td>\n",
       "      <td>238</td>\n",
       "      <td>Spanning the years 1945 to 1955, a chronicle o...</td>\n",
       "      <td>39.079220</td>\n",
       "      <td>1972-03-14</td>\n",
       "      <td>The Godfather</td>\n",
       "      <td>8.5</td>\n",
       "      <td>7479</td>\n",
       "      <td>tt0068646</td>\n",
       "      <td>When the aging head of a famous crime family d...</td>\n",
       "    </tr>\n",
       "    <tr>\n",
       "      <th>2</th>\n",
       "      <td>[18, 36, 10752]</td>\n",
       "      <td>424</td>\n",
       "      <td>The true story of how businessman Oskar Schind...</td>\n",
       "      <td>21.613388</td>\n",
       "      <td>1993-11-29</td>\n",
       "      <td>Schindler's List</td>\n",
       "      <td>8.4</td>\n",
       "      <td>5626</td>\n",
       "      <td>tt0108052</td>\n",
       "      <td>Oskar Schindler is a vainglorious and greedy G...</td>\n",
       "    </tr>\n",
       "    <tr>\n",
       "      <th>3</th>\n",
       "      <td>[18, 80]</td>\n",
       "      <td>240</td>\n",
       "      <td>In the continuing saga of the Corleone crime f...</td>\n",
       "      <td>34.872781</td>\n",
       "      <td>1974-12-20</td>\n",
       "      <td>The Godfather: Part II</td>\n",
       "      <td>8.4</td>\n",
       "      <td>4331</td>\n",
       "      <td>tt0071562</td>\n",
       "      <td>The continuing saga of the Corleone crime fami...</td>\n",
       "    </tr>\n",
       "    <tr>\n",
       "      <th>4</th>\n",
       "      <td>[53, 80]</td>\n",
       "      <td>680</td>\n",
       "      <td>A burger-loving hit man, his philosophical par...</td>\n",
       "      <td>39.663864</td>\n",
       "      <td>1994-09-10</td>\n",
       "      <td>Pulp Fiction</td>\n",
       "      <td>8.3</td>\n",
       "      <td>11076</td>\n",
       "      <td>tt0110912</td>\n",
       "      <td>Jules Winnfield (Samuel L. Jackson) and Vincen...</td>\n",
       "    </tr>\n",
       "  </tbody>\n",
       "</table>\n",
       "</div>"
      ],
      "text/plain": [
       "         genre_ids   id                                           overview  \\\n",
       "0         [18, 80]  278  Framed in the 1940s for the double murder of h...   \n",
       "1         [18, 80]  238  Spanning the years 1945 to 1955, a chronicle o...   \n",
       "2  [18, 36, 10752]  424  The true story of how businessman Oskar Schind...   \n",
       "3         [18, 80]  240  In the continuing saga of the Corleone crime f...   \n",
       "4         [53, 80]  680  A burger-loving hit man, his philosophical par...   \n",
       "\n",
       "   popularity release_date                     title  vote_average  \\\n",
       "0   34.346733   1994-09-23  The Shawshank Redemption           8.6   \n",
       "1   39.079220   1972-03-14             The Godfather           8.5   \n",
       "2   21.613388   1993-11-29          Schindler's List           8.4   \n",
       "3   34.872781   1974-12-20    The Godfather: Part II           8.4   \n",
       "4   39.663864   1994-09-10              Pulp Fiction           8.3   \n",
       "\n",
       "   vote_count    imdb_id                                          imdb_plot  \n",
       "0        9913  tt0111161  Chronicles the experiences of a formerly succe...  \n",
       "1        7479  tt0068646  When the aging head of a famous crime family d...  \n",
       "2        5626  tt0108052  Oskar Schindler is a vainglorious and greedy G...  \n",
       "3        4331  tt0071562  The continuing saga of the Corleone crime fami...  \n",
       "4       11076  tt0110912  Jules Winnfield (Samuel L. Jackson) and Vincen...  "
      ]
     },
     "execution_count": 14,
     "metadata": {},
     "output_type": "execute_result"
    }
   ],
   "source": [
    "movie_df.head()"
   ]
  },
  {
   "cell_type": "markdown",
   "metadata": {},
   "source": [
    "# Genres"
   ]
  },
  {
   "cell_type": "code",
   "execution_count": 15,
   "metadata": {},
   "outputs": [
    {
     "data": {
      "text/plain": [
       "{12: 'Adventure',\n",
       " 14: 'Fantasy',\n",
       " 16: 'Animation',\n",
       " 18: 'Drama',\n",
       " 27: 'Horror',\n",
       " 28: 'Action',\n",
       " 35: 'Comedy',\n",
       " 36: 'History',\n",
       " 37: 'Western',\n",
       " 53: 'Thriller',\n",
       " 80: 'Crime',\n",
       " 99: 'Documentary',\n",
       " 878: 'Science Fiction',\n",
       " 9648: 'Mystery',\n",
       " 10402: 'Music',\n",
       " 10749: 'Romance',\n",
       " 10751: 'Family',\n",
       " 10752: 'War',\n",
       " 10770: 'TV Movie'}"
      ]
     },
     "execution_count": 15,
     "metadata": {},
     "output_type": "execute_result"
    }
   ],
   "source": [
    "url = \"https://api.themoviedb.org/3/genre/movie/list?api_key={0}&language=en-US\".format(key)\n",
    "response = requests.request(\"GET\", url, data=payload).json()\n",
    "\n",
    "id_to_genre = dict(zip([i['id'] for i in response['genres']],\n",
    "                     [i['name'] for i in response['genres']]))\n",
    "\n",
    "genre_to_id = dict(zip([i['name'] for i in response['genres']],\n",
    "                       [i['id'] for i in response['genres']]))\n",
    "\n",
    "id_to_genre"
   ]
  },
  {
   "cell_type": "code",
   "execution_count": 16,
   "metadata": {
    "collapsed": true
   },
   "outputs": [],
   "source": [
    "import json\n",
    "\n",
    "with open('data/id_to_genre.json', 'w') as fp:\n",
    "    json.dump(id_to_genre, fp)\n",
    "    \n",
    "with open('data/genre_to_id.json', 'w') as fp:\n",
    "    json.dump(genre_to_id, fp)"
   ]
  },
  {
   "cell_type": "code",
   "execution_count": 17,
   "metadata": {
    "collapsed": true
   },
   "outputs": [],
   "source": [
    "movie_df.rename(columns={'id':'tmdb_id',\n",
    "                        'genre_ids':'tmdb_genres',\n",
    "                         'overview':'tmdb_plot'}, inplace=True)"
   ]
  },
  {
   "cell_type": "code",
   "execution_count": 18,
   "metadata": {
    "collapsed": true
   },
   "outputs": [],
   "source": [
    "import re\n",
    "def remove_punctuation(string):\n",
    "    string = re.sub('[^\\w\\s]',' ',string) #remove punctuation\n",
    "    string = string.replace('\\r', ' ') #the regular expression above does not remove this return symbol\n",
    "    string = string.replace('\\n', ' ') #the regular expression above does not remove this newline symbol\n",
    "    \n",
    "    return string\n",
    "\n",
    "movie_df['tmdb_plot'] = movie_df['tmdb_plot'].apply(lambda x: remove_punctuation(x))\n",
    "movie_df['imdb_plot'] = movie_df['imdb_plot'].apply(lambda x: remove_punctuation(x))"
   ]
  },
  {
   "cell_type": "code",
   "execution_count": 19,
   "metadata": {
    "collapsed": true
   },
   "outputs": [],
   "source": [
    "movie_df = movie_df[movie_df['tmdb_genres'].str.len() != 0] #remove empty genres"
   ]
  },
  {
   "cell_type": "code",
   "execution_count": 20,
   "metadata": {},
   "outputs": [
    {
     "data": {
      "text/plain": [
       "(999, 10)"
      ]
     },
     "execution_count": 20,
     "metadata": {},
     "output_type": "execute_result"
    }
   ],
   "source": [
    "movie_df.shape"
   ]
  },
  {
   "cell_type": "code",
   "execution_count": 21,
   "metadata": {
    "collapsed": true
   },
   "outputs": [],
   "source": [
    "from sklearn.preprocessing import MultiLabelBinarizer\n",
    "mlb=MultiLabelBinarizer()"
   ]
  },
  {
   "cell_type": "code",
   "execution_count": 23,
   "metadata": {
    "collapsed": true
   },
   "outputs": [],
   "source": [
    "binary_tmdb = mlb.fit_transform(movie_df['tmdb_genres'])\n",
    "np.save('data/binary_tmdb.npy',binary_tmdb)"
   ]
  },
  {
   "cell_type": "code",
   "execution_count": 25,
   "metadata": {
    "collapsed": true
   },
   "outputs": [],
   "source": [
    "target_names = {}\n",
    "tmdb_target_names = []\n",
    "for genre_id in mlb.classes_:\n",
    "    tmdb_target_names.append(id_to_genre[genre_id])\n",
    "\n",
    "    \n",
    "target_names['tmdb'] = tmdb_target_names\n",
    "\n",
    "\n",
    "with open('data/target_names.json', 'w') as fp:\n",
    "    json.dump(target_names, fp)\n",
    "    "
   ]
  },
  {
   "cell_type": "code",
   "execution_count": 27,
   "metadata": {
    "collapsed": true
   },
   "outputs": [],
   "source": [
    "#reorder columns\n",
    "movie_df = movie_df[['tmdb_id', 'imdb_id', 'tmdb_genres', 'tmdb_plot',\n",
    "       'imdb_plot', 'popularity', 'release_date', 'title', 'vote_average',\n",
    "       'vote_count' ]]"
   ]
  },
  {
   "cell_type": "code",
   "execution_count": 28,
   "metadata": {
    "collapsed": true
   },
   "outputs": [],
   "source": [
    "movie_df.to_csv('data/moviesData.csv',encoding=\"utf-8\",index=False)"
   ]
  }
 ],
 "metadata": {
  "kernelspec": {
   "display_name": "Python 3",
   "language": "python",
   "name": "python3"
  },
  "language_info": {
   "codemirror_mode": {
    "name": "ipython",
    "version": 3
   },
   "file_extension": ".py",
   "mimetype": "text/x-python",
   "name": "python",
   "nbconvert_exporter": "python",
   "pygments_lexer": "ipython3",
   "version": "3.6.1"
  }
 },
 "nbformat": 4,
 "nbformat_minor": 2
}
