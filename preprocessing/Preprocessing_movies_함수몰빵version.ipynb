{
 "cells": [
  {
   "cell_type": "code",
   "execution_count": 33,
   "metadata": {},
   "outputs": [],
   "source": [
    "%matplotlib inline\n",
    "import os\n",
    "import matplotlib.pyplot as plt\n",
    "import pandas as pd\n",
    "import numpy as np\n",
    "import emoji\n",
    "import re\n",
    "\n",
    "from nltk.corpus import stopwords\n",
    "from nltk.corpus import wordnet\n",
    "from nltk.tag import pos_tag\n",
    "from nltk.stem import WordNetLemmatizer"
   ]
  },
  {
   "cell_type": "code",
   "execution_count": 34,
   "metadata": {},
   "outputs": [
    {
     "data": {
      "text/plain": [
       "['365dni.csv',\n",
       " 'AfterWeCollided.csv',\n",
       " 'Chhalaang.csv',\n",
       " 'Deadpool.csv',\n",
       " 'Dolittle.csv',\n",
       " 'Emma..csv',\n",
       " 'EnolaHolmes .csv',\n",
       " 'freaky.csv',\n",
       " 'Gisaengchung.csv',\n",
       " 'greenland.csv',\n",
       " 'Hamilton.csv',\n",
       " 'holidate.csv',\n",
       " 'homeAlone.csv',\n",
       " 'JingleJangleAChristmasJourney.csv',\n",
       " 'JiuJitsu.csv',\n",
       " 'Loimpossible.csv',\n",
       " 'LoveActually.csv',\n",
       " 'Ludo.csv',\n",
       " 'meganIsMissing.csv',\n",
       " 'MonsterProblems.csv',\n",
       " 'Mulan.csv',\n",
       " 'Nokeunokeu.csv',\n",
       " 'Rebecca.csv',\n",
       " 'SooraraiPottru.csv',\n",
       " 'Spider-ManIntotheSpider-Verse.csv',\n",
       " 'TheNewMutants.csv',\n",
       " 'TheTrialoftheChicago7.csv',\n",
       " 'TheWitches.csv',\n",
       " 'ThorRagnarok.csv',\n",
       " 'Unhinged.csv']"
      ]
     },
     "execution_count": 34,
     "metadata": {},
     "output_type": "execute_result"
    }
   ],
   "source": [
    "os.listdir(\"reviewDatas\")"
   ]
  },
  {
   "cell_type": "code",
   "execution_count": 35,
   "metadata": {},
   "outputs": [],
   "source": [
    "path = os.listdir(\"reviewDatas\")\n",
    "def load_data(path):\n",
    "    movie_review = []\n",
    "    ma = movie_review.append\n",
    "    for movie in path:\n",
    "        data = pd.read_csv(\"reviewDatas\\\\\"+movie, names = [\"idx\", \"review\"])\n",
    "        data = data.iloc[1:,1:]\n",
    "        review_list = []\n",
    "        ra = review_list.append\n",
    "        for i in range(len(data)):\n",
    "            ra(data.iloc[i,0])\n",
    "        ma(review_list)\n",
    "    return movie_review"
   ]
  },
  {
   "cell_type": "code",
   "execution_count": 31,
   "metadata": {},
   "outputs": [],
   "source": [
    "def preprocessing(review_list):\n",
    "    multi_emoji = re.compile(r'[:]{2,}[\\w_-]+')\n",
    "    shortword = re.compile(r'\\W*\\b\\w{1,2}\\b')\n",
    "    punc = re.compile(r'[\\W_]+')\n",
    "    first_upper = re.compile(r'\\s*[A-Z][a-z0-9]+')\n",
    "    digit = re.compile(r'\\d+')\n",
    "\n",
    "    token_list = []\n",
    "    ta = token_list.append\n",
    "    for i in range(len(review_list)):\n",
    "        review_list[i] = multi_emoji.sub('',emoji.demojize(review_list[i]))\n",
    "        review_list[i] = shortword.sub('',review_list[i])\n",
    "        review_list[i] = punc.sub(' ',review_list[i])\n",
    "        review_list[i] = first_upper.sub('',review_list[i])\n",
    "        review_list[i] = digit.sub('',review_list[i])\n",
    "        review_list[i] = shortword.sub('',review_list[i])\n",
    "        review_list[i] = review_list[i].lower()\n",
    "        review_list[i] = review_list[i].strip()\n",
    "\n",
    "        #토큰화\n",
    "        ta(re.split('\\s+',review_list[i]))\n",
    "    return token_list"
   ]
  },
  {
   "cell_type": "code",
   "execution_count": 30,
   "metadata": {},
   "outputs": [
    {
     "name": "stdout",
     "output_type": "stream",
     "text": [
      "255\n"
     ]
    }
   ],
   "source": [
    "#불용어 목록 만들기\n",
    "def make_stopwords() :\n",
    "    stop_words = set(stopwords.words(\"english\"))\n",
    "    google_sw = \"a about above after again against all am an and any are aren't as at be because been before being below between both but by can't cannot could couldn't did didn't do does doesn't doing don't down during each few for from further had hadn't has hasn't have haven't having he he'd he'll he's her here here's hers herself him himself his how how's i i'd i'll i'm i've if in into is isn't it it's its itself let's me more most mustn't my myself no nor not of off on once only or other ought our ours ourselves out over own same shan't she she'd she'll she's should shouldn't so some such than that that's the their theirs them themselves then there there's these they they'd they'll they're they've this those through to too under until up very was wasn't we we'd we'll we're we've were weren't what what's when when's where where's which while who who's whom why why's with won't would wouldn't you you'd you'll you're you've your yours yourself yourselves\"\n",
    "    google_sw = set(google_sw.split(' '))\n",
    "    no_upper_sw = set(\"arent cant couldnt didnt doesnt dont hadnt hasnt hed hes heres hows id ill im ive isnt lets mustnt shant shed shes shouldnt thats theres theyd theyll theyre theyve wasnt wed weve werent whats whens wheres whos whys wont wouldnt youd youll youre youve\".split(' '))\n",
    "\n",
    "    stop_words = stop_words | google_sw | no_upper_sw\n",
    "    return stop_words\n",
    "\n",
    "print(len(stop_words))"
   ]
  },
  {
   "cell_type": "code",
   "execution_count": 29,
   "metadata": {
    "scrolled": true
   },
   "outputs": [],
   "source": [
    "def elim_stopwords(all_token):\n",
    "    stop_words = make_stopwords()\n",
    "    for token_list in all_token:\n",
    "        for i,li in enumerate(token_list):\n",
    "            token_list[i] = [item for item in li if item not in stop_words]\n",
    "    print(\"eliminating stopwords is done --> pos tagging\")\n",
    "    return all_token"
   ]
  },
  {
   "cell_type": "code",
   "execution_count": 28,
   "metadata": {},
   "outputs": [],
   "source": [
    "def pos_tagging(all_token, min_words = 5):\n",
    "    for i, token_list in enumerate(all_token):\n",
    "        temp = []\n",
    "        ta = temp.append\n",
    "        for j, li in enumerate(token_list):\n",
    "            if len(li) > min_words:\n",
    "                ta(pos_tag(li))\n",
    "        all_token[i] = temp\n",
    "        if (i+1) % 3 == 0:\n",
    "            print(\"progress = {}%\".format((i+1) / len(all_token)*100))\n",
    "    print(\"pos-tagging is done --> lemmatization\")\n",
    "    return all_token"
   ]
  },
  {
   "cell_type": "code",
   "execution_count": 26,
   "metadata": {},
   "outputs": [],
   "source": [
    "def get_wordnet_pos(treebank_tag):\n",
    "\n",
    "    if treebank_tag.startswith('J'):\n",
    "        return wordnet.ADJ\n",
    "    elif treebank_tag.startswith('V'):\n",
    "        return wordnet.VERB\n",
    "    elif treebank_tag.startswith('N'):\n",
    "        return wordnet.NOUN\n",
    "    elif treebank_tag.startswith('R'):\n",
    "        return wordnet.ADV\n",
    "    else:\n",
    "        return ''"
   ]
  },
  {
   "cell_type": "code",
   "execution_count": 14,
   "metadata": {},
   "outputs": [],
   "source": [
    "def pipeline(data, min_words = 5):\n",
    "    all_token = []\n",
    "    aa = all_token.append\n",
    "    for idx,review_list in enumerate(data):\n",
    "        token_list = preprocessing(review_list)\n",
    "        aa(token_list)\n",
    "        if (idx+1) % 3 == 0:\n",
    "            print(\"{}%\".format((idx+1) / len(data) * 100), end = \" \")\n",
    "    print()\n",
    "    print(\"preprocessing is done --> elimination stopwords\")\n",
    "        \n",
    "    all_token = lemmatization(pos_tagging(elim_stopwords(all_token),min_words))\n",
    "    \n",
    "    return all_token"
   ]
  },
  {
   "cell_type": "code",
   "execution_count": 25,
   "metadata": {},
   "outputs": [],
   "source": [
    "def lemmatization(all_token):\n",
    "    n=WordNetLemmatizer()\n",
    "    for i, token_list in enumerate(all_token):\n",
    "        for j, review_token in enumerate(token_list):\n",
    "            for k, token in enumerate(review_token):\n",
    "                try:\n",
    "                    review_token[k] = n.lemmatize(token[0],get_wordnet_pos(token[1]))\n",
    "                except KeyError:\n",
    "                    review_token[k] = n.lemmatize(token[0])\n",
    "        if (i+1) % 3 == 0:\n",
    "            print(\"progress = {}%\".format((i+1) / len(all_token)*100))\n",
    "    print(\"all process is done!!\")\n",
    "    return all_token"
   ]
  },
  {
   "cell_type": "code",
   "execution_count": 36,
   "metadata": {},
   "outputs": [],
   "source": [
    "movie_review = load_data(path)"
   ]
  },
  {
   "cell_type": "code",
   "execution_count": 37,
   "metadata": {
    "collapsed": true
   },
   "outputs": [
    {
     "name": "stdout",
     "output_type": "stream",
     "text": [
      "10.0% 20.0% 30.0% 40.0% 50.0% 60.0% 70.0% 80.0% 90.0% 100.0% eliminating stopwords is done --> pos tagging\n",
      "progress = 10.0%\n",
      "progress = 20.0%\n",
      "progress = 30.0%\n",
      "progress = 40.0%\n",
      "progress = 50.0%\n",
      "progress = 60.0%\n",
      "progress = 70.0%\n",
      "progress = 80.0%\n",
      "progress = 90.0%\n",
      "progress = 100.0%\n",
      "pos-tagging is done --> lemmatization\n",
      "progress = 10.0%\n",
      "progress = 20.0%\n",
      "progress = 30.0%\n",
      "progress = 40.0%\n",
      "progress = 50.0%\n",
      "progress = 60.0%\n",
      "progress = 70.0%\n",
      "progress = 80.0%\n",
      "progress = 90.0%\n",
      "progress = 100.0%\n",
      "all process is done!!\n"
     ]
    }
   ],
   "source": [
    "all_token = pipeline(movie_review,5)"
   ]
  },
  {
   "cell_type": "code",
   "execution_count": 45,
   "metadata": {},
   "outputs": [],
   "source": [
    "for i in range(30):\n",
    "    for j in range(len(all_token[i])):\n",
    "        all_token[i][j] = \" \".join(all_token[i][j])"
   ]
  },
  {
   "cell_type": "code",
   "execution_count": 47,
   "metadata": {
    "scrolled": true
   },
   "outputs": [],
   "source": [
    "for i in range(30):\n",
    "    df = pd.DataFrame(all_token[i])\n",
    "    df.to_csv(os.listdir(\"reviewDatas\")[i])"
   ]
  },
  {
   "cell_type": "markdown",
   "metadata": {},
   "source": [
    "## 전처리 방안\n",
    "\n",
    "+ 이모티콘을 단어로 변환 후 중복된 이모티콘을 1개로 만들기   \n",
    "+ 단어의 길이가 1에서 2인 것 제거    \n",
    "+ 리뷰의 구두점들을 제거      \n",
    "+ 첫번째 단어가 대문자거나 대문자로 되어있는 모든 단어들 제거   \n",
    "+ 숫자 제거      \n",
    "+ 제거되지 않은 대문자 모임 소문자화 후 양끝 공백제거"
   ]
  },
  {
   "cell_type": "code",
   "execution_count": 6,
   "metadata": {},
   "outputs": [
    {
     "name": "stdout",
     "output_type": "stream",
     "text": [
      "10.0% 20.0% 30.0% 40.0% 50.0% 60.0% 70.0% 80.0% 90.0% 100.0% "
     ]
    }
   ],
   "source": [
    "all_token = []\n",
    "aa = all_token.append\n",
    "for idx,review_list in enumerate(movie_review):\n",
    "    token_list = preprocessing(review_list)\n",
    "    aa(token_list)\n",
    "    if (idx+1) % 3 == 0:\n",
    "        print(\"{}%\".format((idx+1) / len(movie_review) * 100), end = \" \")"
   ]
  },
  {
   "cell_type": "markdown",
   "metadata": {},
   "source": [
    "all_token 리스트의 길이 30개(영화 수)    \n",
    "all_token\\[0\\]는 첫번째 영화의 token_list  "
   ]
  },
  {
   "cell_type": "markdown",
   "metadata": {},
   "source": [
    "## 불용어 처리\n",
    "\n",
    "추가사항   \n",
    "구글의 stopwords english와 합집합.   \n",
    "리뷰에 의도적으로 어퍼스토로피를 빼고 작성한 경우 존재.   \n",
    "stopwords가 작동을 하지 않음.    \n",
    "따라서 적당히 단어가 되지 않는 선에서 stopwords 추가   "
   ]
  },
  {
   "cell_type": "code",
   "execution_count": 9,
   "metadata": {},
   "outputs": [],
   "source": [
    "all_token = elim_stopwords(all_token)"
   ]
  },
  {
   "cell_type": "markdown",
   "metadata": {},
   "source": [
    "# 제거해야 하는 리뷰들    "
   ]
  },
  {
   "cell_type": "markdown",
   "metadata": {},
   "source": [
    "+ 첫번째 글자를 항상 대문자로 작성하였음...     \n",
    "    \n",
    "데드풀 938,\"Deadpool, Was The Perfect Comic Book Movie, Ryan Reynolds Was Born To Play The Character, And The Movie Is A Very Good Different Kind Of Movie, It's Fun To Watch! Has Great Jokes It's Fun! Funny! Has Great Wallbreakers! Good Amount Of Action! You Don't Want The Movie To End It's Been A While Sense I Seen A Superhero That's This Good And Perfect! Ryan Reynolds Is Inspiring In This Movie Makes You Wanna Become An Actor So You Can Play A Character Like This! This Movie Deserves To Be On Imdbs Top Movies, It Can't Get Better Than That, Hoping To See More Deadpool In The Future, One Of The Best Superhero/Antiheros Ever! Movie Had A Simple But Fun Story!\"    \n",
    "    \n",
    "기생충 759,\"I'm An Indian.I Watched It After A Lot Of Recommendation,But It Never Fullfilled My Expectations.The Movie Shows The Division In Between Peoples Such As High Class And Low Class,It Presents In The Way Of A Comedy Drama.I'm Not Satisfied On The Movie Maybe Because Of I'd Watch Lot Of Indian Movies Which Has These Kind Of Story.\"     \n",
    "    \n",
    "Ludo 67 \"A Nice Movie Which Has Everything In It. If Creators Cut Duration By 30 Minutes Then It's Became More Enjoyable.\"    \n",
    "     \n",
    "Mulan 1337,\"I Dislike When People Compare The Mulan Live Action Movie To The Original Animated Movie There Two Totally Different   Movies.I Thought The Cinematography Was Absolutely Astounding,The Characters Where Amazing And The Special Effects Where Great.\"   \n",
    "    \n",
    "SooraraiPottru 287 \"Good Direction Fabulous Acting Good Cinematography\"    \n",
    "    \n",
    "스파이더맨 146,\"Animation 10/10     \n",
    "Story 10/10     \n",
    "Direction 10/10     \n",
    "Script 10/10     \n",
    "Imagination 100/10Loved it....\"     \n",
    "\n",
    "TheTrialoftheChicago7 25, \"Performances: 10/10 Pacing: 7/10 Plot: 9/10 Writing: 10/10 Cinematography: 7/10 Soundtrack: 7/10        Enjoyability: 8/10\"         \n",
    "    \n",
    "나크나로크 907,Niiiiiiiiiiiiiiiiiiiiiiiiiiiiiiiiiiiicccccccccccccccccccccccccccceeeeeeeeeeeeeeeeeeeeeeeeeeee     "
   ]
  },
  {
   "cell_type": "markdown",
   "metadata": {},
   "source": [
    "# Pos-tagging    \n",
    "\n",
    "품사 태깅"
   ]
  },
  {
   "cell_type": "code",
   "execution_count": 11,
   "metadata": {
    "scrolled": true
   },
   "outputs": [
    {
     "name": "stdout",
     "output_type": "stream",
     "text": [
      "progress = 10.0%\n",
      "progress = 20.0%\n",
      "progress = 30.0%\n",
      "progress = 40.0%\n",
      "progress = 50.0%\n",
      "progress = 60.0%\n",
      "progress = 70.0%\n",
      "progress = 80.0%\n",
      "progress = 90.0%\n",
      "progress = 100.0%\n"
     ]
    }
   ],
   "source": [
    "all_token = pos_tagging(all_token)"
   ]
  },
  {
   "cell_type": "markdown",
   "metadata": {},
   "source": [
    "# Stemming and Lemmatization"
   ]
  },
  {
   "cell_type": "markdown",
   "metadata": {},
   "source": [
    "감성단어는 보통 형용사가 많기 때문에    \n",
    "Stemming은 과한 일반화가 될 수 있으므로 시행하지 않음   \n",
    "pos-tagging(품사 태깅) 후 Lemmatization만 시행"
   ]
  },
  {
   "cell_type": "code",
   "execution_count": 14,
   "metadata": {},
   "outputs": [
    {
     "data": {
      "text/plain": [
       "[('never', 'RB'),\n",
       " ('seen', 'VBN'),\n",
       " ('movie', 'NN'),\n",
       " ('every', 'DT'),\n",
       " ('little', 'JJ'),\n",
       " ('detail', 'NN'),\n",
       " ('dialogue', 'NN'),\n",
       " ('object', 'NN'),\n",
       " ('foreshadows', 'VBZ'),\n",
       " ('things', 'NNS'),\n",
       " ('come', 'VBP'),\n",
       " ('fabulous', 'JJ'),\n",
       " ('way', 'NN'),\n",
       " ('made', 'VBD'),\n",
       " ('film', 'NN'),\n",
       " ('entertaining', 'VBG'),\n",
       " ('lots', 'NNS'),\n",
       " ('suspense', 'JJ'),\n",
       " ('end', 'NN')]"
      ]
     },
     "execution_count": 14,
     "metadata": {},
     "output_type": "execute_result"
    }
   ],
   "source": [
    "all_token[8][759]"
   ]
  },
  {
   "cell_type": "code",
   "execution_count": 16,
   "metadata": {
    "scrolled": false
   },
   "outputs": [
    {
     "name": "stdout",
     "output_type": "stream",
     "text": [
      "progress = 10.0%\n",
      "progress = 20.0%\n",
      "progress = 30.0%\n",
      "progress = 40.0%\n",
      "progress = 50.0%\n",
      "progress = 60.0%\n",
      "progress = 70.0%\n",
      "progress = 80.0%\n",
      "progress = 90.0%\n",
      "progress = 100.0%\n"
     ]
    }
   ],
   "source": [
    "all_token = lemmatization(all_token)"
   ]
  },
  {
   "cell_type": "markdown",
   "metadata": {},
   "source": [
    "all_token\\[0\\~29\\] --> 영화 0번부터 29번까지    \n",
    "all_token\\[0\\]\\[0\\~k\\] --> 0번 영화의 0~k번째 리뷰의 토큰 리스트"
   ]
  },
  {
   "cell_type": "markdown",
   "metadata": {},
   "source": [
    "### Counter를 이용한 영화별 단어 수 체크"
   ]
  },
  {
   "cell_type": "code",
   "execution_count": 17,
   "metadata": {
    "scrolled": true
   },
   "outputs": [
    {
     "name": "stdout",
     "output_type": "stream",
     "text": [
      "Counter({'sexy': 2, 'even': 1, 'know': 1, 'start': 1, 'nothing': 1, 'straight': 1, 'materialism': 1, 'plot': 1, 'normal': 1, 'chemistry': 1, 'two': 1, 'lead': 1, 'allure': 1, 'act': 1, 'natural': 1, 'say': 1, 'watch': 1, 'hot': 1, 'horny': 1, 'good': 1})\n",
      "Counter({'movie': 25, 'woman': 12, 'make': 9, 'fantasy': 8, 'love': 7, 'go': 7, 'take': 7, 'give': 6, 'try': 6, 'like': 6, 'sexual': 6, 'porn': 6, 'male': 5, 'girl': 5, 'play': 5, 'get': 5, 'many': 5, 'fall': 4, 'completely': 4, 'mind': 4, 'understand': 4, 'first': 4, 'place': 4, 'normal': 4, 'see': 4, 'think': 4, 'young': 3, 'one': 3, 'two': 3, 'look': 3, 'film': 3, 'thing': 3, 'lot': 3, 'scenario': 3, 'seem': 3, 'let': 3, 'already': 3, 'feel': 3, 'plot': 3, 'bizarre': 3, 'accept': 3, 'tease': 3, 'end': 3, 'wrong': 3, 'still': 3, 'female': 3, 'also': 3, 'desire': 3, 'turn': 3, 'man': 3, 'live': 3, 'silly': 3, 'enjoy': 3, 'traditional': 3, 'aim': 3, 'men': 3, 'day': 2, 'successful': 2, 'handsome': 2, 'kidnaps': 2, 'year': 2, 'eventually': 2, 'use': 2, 'bad': 2, 'either': 2, 'way': 2, 'light': 2, 'add': 2, 'ludicrous': 2, 'kidnap': 2, 'someone': 2, 'tragic': 2, 'act': 2, 'life': 2, 'start': 2, 'tell': 2, 'another': 2, 'long': 2, 'appear': 2, 'never': 2, 'bother': 2, 'say': 2, 'police': 2, 'half': 2, 'jealous': 2, 'relationship': 2, 'viewer': 2, 'time': 2, 'realize': 2, 'simply': 2, 'lead': 2, 'extremely': 2, 'boyfriend': 2, 'collectively': 2, 'stuff': 2, 'save': 2, 'expensive': 2, 'hand': 2, 'alpha': 2, 'everything': 2, 'come': 2, 'fetish': 2, 'wife': 2, 'watch': 2, 'dominate': 2, 'porno': 2, 'nothing': 2, 'real': 2, 'different': 2, 'public': 2, 'explicit': 2, 'however': 2, 'unhappy': 1, 'whose': 1, 'path': 1, 'cross': 1, 'mafia': 1, 'bos': 1, 'deadline': 1, 'rough': 1, 'introduction': 1, 'charm': 1, 'central': 1, 'core': 1, 'domination': 1, 'protagonist': 1, 'raw': 1, 'masculinity': 1, 'overwhelm': 1, 'lust': 1, 'obvious': 1, 'copycat': 1, 'exactly': 1, 'good': 1, 'least': 1, 'motivation': 1, 'immediately': 1, 'notice': 1, 'draw': 1, 'inspiration': 1, 'collide': 1, 'high': 1, 'speed': 1, 'messy': 1, 'aftermath': 1, 'sell': 1, 'pretty': 1, 'straightforward': 1, 'deeply': 1, 'frustrate': 1, 'set': 1, 'meet': 1, 'assertive': 1, 'gangster': 1, 'meeting': 1, 'craziness': 1, 'intentionally': 1, 'snatch': 1, 'street': 1, 'hold': 1, 'captive': 1, 'manages': 1, 'pick': 1, 'straight': 1, 'svu': 1, 'episode': 1, 'explanation': 1, 'thick': 1, 'layer': 1, 'insanity': 1, 'banana': 1, 'cake': 1, 'event': 1, 'follow': 1, 'astoundingly': 1, 'boggle': 1, 'predicament': 1, 'flirty': 1, 'game': 1, 'cell': 1, 'phone': 1, 'laptop': 1, 'back': 1, 'call': 1, 'family': 1, 'crush': 1, 'abduct': 1, 'purpose': 1, 'derange': 1, 'murderer': 1, 'context': 1, 'sleep': 1, 'kidnapper': 1, 'horrific': 1, 'story': 1, 'poor': 1, 'force': 1, 'break': 1, 'inside': 1, 'fate': 1, 'mistake': 1, 'inevitable': 1, 'truly': 1, 'almost': 1, 'insults': 1, 'intelligence': 1, 'help': 1, 'somber': 1, 'serious': 1, 'word': 1, 'fly': 1, 'window': 1, 'ago': 1, 'even': 1, 'baffle': 1, 'current': 1, 'era': 1, 'fight': 1, 'gender': 1, 'equality': 1, 'struggle': 1, 'great': 1, 'respect': 1, 'movement': 1, 'know': 1, 'incomprehensible': 1, 'sure': 1, 'simple': 1, 'reason': 1, 'exist': 1, 'complete': 1, 'relatable': 1, 'situation': 1, 'vaguely': 1, 'define': 1, 'supposedly': 1, 'job': 1, 'mess': 1, 'deadbeat': 1, 'amalgamation': 1, 'consider': 1, 'trait': 1, 'partner': 1, 'lazy': 1, 'tasteless': 1, 'joke': 1, 'front': 1, 'friend': 1, 'pay': 1, 'attention': 1, 'feeling': 1, 'need': 1, 'shock': 1, 'leaf': 1, 'behind': 1, 'birthday': 1, 'previously': 1, 'agree': 1, 'together': 1, 'indifferent': 1, 'crucial': 1, 'part': 1, 'shortly': 1, 'far': 1, 'generic': 1, 'romantic': 1, 'next': 1, 'step': 1, 'audience': 1, 'expect': 1, 'knight': 1, 'shiny': 1, 'armor': 1, 'dead': 1, 'savior': 1, 'outright': 1, 'threaten': 1, 'house': 1, 'allow': 1, 'leave': 1, 'dangerous': 1, 'criminal': 1, 'dominating': 1, 'grab': 1, 'violently': 1, 'thrash': 1, 'around': 1, 'menacingly': 1, 'state': 1, 'cave': 1, 'rich': 1, 'gigantic': 1, 'castle': 1, 'shop': 1, 'clothes': 1, 'luxurious': 1, 'store': 1, 'refine': 1, 'dinner': 1, 'procures': 1, 'dish': 1, 'tall': 1, 'muscular': 1, 'gruff': 1, 'beard': 1, 'generous': 1, 'amount': 1, 'chest': 1, 'hair': 1, 'gain': 1, 'upper': 1, 'table': 1, 'subdues': 1, 'large': 1, 'textbook': 1, 'definition': 1, 'dance': 1, 'nightclub': 1, 'hero': 1, 'respond': 1, 'shoot': 1, 'offender': 1, 'frown': 1, 'apologizes': 1, 'finally': 1, 'imply': 1, 'ever': 1, 'hop': 1, 'dammit': 1, 'moment': 1, 'something': 1, 'click': 1, 'influence': 1, 'nowhere': 1, 'little': 1, 'dirty': 1, 'heard': 1, 'usually': 1, 'include': 1, 'popular': 1, 'husband': 1, 'roleplay': 1, 'officer': 1, 'catch': 1, 'bandit': 1, 'girlfriend': 1, 'custody': 1, 'interrogation': 1, 'full': 1, 'body': 1, 'search': 1, 'hit': 1, 'logical': 1, 'sense': 1, 'hour': 1, 'bland': 1, 'stand': 1, 'living': 1, 'fantastic': 1, 'outlandish': 1, 'suppose': 1, 'seduce': 1, 'otherwordly': 1, 'vigorously': 1, 'sate': 1, 'niche': 1, 'route': 1, 'bdsm': 1, 'nonsensical': 1, 'serve': 1, 'purely': 1, 'vicariously': 1, 'loud': 1, 'absolutely': 1, 'pure': 1, 'guilty': 1, 'pleasure': 1, 'obviously': 1, 'work': 1, 'world': 1, 'difference': 1, 'cater': 1, 'setup': 1, 'gorgeous': 1, 'gladly': 1, 'demand': 1, 'image': 1, 'intercourse': 1, 'well': 1, 'caters': 1, 'common': 1, 'strong': 1, 'figure': 1, 'trip': 1, 'majestic': 1, 'location': 1, 'focus': 1, 'pleasuring': 1, 'really': 1, 'point': 1, 'market': 1, 'clearly': 1, 'probably': 1, 'shame': 1, 'grossly': 1, 'biased': 1, 'industry': 1, 'okay': 1, 'million': 1, 'flick': 1, 'video': 1, 'moviegoing': 1, 'pops': 1, 'monocle': 1, 'outrage': 1, 'watched': 1, 'seriously': 1, 'complain': 1, 'actually': 1, 'whole': 1, 'lack': 1, 'imagery': 1, 'fool': 1, 'nudity': 1, 'beware': 1, 'convince': 1, 'disappointment': 1, 'ahead': 1})\n",
      "Counter({'first': 2, 'plan': 2, 'keep': 2, 'young': 1, 'upwardly': 1, 'mobile': 1, 'sale': 1, 'professional': 1, 'finally': 1, 'ready': 1, 'invest': 1, 'settle': 1, 'trip': 1, 'fall': 1, 'force': 1, 'man': 1, 'dream': 1, 'alive': 1, 'even': 1, 'mean': 1, 'boyfriend': 1, 'immediate': 1, 'future': 1, 'bay': 1, 'like': 1, 'open': 1, 'mind': 1, 'persuaded': 1, 'remain': 1, 'persuade': 1, 'watch': 1, 'know': 1})\n",
      "Counter({'honestly': 1, 'believe': 1, 'actual': 1, 'movie': 1, 'number': 1, 'country': 1})\n",
      "Counter({'music': 4, 'pop': 2, 'constant': 2, 'scene': 2, 'definitely': 1, 'star': 1, 'movie': 1, 'fact': 1, 'half': 1, 'bad': 1, 'expect': 1, 'glamor': 1, 'mafia': 1, 'sex': 1, 'murder': 1, 'sexual': 1, 'dynamic': 1, 'high': 1, 'livin': 1, 'downer': 1, 'insertion': 1, 'crazy': 1, 'song': 1, 'nearly': 1, 'every': 1, 'want': 1, 'watch': 1, 'video': 1, 'people': 1, 'write': 1, 'score': 1, 'string': 1, 'piano': 1, 'anymore': 1, 'prude': 1, 'love': 1, 'lead': 1, 'character': 1, 'veer': 1, 'pornhub': 1, 'territory': 1, 'go': 1, 'course': 1, 'crap': 1, 'sing': 1, 'background': 1, 'sad': 1, 'end': 1, 'thought': 1, 'die': 1, 'gang': 1, 'war': 1, 'instead': 1, 'happiest': 1, 'anxious': 1, 'plan': 1, 'wed': 1, 'best': 1, 'friend': 1, 'town': 1, 'next': 1, 'time': 1, 'leave': 1, 'show': 1, 'like': 1, 'elite': 1, 'work': 1, 'well': 1})\n",
      "Counter({'movie': 3, 'probably': 2, 'bad': 1, 'ever': 1, 'see': 1, 'dialogue': 1, 'main': 1, 'character': 1, 'unbelievably': 1, 'cringy': 1, 'plot': 1, 'literally': 1, 'make': 1, 'sense': 1, 'watch': 1, 'unless': 1, 'wanna': 1, 'waste': 1, 'hour': 1, 'life': 1, 'give': 1, 'star': 1, 'rating': 1})\n",
      "Counter({'boyfriend': 1, 'wear': 1, 'cargo': 1, 'short': 1, 'pant': 1, 'birthday': 1, 'red': 1, 'flag': 1, 'know': 1})\n",
      "Counter({'cringe': 2, 'level': 1, 'runeth': 1, 'almost': 1, 'bad': 1, 'plot': 1, 'want': 1, 'watch': 1, 'movie': 1, 'drinking': 1, 'game': 1, 'take': 1, 'shot': 1, 'dude': 1, 'waste': 1, 'end': 1})\n",
      "Counter({'like': 4, 'love': 2, 'give': 2, 'enjoyed': 1, 'pleasure': 1, 'money': 1, 'boat': 1, 'shopping': 1, 'movie': 1, 'allow': 1, 'fantasize': 1, 'choice': 1, 'baby': 1, 'face': 1, 'beard': 1, 'music': 1, 'disconnect': 1, 'plot': 1, 'loud': 1, 'hear': 1, 'talk': 1, 'make': 1})\n",
      "Counter({'century': 2, 'beautiful': 1, 'woman': 1, 'screen': 1, 'open': 1, 'mind': 1, 'fun': 1, 'good': 1, 'moment': 1, 'best': 1, 'recent': 1, 'movie': 1})\n",
      "Counter({'movie': 2, 'end': 2, 'boyfriend': 2, 'satisfy': 2, 'romantic': 2, 'want': 1, 'care': 1, 'try': 1, 'win': 1, 'girl': 1, 'heart': 1, 'unfortunate': 1, 'series': 1, 'mishap': 1, 'loser': 1, 'director': 1, 'choose': 1, 'right': 1, 'character': 1, 'fulfill': 1, 'roles': 1, 'writer': 1, 'do': 1, 'well': 1, 'job': 1, 'write': 1, 'get': 1, 'bore': 1, 'even': 1, 'single': 1, 'minute': 1, 'lover': 1, 'love': 1, 'dialogue': 1, 'really': 1, 'attractive': 1, 'able': 1, 'blink': 1, 'moment': 1, 'also': 1, 'unexpected': 1, 'good': 1, 'film': 1, 'like': 1, 'one': 1, 'course': 1})\n",
      "Counter({'read': 1, 'story': 1, 'app': 1, 'movie': 1, 'definitely': 1, 'good': 1, 'reason': 1, 'book': 1, 'never': 1, 'make': 1, 'screen': 1, 'fun': 1, 'ridiculous': 1, 'pathetic': 1})\n",
      "Counter({'kidnap': 1, 'woman': 1, 'smile': 1, 'less': 1, 'hour': 1, 'feed': 1, 'take': 1, 'shopping': 1, 'high': 1, 'end': 1, 'botique': 1, 'captor': 1, 'day': 1, 'captivity': 1, 'spend': 1, 'jetsetting': 1, 'vip': 1, 'club': 1, 'private': 1, 'yacht': 1, 'blow': 1, 'fall': 1, 'love': 1, 'true': 1, 'romance': 1, 'tale': 1, 'age': 1})\n",
      "Counter({'bad': 2, 'take': 2, 'level': 2, 'shade': 1, 'grey': 1, 'twighlight': 1, 'common': 1, 'lure': 1, 'rich': 1, 'handsome': 1, 'boy': 1, 'say': 1, 'movie': 1, 'another': 1, 'instead': 1, 'seduce': 1, 'literally': 1, 'kidnaps': 1, 'handcuff': 1, 'force': 1, 'fall': 1, 'love': 1, 'syndrome': 1, 'next': 1, 'crazy': 1, 'thing': 1, 'still': 1, 'chick': 1, 'flick': 1, 'frankly': 1, 'bit': 1, 'bored': 1, 'relief': 1, 'end': 1, 'abrupt': 1, 'story': 1, 'really': 1, 'seem': 1, 'anywhere': 1, 'reason': 1, 'make': 1, 'far': 1, 'girl': 1, 'attractive': 1})\n",
      "Counter({'movie': 3, 'girl': 3, 'drink': 3, 'woke': 2, 'people': 2, 'guy': 2, 'brute': 2, 'party': 2, 'sex': 2, 'probably': 2, 'good': 2, 'end': 2, 'obviously': 1, 'star': 1, 'act': 1, 'strong': 1, 'love': 1, 'complain': 1, 'fine': 1, 'angry': 1, 'directed': 1, 'country': 1, 'chick': 1, 'flick': 1, 'full': 1, 'consequence': 1, 'spa': 1, 'dance': 1, 'someone': 1, 'else': 1, 'pay': 1, 'accurate': 1, 'top': 1, 'lot': 1, 'shade': 1, 'naked': 1, 'body': 1, 'screen': 1, 'immediately': 1, 'turn': 1, 'irresponsible': 1, 'bad': 1, 'pretty': 1, 'popular': 1, 'year': 1, 'ago': 1, 'engaged': 1, 'watch': 1, 'girlfriend': 1, 'boyfriend': 1, 'get': 1, 'hot': 1, 'heavy': 1, 'unless': 1, 'outrage': 1, 'everything': 1})\n",
      "Counter({'movie': 5, 'even': 4, 'though': 4, 'say': 3, 'read': 2, 'bad': 2, 'people': 2, 'true': 2, 'little': 2, 'want': 2, 'know': 2, 'eachother': 2, 'got': 1, 'caption': 1, 'ever': 1, 'lot': 1, 'spin': 1, 'completey': 1, 'different': 1, 'remember': 1, 'stalk': 1, 'go': 1, 'home': 1, 'willingly': 1, 'force': 1, 'upon': 1, 'multiple': 1, 'time': 1, 'day': 1, 'kidnap': 1, 'top': 1, 'protect': 1, 'behave': 1, 'sexual': 1, 'intercourse': 1, 'next': 1, 'thing': 1, 'get': 1, 'marry': 1, 'month': 1, 'love': 1, 'strong': 1, 'near': 1, 'middle': 1, 'give': 1, 'whatever': 1, 'make': 1, 'sure': 1, 'comfortable': 1, 'book': 1, 'probably': 1, 'well': 1, 'course': 1, 'pretty': 1, 'durable': 1, 'forget': 1, 'nice': 1})\n",
      "Counter({'like': 7, 'kidnap': 3, 'think': 3, 'get': 3, 'end': 3, 'idea': 2, 'badass': 2, 'woman': 2, 'mean': 2, 'hot': 2, 'little': 2, 'yeah': 2, 'sacred': 2, 'tough': 2, 'way': 2, 'guess': 2, 'love': 2, 'lol': 2, 'sad': 2, 'happy': 2, 'actually': 2, 'line': 1, 'well': 1, 'enjoy': 1, 'mafia': 1, 'sexy': 1, 'movie': 1, 'wild': 1, 'dumb': 1, 'stuff': 1, 'crazy': 1, 'let': 1, 'club': 1, 'incident': 1, 'kind': 1, 'disappointment': 1, 'reasonable': 1, 'romantic': 1, 'fine': 1, 'also': 1, 'fell': 1, 'bit': 1, 'fast': 1, 'typical': 1, 'find': 1, 'guy': 1, 'hell': 1, 'scene': 1, 'wow': 1, 'hype': 1, 'gonna': 1, 'omg': 1, 'nooooo': 1, 'disappointed': 1, 'want': 1, 'sequel': 1, 'gotta': 1, 'wed': 1, 'friend': 1, 'bang': 1, 'nope': 1, 'great': 1, 'mind': 1, 'watch': 1, 'second': 1, 'time': 1, 'good': 1, 'fifty': 1, 'shade': 1, 'gray': 1})\n",
      "Counter({'really': 2, 'like': 2, 'get': 2, 'face': 2, 'movie': 1, 'definitely': 1, 'different': 1, 'first': 1, 'kind': 1, 'man': 1, 'clue': 1, 'find': 1, 'want': 1, 'complete': 1, 'opposite': 1, 'wink': 1, 'tongue': 1, 'hope': 1, 'sequel': 1, 'smile': 1, 'heart': 1, 'eye': 1})\n",
      "Counter({'fit': 1, 'ugly': 1, 'enjoy': 1, 'ware': 1, 'female': 1, 'empowerment': 1, 'movie': 1, 'still': 1, 'relationship': 1, 'thuggish': 1, 'tattoeod': 1, 'jerk': 1, 'expect': 1, 'nobility': 1, 'disappoint': 1, 'go': 1, 'realism': 1, 'route': 1, 'action': 1, 'watch': 1})\n",
      "Counter({'something': 2, 'make': 2, 'different': 1, 'taliban': 1, 'movement': 1, 'clearly': 1, 'affect': 1, 'filmmaker': 1, 'want': 1, 'watch': 1, 'movie': 1, 'sexy': 1, 'plot': 1, 'must': 1, 'sequel': 1})\n",
      "Counter({'really': 2, 'like': 2, 'movie': 2, 'dead': 2, 'body': 2, 'entertain': 1, 'sex': 1, 'scene': 1, 'steamy': 1, 'annoy': 1, 'kept': 1, 'grab': 1, 'neck': 1, 'surprise': 1, 'month': 1, 'go': 1, 'feel': 1, 'time': 1, 'realistic': 1, 'yes': 1, 'know': 1, 'expect': 1, 'die': 1, 'end': 1, 'however': 1, 'horror': 1, 'see': 1, 'believe': 1})\n",
      "Counter({'like': 14, 'act': 5, 'movie': 4, 'really': 4, 'kidnap': 4, 'get': 4, 'know': 3, 'man': 3, 'male': 3, 'character': 3, 'time': 3, 'bad': 3, 'scene': 3, 'lead': 3, 'watch': 3, 'good': 2, 'idea': 2, 'train': 2, 'wreck': 2, 'multiple': 2, 'reason': 2, 'big': 2, 'issue': 2, 'hold': 2, 'woman': 2, 'captive': 2, 'make': 2, 'assault': 2, 'different': 2, 'montage': 2, 'song': 2, 'country': 2, 'day': 2, 'audience': 2, 'boyfriend': 2, 'think': 2, 'away': 2, 'scar': 2, 'direction': 2, 'give': 2, 'script': 2, 'also': 2, 'one': 2, 'want': 2, 'honestly': 1, 'thought': 1, 'complete': 1, 'plot': 1, 'nonsense': 1, 'inappropriate': 1, 'deice': 1, 'love': 1, 'romanticise': 1, 'creep': 1, 'female': 1, 'show': 1, 'thing': 1, 'power': 1, 'variation': 1, 'broken': 1, 'random': 1, 'played': 1, 'action': 1, 'nonsensical': 1, 'foreign': 1, 'next': 1, 'shop': 1, 'woo': 1, 'buy': 1, 'new': 1, 'clothes': 1, 'happen': 1, 'terrified': 1, 'fine': 1, 'feel': 1, 'try': 1, 'side': 1, 'current': 1, 'horrible': 1, 'person': 1, 'mobster': 1, 'second': 1, 'lot': 1, 'interact': 1, 'amateur': 1, 'dramatics': 1, 'troupe': 1, 'half': 1, 'work': 1, 'never': 1, 'seem': 1, 'deiced': 1, 'say': 1, 'literally': 1, 'wake': 1, 'tried': 1, 'open': 1, 'door': 1, 'lock': 1, 'fair': 1, 'enough': 1, 'sits': 1, 'happens': 1, 'every': 1, 'top': 1, 'push': 1, 'wall': 1, 'stuff': 1, 'pull': 1, 'model': 1, 'face': 1, 'help': 1, 'rely': 1, 'heavily': 1, 'loud': 1, 'unnecessary': 1, 'constantly': 1, 'play': 1, 'reading': 1, 'find': 1, 'sung': 1, 'chunk': 1, 'guess': 1, 'production': 1, 'well': 1, 'cheep': 1, 'let': 1, 'throw': 1, 'problem': 1, 'circle': 1, 'back': 1, 'direct': 1, 'perfect': 1, 'storm': 1, 'watchable': 1, 'way': 1, 'see': 1, 'disaster': 1, 'view': 1, 'film': 1, 'large': 1, 'amount': 1, 'moment': 1, 'believe': 1, 'boring': 1})\n"
     ]
    }
   ],
   "source": [
    "# 25 index가 리뷰 수가 가장 적음\n",
    "from collections import Counter\n",
    "\n",
    "for i in range(1):\n",
    "    for j in range(len(all_token[25])):\n",
    "        counter = Counter(all_token[i][j])\n",
    "        print(counter)"
   ]
  },
  {
   "cell_type": "code",
   "execution_count": null,
   "metadata": {},
   "outputs": [],
   "source": []
  }
 ],
 "metadata": {
  "kernelspec": {
   "display_name": "Python 3",
   "language": "python",
   "name": "python3"
  },
  "language_info": {
   "codemirror_mode": {
    "name": "ipython",
    "version": 3
   },
   "file_extension": ".py",
   "mimetype": "text/x-python",
   "name": "python",
   "nbconvert_exporter": "python",
   "pygments_lexer": "ipython3",
   "version": "3.7.1"
  }
 },
 "nbformat": 4,
 "nbformat_minor": 4
}
